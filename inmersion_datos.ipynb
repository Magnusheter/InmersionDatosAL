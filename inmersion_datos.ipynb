{
  "nbformat": 4,
  "nbformat_minor": 0,
  "metadata": {
    "colab": {
      "provenance": [],
      "authorship_tag": "ABX9TyOjFZKB2fPd7oOBUdGFhILr",
      "include_colab_link": true
    },
    "kernelspec": {
      "name": "python3",
      "display_name": "Python 3"
    },
    "language_info": {
      "name": "python"
    }
  },
  "cells": [
    {
      "cell_type": "markdown",
      "metadata": {
        "id": "view-in-github",
        "colab_type": "text"
      },
      "source": [
        "<a href=\"https://colab.research.google.com/github/Magnusheter/InmersionDatosAL/blob/main/inmersion_datos.ipynb\" target=\"_parent\"><img src=\"https://colab.research.google.com/assets/colab-badge.svg\" alt=\"Open In Colab\"/></a>"
      ]
    },
    {
      "cell_type": "markdown",
      "source": [
        "Bienvenidos a nuestros primer encuentro de inmersion de datos"
      ],
      "metadata": {
        "id": "3KIhOWlzrkby"
      }
    },
    {
      "cell_type": "markdown",
      "source": [
        "# **AULA #1**\n",
        "\n",
        "---\n",
        "\n",
        "\n"
      ],
      "metadata": {
        "id": "t4C2mu8qSmg5"
      }
    },
    {
      "cell_type": "code",
      "source": [
        "from google.colab import drive\n",
        "drive.mount('/content/drive')"
      ],
      "metadata": {
        "colab": {
          "base_uri": "https://localhost:8080/"
        },
        "id": "D5AutcYmtDkp",
        "outputId": "150891d2-f3e9-4d57-bd2a-cdab9fc3d693"
      },
      "execution_count": null,
      "outputs": [
        {
          "output_type": "stream",
          "name": "stdout",
          "text": [
            "Mounted at /content/drive\n"
          ]
        }
      ]
    },
    {
      "cell_type": "code",
      "execution_count": null,
      "metadata": {
        "colab": {
          "base_uri": "https://localhost:8080/"
        },
        "id": "X18_0E9erJs5",
        "outputId": "b93bfe1f-c51b-433b-c12f-92df8cd6d359"
      },
      "outputs": [
        {
          "output_type": "execute_result",
          "data": {
            "text/plain": [
              "          Tipo                                 Descripcion  Habitaciones  \\\n",
              "0  Apartamento  Apartamento en venta en Zona Noroccidental             3   \n",
              "1         Casa                   Casa en venta en Castilla             4   \n",
              "2  Apartamento     Apartamento en venta en Chico Reservado             3   \n",
              "3  Apartamento             Apartamento en venta en Usaquén             3   \n",
              "4  Apartamento         Apartamento en venta en Bella Suiza             2   \n",
              "\n",
              "   Baños  Área              Barrio                                    UPZ  \\\n",
              "0      2    70  Zona Noroccidental     CHAPINERO: Pardo Rubio + Chapinero   \n",
              "1      3   170            Castilla            KENNEDY: Castilla + Bavaria   \n",
              "2      3   144     Chico Reservado     CHAPINERO: Chicó Lago + El Refugio   \n",
              "3      2   154             Usaquén                                Usaquén   \n",
              "4      3   128         Bella Suiza  USAQUÉN: Country Club + Santa Bárbara   \n",
              "\n",
              "             Valor  \n",
              "0    $ 360.000.000  \n",
              "1    $ 670.000.000  \n",
              "2  $ 1.120.000.000  \n",
              "3    $ 890.000.000  \n",
              "4    $ 970.000.000  "
            ],
            "text/html": [
              "\n",
              "  <div id=\"df-b1672fce-1aa8-4acd-b878-a956eadb9fa3\">\n",
              "    <div class=\"colab-df-container\">\n",
              "      <div>\n",
              "<style scoped>\n",
              "    .dataframe tbody tr th:only-of-type {\n",
              "        vertical-align: middle;\n",
              "    }\n",
              "\n",
              "    .dataframe tbody tr th {\n",
              "        vertical-align: top;\n",
              "    }\n",
              "\n",
              "    .dataframe thead th {\n",
              "        text-align: right;\n",
              "    }\n",
              "</style>\n",
              "<table border=\"1\" class=\"dataframe\">\n",
              "  <thead>\n",
              "    <tr style=\"text-align: right;\">\n",
              "      <th></th>\n",
              "      <th>Tipo</th>\n",
              "      <th>Descripcion</th>\n",
              "      <th>Habitaciones</th>\n",
              "      <th>Baños</th>\n",
              "      <th>Área</th>\n",
              "      <th>Barrio</th>\n",
              "      <th>UPZ</th>\n",
              "      <th>Valor</th>\n",
              "    </tr>\n",
              "  </thead>\n",
              "  <tbody>\n",
              "    <tr>\n",
              "      <th>0</th>\n",
              "      <td>Apartamento</td>\n",
              "      <td>Apartamento en venta en Zona Noroccidental</td>\n",
              "      <td>3</td>\n",
              "      <td>2</td>\n",
              "      <td>70</td>\n",
              "      <td>Zona Noroccidental</td>\n",
              "      <td>CHAPINERO: Pardo Rubio + Chapinero</td>\n",
              "      <td>$ 360.000.000</td>\n",
              "    </tr>\n",
              "    <tr>\n",
              "      <th>1</th>\n",
              "      <td>Casa</td>\n",
              "      <td>Casa en venta en Castilla</td>\n",
              "      <td>4</td>\n",
              "      <td>3</td>\n",
              "      <td>170</td>\n",
              "      <td>Castilla</td>\n",
              "      <td>KENNEDY: Castilla + Bavaria</td>\n",
              "      <td>$ 670.000.000</td>\n",
              "    </tr>\n",
              "    <tr>\n",
              "      <th>2</th>\n",
              "      <td>Apartamento</td>\n",
              "      <td>Apartamento en venta en Chico Reservado</td>\n",
              "      <td>3</td>\n",
              "      <td>3</td>\n",
              "      <td>144</td>\n",
              "      <td>Chico Reservado</td>\n",
              "      <td>CHAPINERO: Chicó Lago + El Refugio</td>\n",
              "      <td>$ 1.120.000.000</td>\n",
              "    </tr>\n",
              "    <tr>\n",
              "      <th>3</th>\n",
              "      <td>Apartamento</td>\n",
              "      <td>Apartamento en venta en Usaquén</td>\n",
              "      <td>3</td>\n",
              "      <td>2</td>\n",
              "      <td>154</td>\n",
              "      <td>Usaquén</td>\n",
              "      <td>Usaquén</td>\n",
              "      <td>$ 890.000.000</td>\n",
              "    </tr>\n",
              "    <tr>\n",
              "      <th>4</th>\n",
              "      <td>Apartamento</td>\n",
              "      <td>Apartamento en venta en Bella Suiza</td>\n",
              "      <td>2</td>\n",
              "      <td>3</td>\n",
              "      <td>128</td>\n",
              "      <td>Bella Suiza</td>\n",
              "      <td>USAQUÉN: Country Club + Santa Bárbara</td>\n",
              "      <td>$ 970.000.000</td>\n",
              "    </tr>\n",
              "  </tbody>\n",
              "</table>\n",
              "</div>\n",
              "      <button class=\"colab-df-convert\" onclick=\"convertToInteractive('df-b1672fce-1aa8-4acd-b878-a956eadb9fa3')\"\n",
              "              title=\"Convert this dataframe to an interactive table.\"\n",
              "              style=\"display:none;\">\n",
              "        \n",
              "  <svg xmlns=\"http://www.w3.org/2000/svg\" height=\"24px\"viewBox=\"0 0 24 24\"\n",
              "       width=\"24px\">\n",
              "    <path d=\"M0 0h24v24H0V0z\" fill=\"none\"/>\n",
              "    <path d=\"M18.56 5.44l.94 2.06.94-2.06 2.06-.94-2.06-.94-.94-2.06-.94 2.06-2.06.94zm-11 1L8.5 8.5l.94-2.06 2.06-.94-2.06-.94L8.5 2.5l-.94 2.06-2.06.94zm10 10l.94 2.06.94-2.06 2.06-.94-2.06-.94-.94-2.06-.94 2.06-2.06.94z\"/><path d=\"M17.41 7.96l-1.37-1.37c-.4-.4-.92-.59-1.43-.59-.52 0-1.04.2-1.43.59L10.3 9.45l-7.72 7.72c-.78.78-.78 2.05 0 2.83L4 21.41c.39.39.9.59 1.41.59.51 0 1.02-.2 1.41-.59l7.78-7.78 2.81-2.81c.8-.78.8-2.07 0-2.86zM5.41 20L4 18.59l7.72-7.72 1.47 1.35L5.41 20z\"/>\n",
              "  </svg>\n",
              "      </button>\n",
              "      \n",
              "  <style>\n",
              "    .colab-df-container {\n",
              "      display:flex;\n",
              "      flex-wrap:wrap;\n",
              "      gap: 12px;\n",
              "    }\n",
              "\n",
              "    .colab-df-convert {\n",
              "      background-color: #E8F0FE;\n",
              "      border: none;\n",
              "      border-radius: 50%;\n",
              "      cursor: pointer;\n",
              "      display: none;\n",
              "      fill: #1967D2;\n",
              "      height: 32px;\n",
              "      padding: 0 0 0 0;\n",
              "      width: 32px;\n",
              "    }\n",
              "\n",
              "    .colab-df-convert:hover {\n",
              "      background-color: #E2EBFA;\n",
              "      box-shadow: 0px 1px 2px rgba(60, 64, 67, 0.3), 0px 1px 3px 1px rgba(60, 64, 67, 0.15);\n",
              "      fill: #174EA6;\n",
              "    }\n",
              "\n",
              "    [theme=dark] .colab-df-convert {\n",
              "      background-color: #3B4455;\n",
              "      fill: #D2E3FC;\n",
              "    }\n",
              "\n",
              "    [theme=dark] .colab-df-convert:hover {\n",
              "      background-color: #434B5C;\n",
              "      box-shadow: 0px 1px 3px 1px rgba(0, 0, 0, 0.15);\n",
              "      filter: drop-shadow(0px 1px 2px rgba(0, 0, 0, 0.3));\n",
              "      fill: #FFFFFF;\n",
              "    }\n",
              "  </style>\n",
              "\n",
              "      <script>\n",
              "        const buttonEl =\n",
              "          document.querySelector('#df-b1672fce-1aa8-4acd-b878-a956eadb9fa3 button.colab-df-convert');\n",
              "        buttonEl.style.display =\n",
              "          google.colab.kernel.accessAllowed ? 'block' : 'none';\n",
              "\n",
              "        async function convertToInteractive(key) {\n",
              "          const element = document.querySelector('#df-b1672fce-1aa8-4acd-b878-a956eadb9fa3');\n",
              "          const dataTable =\n",
              "            await google.colab.kernel.invokeFunction('convertToInteractive',\n",
              "                                                     [key], {});\n",
              "          if (!dataTable) return;\n",
              "\n",
              "          const docLinkHtml = 'Like what you see? Visit the ' +\n",
              "            '<a target=\"_blank\" href=https://colab.research.google.com/notebooks/data_table.ipynb>data table notebook</a>'\n",
              "            + ' to learn more about interactive tables.';\n",
              "          element.innerHTML = '';\n",
              "          dataTable['output_type'] = 'display_data';\n",
              "          await google.colab.output.renderOutput(dataTable, element);\n",
              "          const docLink = document.createElement('div');\n",
              "          docLink.innerHTML = docLinkHtml;\n",
              "          element.appendChild(docLink);\n",
              "        }\n",
              "      </script>\n",
              "    </div>\n",
              "  </div>\n",
              "  "
            ]
          },
          "metadata": {},
          "execution_count": 2
        }
      ],
      "source": [
        "import pandas as pd\n",
        "\n",
        "inmueble=pd.read_csv('/content/drive/MyDrive/Alura/Inmersiones/Analisis de Datos/Aula 01/inmuebles_bogota.csv')\n",
        "\n",
        "inmueble.head()"
      ]
    },
    {
      "cell_type": "code",
      "source": [
        "inmueble.shape"
      ],
      "metadata": {
        "colab": {
          "base_uri": "https://localhost:8080/"
        },
        "id": "1YrN_sCZru_L",
        "outputId": "d9d3fda9-fd4c-44d4-aaca-8fd560b294d1"
      },
      "execution_count": null,
      "outputs": [
        {
          "output_type": "execute_result",
          "data": {
            "text/plain": [
              "(9520, 8)"
            ]
          },
          "metadata": {},
          "execution_count": 3
        }
      ]
    },
    {
      "cell_type": "code",
      "source": [
        "inmueble.columns"
      ],
      "metadata": {
        "colab": {
          "base_uri": "https://localhost:8080/"
        },
        "id": "AolNV6mq1gke",
        "outputId": "c4a4ce9e-85eb-4ec1-b8d5-8e9a8dd48009"
      },
      "execution_count": null,
      "outputs": [
        {
          "output_type": "execute_result",
          "data": {
            "text/plain": [
              "Index(['Tipo', 'Descripcion', 'Habitaciones', 'Baños', 'Área', 'Barrio', 'UPZ',\n",
              "       'Valor'],\n",
              "      dtype='object')"
            ]
          },
          "metadata": {},
          "execution_count": 4
        }
      ]
    },
    {
      "cell_type": "code",
      "source": [
        "columnas = {'Baños':'Banos','Área':'Area'}\n",
        "inmueble = inmueble.rename(columns=columnas)\n",
        "inmueble.sample(10)"
      ],
      "metadata": {
        "colab": {
          "base_uri": "https://localhost:8080/"
        },
        "id": "B4Xk1KLZ3Yww",
        "outputId": "3c6af089-3208-40a2-9ddf-6953ead592af"
      },
      "execution_count": null,
      "outputs": [
        {
          "output_type": "execute_result",
          "data": {
            "text/plain": [
              "                     Tipo                                Descripcion  \\\n",
              "9344          Apartamento           Apartamento en venta en El Batán   \n",
              "3742                 Casa        Casa en venta en Zona Noroccidental   \n",
              "6099                 Casa        Casa en venta en Zona Noroccidental   \n",
              "9174          Apartamento               Apartamento en venta en Usme   \n",
              "6805                 Casa                   Casa en venta en Boyaca    \n",
              "5706          Apartamento        Apartamento en venta en Los Rosales   \n",
              "9421                 Casa                   Casa en venta en Kennedy   \n",
              "4775          Apartamento     Apartamento en venta en Barrios Unidos   \n",
              "2317  Oficina/Consultorio  Oficina/Consultorio en venta en Chapinero   \n",
              "6421          Apartamento   Apartamento en venta en Colina Campestre   \n",
              "\n",
              "      Habitaciones  Banos  Area              Barrio  \\\n",
              "9344             3      2    68            El Batán   \n",
              "3742             5      6   550  Zona Noroccidental   \n",
              "6099             3      2    82  Zona Noroccidental   \n",
              "9174             3      2    49                Usme   \n",
              "6805             3      3   290             Boyaca    \n",
              "5706             3      3   120         Los Rosales   \n",
              "9421             6      3   120             Kennedy   \n",
              "4775             2      1    36      Barrios Unidos   \n",
              "2317             1      1    21           Chapinero   \n",
              "6421             3      3    94    Colina Campestre   \n",
              "\n",
              "                                     UPZ            Valor  \n",
              "9344                         La Alhambra    $ 400.000.000  \n",
              "3742  CHAPINERO: Pardo Rubio + Chapinero  $ 3.850.000.000  \n",
              "6099  CHAPINERO: Pardo Rubio + Chapinero    $ 285.000.000  \n",
              "9174   USME: Alfonso López + Ciudad Usme     $ 93.000.000  \n",
              "6805                         Boyacá Real    $ 650.000.000  \n",
              "5706  CHAPINERO: Chicó Lago + El Refugio    $ 750.000.000  \n",
              "9421                     Kennedy Central    $ 370.000.000  \n",
              "4775                           Los Andes    $ 100.000.000  \n",
              "2317  CHAPINERO: Pardo Rubio + Chapinero    $ 130.000.000  \n",
              "6421                                Niza    $ 520.000.000  "
            ],
            "text/html": [
              "\n",
              "  <div id=\"df-68ecff2a-3b36-4aff-b51c-ef486f7effb2\">\n",
              "    <div class=\"colab-df-container\">\n",
              "      <div>\n",
              "<style scoped>\n",
              "    .dataframe tbody tr th:only-of-type {\n",
              "        vertical-align: middle;\n",
              "    }\n",
              "\n",
              "    .dataframe tbody tr th {\n",
              "        vertical-align: top;\n",
              "    }\n",
              "\n",
              "    .dataframe thead th {\n",
              "        text-align: right;\n",
              "    }\n",
              "</style>\n",
              "<table border=\"1\" class=\"dataframe\">\n",
              "  <thead>\n",
              "    <tr style=\"text-align: right;\">\n",
              "      <th></th>\n",
              "      <th>Tipo</th>\n",
              "      <th>Descripcion</th>\n",
              "      <th>Habitaciones</th>\n",
              "      <th>Banos</th>\n",
              "      <th>Area</th>\n",
              "      <th>Barrio</th>\n",
              "      <th>UPZ</th>\n",
              "      <th>Valor</th>\n",
              "    </tr>\n",
              "  </thead>\n",
              "  <tbody>\n",
              "    <tr>\n",
              "      <th>9344</th>\n",
              "      <td>Apartamento</td>\n",
              "      <td>Apartamento en venta en El Batán</td>\n",
              "      <td>3</td>\n",
              "      <td>2</td>\n",
              "      <td>68</td>\n",
              "      <td>El Batán</td>\n",
              "      <td>La Alhambra</td>\n",
              "      <td>$ 400.000.000</td>\n",
              "    </tr>\n",
              "    <tr>\n",
              "      <th>3742</th>\n",
              "      <td>Casa</td>\n",
              "      <td>Casa en venta en Zona Noroccidental</td>\n",
              "      <td>5</td>\n",
              "      <td>6</td>\n",
              "      <td>550</td>\n",
              "      <td>Zona Noroccidental</td>\n",
              "      <td>CHAPINERO: Pardo Rubio + Chapinero</td>\n",
              "      <td>$ 3.850.000.000</td>\n",
              "    </tr>\n",
              "    <tr>\n",
              "      <th>6099</th>\n",
              "      <td>Casa</td>\n",
              "      <td>Casa en venta en Zona Noroccidental</td>\n",
              "      <td>3</td>\n",
              "      <td>2</td>\n",
              "      <td>82</td>\n",
              "      <td>Zona Noroccidental</td>\n",
              "      <td>CHAPINERO: Pardo Rubio + Chapinero</td>\n",
              "      <td>$ 285.000.000</td>\n",
              "    </tr>\n",
              "    <tr>\n",
              "      <th>9174</th>\n",
              "      <td>Apartamento</td>\n",
              "      <td>Apartamento en venta en Usme</td>\n",
              "      <td>3</td>\n",
              "      <td>2</td>\n",
              "      <td>49</td>\n",
              "      <td>Usme</td>\n",
              "      <td>USME: Alfonso López + Ciudad Usme</td>\n",
              "      <td>$ 93.000.000</td>\n",
              "    </tr>\n",
              "    <tr>\n",
              "      <th>6805</th>\n",
              "      <td>Casa</td>\n",
              "      <td>Casa en venta en Boyaca</td>\n",
              "      <td>3</td>\n",
              "      <td>3</td>\n",
              "      <td>290</td>\n",
              "      <td>Boyaca</td>\n",
              "      <td>Boyacá Real</td>\n",
              "      <td>$ 650.000.000</td>\n",
              "    </tr>\n",
              "    <tr>\n",
              "      <th>5706</th>\n",
              "      <td>Apartamento</td>\n",
              "      <td>Apartamento en venta en Los Rosales</td>\n",
              "      <td>3</td>\n",
              "      <td>3</td>\n",
              "      <td>120</td>\n",
              "      <td>Los Rosales</td>\n",
              "      <td>CHAPINERO: Chicó Lago + El Refugio</td>\n",
              "      <td>$ 750.000.000</td>\n",
              "    </tr>\n",
              "    <tr>\n",
              "      <th>9421</th>\n",
              "      <td>Casa</td>\n",
              "      <td>Casa en venta en Kennedy</td>\n",
              "      <td>6</td>\n",
              "      <td>3</td>\n",
              "      <td>120</td>\n",
              "      <td>Kennedy</td>\n",
              "      <td>Kennedy Central</td>\n",
              "      <td>$ 370.000.000</td>\n",
              "    </tr>\n",
              "    <tr>\n",
              "      <th>4775</th>\n",
              "      <td>Apartamento</td>\n",
              "      <td>Apartamento en venta en Barrios Unidos</td>\n",
              "      <td>2</td>\n",
              "      <td>1</td>\n",
              "      <td>36</td>\n",
              "      <td>Barrios Unidos</td>\n",
              "      <td>Los Andes</td>\n",
              "      <td>$ 100.000.000</td>\n",
              "    </tr>\n",
              "    <tr>\n",
              "      <th>2317</th>\n",
              "      <td>Oficina/Consultorio</td>\n",
              "      <td>Oficina/Consultorio en venta en Chapinero</td>\n",
              "      <td>1</td>\n",
              "      <td>1</td>\n",
              "      <td>21</td>\n",
              "      <td>Chapinero</td>\n",
              "      <td>CHAPINERO: Pardo Rubio + Chapinero</td>\n",
              "      <td>$ 130.000.000</td>\n",
              "    </tr>\n",
              "    <tr>\n",
              "      <th>6421</th>\n",
              "      <td>Apartamento</td>\n",
              "      <td>Apartamento en venta en Colina Campestre</td>\n",
              "      <td>3</td>\n",
              "      <td>3</td>\n",
              "      <td>94</td>\n",
              "      <td>Colina Campestre</td>\n",
              "      <td>Niza</td>\n",
              "      <td>$ 520.000.000</td>\n",
              "    </tr>\n",
              "  </tbody>\n",
              "</table>\n",
              "</div>\n",
              "      <button class=\"colab-df-convert\" onclick=\"convertToInteractive('df-68ecff2a-3b36-4aff-b51c-ef486f7effb2')\"\n",
              "              title=\"Convert this dataframe to an interactive table.\"\n",
              "              style=\"display:none;\">\n",
              "        \n",
              "  <svg xmlns=\"http://www.w3.org/2000/svg\" height=\"24px\"viewBox=\"0 0 24 24\"\n",
              "       width=\"24px\">\n",
              "    <path d=\"M0 0h24v24H0V0z\" fill=\"none\"/>\n",
              "    <path d=\"M18.56 5.44l.94 2.06.94-2.06 2.06-.94-2.06-.94-.94-2.06-.94 2.06-2.06.94zm-11 1L8.5 8.5l.94-2.06 2.06-.94-2.06-.94L8.5 2.5l-.94 2.06-2.06.94zm10 10l.94 2.06.94-2.06 2.06-.94-2.06-.94-.94-2.06-.94 2.06-2.06.94z\"/><path d=\"M17.41 7.96l-1.37-1.37c-.4-.4-.92-.59-1.43-.59-.52 0-1.04.2-1.43.59L10.3 9.45l-7.72 7.72c-.78.78-.78 2.05 0 2.83L4 21.41c.39.39.9.59 1.41.59.51 0 1.02-.2 1.41-.59l7.78-7.78 2.81-2.81c.8-.78.8-2.07 0-2.86zM5.41 20L4 18.59l7.72-7.72 1.47 1.35L5.41 20z\"/>\n",
              "  </svg>\n",
              "      </button>\n",
              "      \n",
              "  <style>\n",
              "    .colab-df-container {\n",
              "      display:flex;\n",
              "      flex-wrap:wrap;\n",
              "      gap: 12px;\n",
              "    }\n",
              "\n",
              "    .colab-df-convert {\n",
              "      background-color: #E8F0FE;\n",
              "      border: none;\n",
              "      border-radius: 50%;\n",
              "      cursor: pointer;\n",
              "      display: none;\n",
              "      fill: #1967D2;\n",
              "      height: 32px;\n",
              "      padding: 0 0 0 0;\n",
              "      width: 32px;\n",
              "    }\n",
              "\n",
              "    .colab-df-convert:hover {\n",
              "      background-color: #E2EBFA;\n",
              "      box-shadow: 0px 1px 2px rgba(60, 64, 67, 0.3), 0px 1px 3px 1px rgba(60, 64, 67, 0.15);\n",
              "      fill: #174EA6;\n",
              "    }\n",
              "\n",
              "    [theme=dark] .colab-df-convert {\n",
              "      background-color: #3B4455;\n",
              "      fill: #D2E3FC;\n",
              "    }\n",
              "\n",
              "    [theme=dark] .colab-df-convert:hover {\n",
              "      background-color: #434B5C;\n",
              "      box-shadow: 0px 1px 3px 1px rgba(0, 0, 0, 0.15);\n",
              "      filter: drop-shadow(0px 1px 2px rgba(0, 0, 0, 0.3));\n",
              "      fill: #FFFFFF;\n",
              "    }\n",
              "  </style>\n",
              "\n",
              "      <script>\n",
              "        const buttonEl =\n",
              "          document.querySelector('#df-68ecff2a-3b36-4aff-b51c-ef486f7effb2 button.colab-df-convert');\n",
              "        buttonEl.style.display =\n",
              "          google.colab.kernel.accessAllowed ? 'block' : 'none';\n",
              "\n",
              "        async function convertToInteractive(key) {\n",
              "          const element = document.querySelector('#df-68ecff2a-3b36-4aff-b51c-ef486f7effb2');\n",
              "          const dataTable =\n",
              "            await google.colab.kernel.invokeFunction('convertToInteractive',\n",
              "                                                     [key], {});\n",
              "          if (!dataTable) return;\n",
              "\n",
              "          const docLinkHtml = 'Like what you see? Visit the ' +\n",
              "            '<a target=\"_blank\" href=https://colab.research.google.com/notebooks/data_table.ipynb>data table notebook</a>'\n",
              "            + ' to learn more about interactive tables.';\n",
              "          element.innerHTML = '';\n",
              "          dataTable['output_type'] = 'display_data';\n",
              "          await google.colab.output.renderOutput(dataTable, element);\n",
              "          const docLink = document.createElement('div');\n",
              "          docLink.innerHTML = docLinkHtml;\n",
              "          element.appendChild(docLink);\n",
              "        }\n",
              "      </script>\n",
              "    </div>\n",
              "  </div>\n",
              "  "
            ]
          },
          "metadata": {},
          "execution_count": 5
        }
      ]
    },
    {
      "cell_type": "code",
      "source": [
        "inmueble.info()"
      ],
      "metadata": {
        "colab": {
          "base_uri": "https://localhost:8080/"
        },
        "id": "g3WhOywj40aI",
        "outputId": "6f65ca31-acb3-4488-a827-72caedd23a46"
      },
      "execution_count": null,
      "outputs": [
        {
          "output_type": "stream",
          "name": "stdout",
          "text": [
            "<class 'pandas.core.frame.DataFrame'>\n",
            "RangeIndex: 9520 entries, 0 to 9519\n",
            "Data columns (total 8 columns):\n",
            " #   Column        Non-Null Count  Dtype \n",
            "---  ------        --------------  ----- \n",
            " 0   Tipo          9520 non-null   object\n",
            " 1   Descripcion   9520 non-null   object\n",
            " 2   Habitaciones  9520 non-null   int64 \n",
            " 3   Banos         9520 non-null   int64 \n",
            " 4   Area          9520 non-null   int64 \n",
            " 5   Barrio        9520 non-null   object\n",
            " 6   UPZ           9478 non-null   object\n",
            " 7   Valor         9520 non-null   object\n",
            "dtypes: int64(3), object(5)\n",
            "memory usage: 595.1+ KB\n"
          ]
        }
      ]
    },
    {
      "cell_type": "code",
      "source": [
        "inmueble.iloc[300]"
      ],
      "metadata": {
        "colab": {
          "base_uri": "https://localhost:8080/"
        },
        "id": "93kL5hvfWx9X",
        "outputId": "81d559f7-4626-4b99-f87f-29e5281b6239"
      },
      "execution_count": null,
      "outputs": [
        {
          "output_type": "execute_result",
          "data": {
            "text/plain": [
              "Tipo                                Apartamento\n",
              "Descripcion     Apartamento en venta en Kennedy\n",
              "Habitaciones                                  2\n",
              "Banos                                         1\n",
              "Area                                         42\n",
              "Barrio                                  Kennedy\n",
              "UPZ                             Kennedy Central\n",
              "Valor                             $ 116.100.000\n",
              "Name: 300, dtype: object"
            ]
          },
          "metadata": {},
          "execution_count": 7
        }
      ]
    },
    {
      "cell_type": "code",
      "source": [
        "inmueble.iloc[300:305]"
      ],
      "metadata": {
        "colab": {
          "base_uri": "https://localhost:8080/"
        },
        "id": "xh-FyZu_XMYW",
        "outputId": "a824f476-68bb-41ba-d659-20d269e22843"
      },
      "execution_count": null,
      "outputs": [
        {
          "output_type": "execute_result",
          "data": {
            "text/plain": [
              "            Tipo                          Descripcion  Habitaciones  Banos  \\\n",
              "300  Apartamento      Apartamento en venta en Kennedy             2      1   \n",
              "301  Apartamento  Apartamento en venta en Chico Norte             2      2   \n",
              "302  Apartamento      Apartamento en venta en Kennedy             3      2   \n",
              "303  Apartamento      Apartamento en venta en Kennedy             3      2   \n",
              "304  Apartamento     Apartamento en venta en Cedritos             4      4   \n",
              "\n",
              "     Area       Barrio                                 UPZ          Valor  \n",
              "300    42      Kennedy                     Kennedy Central  $ 116.100.000  \n",
              "301    95  Chico Norte  CHAPINERO: Chicó Lago + El Refugio  $ 980.000.000  \n",
              "302    54      Kennedy                     Kennedy Central  $ 237.000.000  \n",
              "303    67      Kennedy                     Kennedy Central  $ 320.000.000  \n",
              "304   132     Cedritos                             Usaquén  $ 530.000.000  "
            ],
            "text/html": [
              "\n",
              "  <div id=\"df-85a14b3c-310d-4489-b476-0cc42dc1a45f\">\n",
              "    <div class=\"colab-df-container\">\n",
              "      <div>\n",
              "<style scoped>\n",
              "    .dataframe tbody tr th:only-of-type {\n",
              "        vertical-align: middle;\n",
              "    }\n",
              "\n",
              "    .dataframe tbody tr th {\n",
              "        vertical-align: top;\n",
              "    }\n",
              "\n",
              "    .dataframe thead th {\n",
              "        text-align: right;\n",
              "    }\n",
              "</style>\n",
              "<table border=\"1\" class=\"dataframe\">\n",
              "  <thead>\n",
              "    <tr style=\"text-align: right;\">\n",
              "      <th></th>\n",
              "      <th>Tipo</th>\n",
              "      <th>Descripcion</th>\n",
              "      <th>Habitaciones</th>\n",
              "      <th>Banos</th>\n",
              "      <th>Area</th>\n",
              "      <th>Barrio</th>\n",
              "      <th>UPZ</th>\n",
              "      <th>Valor</th>\n",
              "    </tr>\n",
              "  </thead>\n",
              "  <tbody>\n",
              "    <tr>\n",
              "      <th>300</th>\n",
              "      <td>Apartamento</td>\n",
              "      <td>Apartamento en venta en Kennedy</td>\n",
              "      <td>2</td>\n",
              "      <td>1</td>\n",
              "      <td>42</td>\n",
              "      <td>Kennedy</td>\n",
              "      <td>Kennedy Central</td>\n",
              "      <td>$ 116.100.000</td>\n",
              "    </tr>\n",
              "    <tr>\n",
              "      <th>301</th>\n",
              "      <td>Apartamento</td>\n",
              "      <td>Apartamento en venta en Chico Norte</td>\n",
              "      <td>2</td>\n",
              "      <td>2</td>\n",
              "      <td>95</td>\n",
              "      <td>Chico Norte</td>\n",
              "      <td>CHAPINERO: Chicó Lago + El Refugio</td>\n",
              "      <td>$ 980.000.000</td>\n",
              "    </tr>\n",
              "    <tr>\n",
              "      <th>302</th>\n",
              "      <td>Apartamento</td>\n",
              "      <td>Apartamento en venta en Kennedy</td>\n",
              "      <td>3</td>\n",
              "      <td>2</td>\n",
              "      <td>54</td>\n",
              "      <td>Kennedy</td>\n",
              "      <td>Kennedy Central</td>\n",
              "      <td>$ 237.000.000</td>\n",
              "    </tr>\n",
              "    <tr>\n",
              "      <th>303</th>\n",
              "      <td>Apartamento</td>\n",
              "      <td>Apartamento en venta en Kennedy</td>\n",
              "      <td>3</td>\n",
              "      <td>2</td>\n",
              "      <td>67</td>\n",
              "      <td>Kennedy</td>\n",
              "      <td>Kennedy Central</td>\n",
              "      <td>$ 320.000.000</td>\n",
              "    </tr>\n",
              "    <tr>\n",
              "      <th>304</th>\n",
              "      <td>Apartamento</td>\n",
              "      <td>Apartamento en venta en Cedritos</td>\n",
              "      <td>4</td>\n",
              "      <td>4</td>\n",
              "      <td>132</td>\n",
              "      <td>Cedritos</td>\n",
              "      <td>Usaquén</td>\n",
              "      <td>$ 530.000.000</td>\n",
              "    </tr>\n",
              "  </tbody>\n",
              "</table>\n",
              "</div>\n",
              "      <button class=\"colab-df-convert\" onclick=\"convertToInteractive('df-85a14b3c-310d-4489-b476-0cc42dc1a45f')\"\n",
              "              title=\"Convert this dataframe to an interactive table.\"\n",
              "              style=\"display:none;\">\n",
              "        \n",
              "  <svg xmlns=\"http://www.w3.org/2000/svg\" height=\"24px\"viewBox=\"0 0 24 24\"\n",
              "       width=\"24px\">\n",
              "    <path d=\"M0 0h24v24H0V0z\" fill=\"none\"/>\n",
              "    <path d=\"M18.56 5.44l.94 2.06.94-2.06 2.06-.94-2.06-.94-.94-2.06-.94 2.06-2.06.94zm-11 1L8.5 8.5l.94-2.06 2.06-.94-2.06-.94L8.5 2.5l-.94 2.06-2.06.94zm10 10l.94 2.06.94-2.06 2.06-.94-2.06-.94-.94-2.06-.94 2.06-2.06.94z\"/><path d=\"M17.41 7.96l-1.37-1.37c-.4-.4-.92-.59-1.43-.59-.52 0-1.04.2-1.43.59L10.3 9.45l-7.72 7.72c-.78.78-.78 2.05 0 2.83L4 21.41c.39.39.9.59 1.41.59.51 0 1.02-.2 1.41-.59l7.78-7.78 2.81-2.81c.8-.78.8-2.07 0-2.86zM5.41 20L4 18.59l7.72-7.72 1.47 1.35L5.41 20z\"/>\n",
              "  </svg>\n",
              "      </button>\n",
              "      \n",
              "  <style>\n",
              "    .colab-df-container {\n",
              "      display:flex;\n",
              "      flex-wrap:wrap;\n",
              "      gap: 12px;\n",
              "    }\n",
              "\n",
              "    .colab-df-convert {\n",
              "      background-color: #E8F0FE;\n",
              "      border: none;\n",
              "      border-radius: 50%;\n",
              "      cursor: pointer;\n",
              "      display: none;\n",
              "      fill: #1967D2;\n",
              "      height: 32px;\n",
              "      padding: 0 0 0 0;\n",
              "      width: 32px;\n",
              "    }\n",
              "\n",
              "    .colab-df-convert:hover {\n",
              "      background-color: #E2EBFA;\n",
              "      box-shadow: 0px 1px 2px rgba(60, 64, 67, 0.3), 0px 1px 3px 1px rgba(60, 64, 67, 0.15);\n",
              "      fill: #174EA6;\n",
              "    }\n",
              "\n",
              "    [theme=dark] .colab-df-convert {\n",
              "      background-color: #3B4455;\n",
              "      fill: #D2E3FC;\n",
              "    }\n",
              "\n",
              "    [theme=dark] .colab-df-convert:hover {\n",
              "      background-color: #434B5C;\n",
              "      box-shadow: 0px 1px 3px 1px rgba(0, 0, 0, 0.15);\n",
              "      filter: drop-shadow(0px 1px 2px rgba(0, 0, 0, 0.3));\n",
              "      fill: #FFFFFF;\n",
              "    }\n",
              "  </style>\n",
              "\n",
              "      <script>\n",
              "        const buttonEl =\n",
              "          document.querySelector('#df-85a14b3c-310d-4489-b476-0cc42dc1a45f button.colab-df-convert');\n",
              "        buttonEl.style.display =\n",
              "          google.colab.kernel.accessAllowed ? 'block' : 'none';\n",
              "\n",
              "        async function convertToInteractive(key) {\n",
              "          const element = document.querySelector('#df-85a14b3c-310d-4489-b476-0cc42dc1a45f');\n",
              "          const dataTable =\n",
              "            await google.colab.kernel.invokeFunction('convertToInteractive',\n",
              "                                                     [key], {});\n",
              "          if (!dataTable) return;\n",
              "\n",
              "          const docLinkHtml = 'Like what you see? Visit the ' +\n",
              "            '<a target=\"_blank\" href=https://colab.research.google.com/notebooks/data_table.ipynb>data table notebook</a>'\n",
              "            + ' to learn more about interactive tables.';\n",
              "          element.innerHTML = '';\n",
              "          dataTable['output_type'] = 'display_data';\n",
              "          await google.colab.output.renderOutput(dataTable, element);\n",
              "          const docLink = document.createElement('div');\n",
              "          docLink.innerHTML = docLinkHtml;\n",
              "          element.appendChild(docLink);\n",
              "        }\n",
              "      </script>\n",
              "    </div>\n",
              "  </div>\n",
              "  "
            ]
          },
          "metadata": {},
          "execution_count": 8
        }
      ]
    },
    {
      "cell_type": "code",
      "source": [
        "inmueble['Valor'][300]"
      ],
      "metadata": {
        "colab": {
          "base_uri": "https://localhost:8080/"
        },
        "id": "6euqOXg-XZMN",
        "outputId": "1fe4c700-729d-4d6c-9760-a9264b09ffba"
      },
      "execution_count": null,
      "outputs": [
        {
          "output_type": "execute_result",
          "data": {
            "text/plain": [
              "'$ 116.100.000'"
            ],
            "application/vnd.google.colaboratory.intrinsic+json": {
              "type": "string"
            }
          },
          "metadata": {},
          "execution_count": 9
        }
      ]
    },
    {
      "cell_type": "code",
      "source": [
        "inmueble['Valor'][300:305]"
      ],
      "metadata": {
        "colab": {
          "base_uri": "https://localhost:8080/"
        },
        "id": "g_skEMHjXl9E",
        "outputId": "cdd3f934-a0a7-4aff-fe48-24e4f242752c"
      },
      "execution_count": null,
      "outputs": [
        {
          "output_type": "execute_result",
          "data": {
            "text/plain": [
              "300    $ 116.100.000\n",
              "301    $ 980.000.000\n",
              "302    $ 237.000.000\n",
              "303    $ 320.000.000\n",
              "304    $ 530.000.000\n",
              "Name: Valor, dtype: object"
            ]
          },
          "metadata": {},
          "execution_count": 10
        }
      ]
    },
    {
      "cell_type": "code",
      "source": [
        "type(inmueble['Valor'][300:305])"
      ],
      "metadata": {
        "id": "tT_SsklXXySs",
        "outputId": "b823f2b7-5a93-4b77-91e7-8db5f4649e7e",
        "colab": {
          "base_uri": "https://localhost:8080/"
        }
      },
      "execution_count": null,
      "outputs": [
        {
          "output_type": "execute_result",
          "data": {
            "text/plain": [
              "pandas.core.series.Series"
            ]
          },
          "metadata": {},
          "execution_count": 11
        }
      ]
    },
    {
      "cell_type": "code",
      "source": [
        "inmueble.columns"
      ],
      "metadata": {
        "colab": {
          "base_uri": "https://localhost:8080/"
        },
        "id": "uX0eScFwXqzJ",
        "outputId": "7e517990-f820-46d4-97af-9cc9db297133"
      },
      "execution_count": null,
      "outputs": [
        {
          "output_type": "execute_result",
          "data": {
            "text/plain": [
              "Index(['Tipo', 'Descripcion', 'Habitaciones', 'Banos', 'Area', 'Barrio', 'UPZ',\n",
              "       'Valor'],\n",
              "      dtype='object')"
            ]
          },
          "metadata": {},
          "execution_count": 12
        }
      ]
    },
    {
      "cell_type": "code",
      "source": [
        "inmueble.Area.mean()"
      ],
      "metadata": {
        "colab": {
          "base_uri": "https://localhost:8080/"
        },
        "id": "j-JIimX7YC9C",
        "outputId": "5f10e61a-553d-460e-b73f-23d96a1348b4"
      },
      "execution_count": null,
      "outputs": [
        {
          "output_type": "execute_result",
          "data": {
            "text/plain": [
              "146.66470588235293"
            ]
          },
          "metadata": {},
          "execution_count": 13
        }
      ]
    },
    {
      "cell_type": "code",
      "source": [
        "inmueble.sample(100)"
      ],
      "metadata": {
        "colab": {
          "base_uri": "https://localhost:8080/"
        },
        "id": "V7_8a_wGYVZW",
        "outputId": "cc17c5f3-6b0b-4709-b1db-80cc574d29ac"
      },
      "execution_count": null,
      "outputs": [
        {
          "output_type": "execute_result",
          "data": {
            "text/plain": [
              "                     Tipo                                   Descripcion  \\\n",
              "8729  Oficina/Consultorio  Oficina/Consultorio en venta en Puente Largo   \n",
              "1858          Apartamento             Apartamento en venta en El Retiro   \n",
              "1948          Apartamento               Apartamento en venta en Usaquén   \n",
              "8471          Apartamento        Apartamento en venta en Barrios Unidos   \n",
              "3919          Apartamento              Apartamento en venta en El Batán   \n",
              "...                   ...                                           ...   \n",
              "2904                 Casa                         Casa en venta en Usme   \n",
              "7095          Apartamento      Apartamento en venta en Colina Campestre   \n",
              "284           Apartamento              Apartamento en venta en Santa Fe   \n",
              "2481          Apartamento        Apartamento en venta en Barrios Unidos   \n",
              "6098          Apartamento               Apartamento en venta en Usaquén   \n",
              "\n",
              "      Habitaciones  Banos  Area            Barrio  \\\n",
              "8729             1      1    16      Puente Largo   \n",
              "1858             3      4   230         El Retiro   \n",
              "1948             3      2    72           Usaquén   \n",
              "8471             3      2    74    Barrios Unidos   \n",
              "3919             2      3    75          El Batán   \n",
              "...            ...    ...   ...               ...   \n",
              "2904             5      2   140              Usme   \n",
              "7095             3      2    82  Colina Campestre   \n",
              "284              3      2   172          Santa Fe   \n",
              "2481             3      3    99    Barrios Unidos   \n",
              "6098             3      3   131           Usaquén   \n",
              "\n",
              "                                         UPZ            Valor  \n",
              "8729                             La Alhambra    $ 113.000.000  \n",
              "1858      CHAPINERO: Chicó Lago + El Refugio  $ 1.700.000.000  \n",
              "1948                                 Usaquén    $ 379.000.000  \n",
              "8471                               Los Andes    $ 189.600.000  \n",
              "3919                             La Alhambra    $ 411.000.000  \n",
              "...                                      ...              ...  \n",
              "2904       USME: Alfonso López + Ciudad Usme    $ 395.000.000  \n",
              "7095                                    Niza    $ 450.000.000  \n",
              "284   SANTA FE: Las Nieves + Sagrado Corazón    $ 750.000.000  \n",
              "2481                               Los Andes    $ 455.000.000  \n",
              "6098                                 Usaquén  $ 1.100.000.000  \n",
              "\n",
              "[100 rows x 8 columns]"
            ],
            "text/html": [
              "\n",
              "  <div id=\"df-d0dbe421-191b-4330-9e7a-7bac8c5d5b61\">\n",
              "    <div class=\"colab-df-container\">\n",
              "      <div>\n",
              "<style scoped>\n",
              "    .dataframe tbody tr th:only-of-type {\n",
              "        vertical-align: middle;\n",
              "    }\n",
              "\n",
              "    .dataframe tbody tr th {\n",
              "        vertical-align: top;\n",
              "    }\n",
              "\n",
              "    .dataframe thead th {\n",
              "        text-align: right;\n",
              "    }\n",
              "</style>\n",
              "<table border=\"1\" class=\"dataframe\">\n",
              "  <thead>\n",
              "    <tr style=\"text-align: right;\">\n",
              "      <th></th>\n",
              "      <th>Tipo</th>\n",
              "      <th>Descripcion</th>\n",
              "      <th>Habitaciones</th>\n",
              "      <th>Banos</th>\n",
              "      <th>Area</th>\n",
              "      <th>Barrio</th>\n",
              "      <th>UPZ</th>\n",
              "      <th>Valor</th>\n",
              "    </tr>\n",
              "  </thead>\n",
              "  <tbody>\n",
              "    <tr>\n",
              "      <th>8729</th>\n",
              "      <td>Oficina/Consultorio</td>\n",
              "      <td>Oficina/Consultorio en venta en Puente Largo</td>\n",
              "      <td>1</td>\n",
              "      <td>1</td>\n",
              "      <td>16</td>\n",
              "      <td>Puente Largo</td>\n",
              "      <td>La Alhambra</td>\n",
              "      <td>$ 113.000.000</td>\n",
              "    </tr>\n",
              "    <tr>\n",
              "      <th>1858</th>\n",
              "      <td>Apartamento</td>\n",
              "      <td>Apartamento en venta en El Retiro</td>\n",
              "      <td>3</td>\n",
              "      <td>4</td>\n",
              "      <td>230</td>\n",
              "      <td>El Retiro</td>\n",
              "      <td>CHAPINERO: Chicó Lago + El Refugio</td>\n",
              "      <td>$ 1.700.000.000</td>\n",
              "    </tr>\n",
              "    <tr>\n",
              "      <th>1948</th>\n",
              "      <td>Apartamento</td>\n",
              "      <td>Apartamento en venta en Usaquén</td>\n",
              "      <td>3</td>\n",
              "      <td>2</td>\n",
              "      <td>72</td>\n",
              "      <td>Usaquén</td>\n",
              "      <td>Usaquén</td>\n",
              "      <td>$ 379.000.000</td>\n",
              "    </tr>\n",
              "    <tr>\n",
              "      <th>8471</th>\n",
              "      <td>Apartamento</td>\n",
              "      <td>Apartamento en venta en Barrios Unidos</td>\n",
              "      <td>3</td>\n",
              "      <td>2</td>\n",
              "      <td>74</td>\n",
              "      <td>Barrios Unidos</td>\n",
              "      <td>Los Andes</td>\n",
              "      <td>$ 189.600.000</td>\n",
              "    </tr>\n",
              "    <tr>\n",
              "      <th>3919</th>\n",
              "      <td>Apartamento</td>\n",
              "      <td>Apartamento en venta en El Batán</td>\n",
              "      <td>2</td>\n",
              "      <td>3</td>\n",
              "      <td>75</td>\n",
              "      <td>El Batán</td>\n",
              "      <td>La Alhambra</td>\n",
              "      <td>$ 411.000.000</td>\n",
              "    </tr>\n",
              "    <tr>\n",
              "      <th>...</th>\n",
              "      <td>...</td>\n",
              "      <td>...</td>\n",
              "      <td>...</td>\n",
              "      <td>...</td>\n",
              "      <td>...</td>\n",
              "      <td>...</td>\n",
              "      <td>...</td>\n",
              "      <td>...</td>\n",
              "    </tr>\n",
              "    <tr>\n",
              "      <th>2904</th>\n",
              "      <td>Casa</td>\n",
              "      <td>Casa en venta en Usme</td>\n",
              "      <td>5</td>\n",
              "      <td>2</td>\n",
              "      <td>140</td>\n",
              "      <td>Usme</td>\n",
              "      <td>USME: Alfonso López + Ciudad Usme</td>\n",
              "      <td>$ 395.000.000</td>\n",
              "    </tr>\n",
              "    <tr>\n",
              "      <th>7095</th>\n",
              "      <td>Apartamento</td>\n",
              "      <td>Apartamento en venta en Colina Campestre</td>\n",
              "      <td>3</td>\n",
              "      <td>2</td>\n",
              "      <td>82</td>\n",
              "      <td>Colina Campestre</td>\n",
              "      <td>Niza</td>\n",
              "      <td>$ 450.000.000</td>\n",
              "    </tr>\n",
              "    <tr>\n",
              "      <th>284</th>\n",
              "      <td>Apartamento</td>\n",
              "      <td>Apartamento en venta en Santa Fe</td>\n",
              "      <td>3</td>\n",
              "      <td>2</td>\n",
              "      <td>172</td>\n",
              "      <td>Santa Fe</td>\n",
              "      <td>SANTA FE: Las Nieves + Sagrado Corazón</td>\n",
              "      <td>$ 750.000.000</td>\n",
              "    </tr>\n",
              "    <tr>\n",
              "      <th>2481</th>\n",
              "      <td>Apartamento</td>\n",
              "      <td>Apartamento en venta en Barrios Unidos</td>\n",
              "      <td>3</td>\n",
              "      <td>3</td>\n",
              "      <td>99</td>\n",
              "      <td>Barrios Unidos</td>\n",
              "      <td>Los Andes</td>\n",
              "      <td>$ 455.000.000</td>\n",
              "    </tr>\n",
              "    <tr>\n",
              "      <th>6098</th>\n",
              "      <td>Apartamento</td>\n",
              "      <td>Apartamento en venta en Usaquén</td>\n",
              "      <td>3</td>\n",
              "      <td>3</td>\n",
              "      <td>131</td>\n",
              "      <td>Usaquén</td>\n",
              "      <td>Usaquén</td>\n",
              "      <td>$ 1.100.000.000</td>\n",
              "    </tr>\n",
              "  </tbody>\n",
              "</table>\n",
              "<p>100 rows × 8 columns</p>\n",
              "</div>\n",
              "      <button class=\"colab-df-convert\" onclick=\"convertToInteractive('df-d0dbe421-191b-4330-9e7a-7bac8c5d5b61')\"\n",
              "              title=\"Convert this dataframe to an interactive table.\"\n",
              "              style=\"display:none;\">\n",
              "        \n",
              "  <svg xmlns=\"http://www.w3.org/2000/svg\" height=\"24px\"viewBox=\"0 0 24 24\"\n",
              "       width=\"24px\">\n",
              "    <path d=\"M0 0h24v24H0V0z\" fill=\"none\"/>\n",
              "    <path d=\"M18.56 5.44l.94 2.06.94-2.06 2.06-.94-2.06-.94-.94-2.06-.94 2.06-2.06.94zm-11 1L8.5 8.5l.94-2.06 2.06-.94-2.06-.94L8.5 2.5l-.94 2.06-2.06.94zm10 10l.94 2.06.94-2.06 2.06-.94-2.06-.94-.94-2.06-.94 2.06-2.06.94z\"/><path d=\"M17.41 7.96l-1.37-1.37c-.4-.4-.92-.59-1.43-.59-.52 0-1.04.2-1.43.59L10.3 9.45l-7.72 7.72c-.78.78-.78 2.05 0 2.83L4 21.41c.39.39.9.59 1.41.59.51 0 1.02-.2 1.41-.59l7.78-7.78 2.81-2.81c.8-.78.8-2.07 0-2.86zM5.41 20L4 18.59l7.72-7.72 1.47 1.35L5.41 20z\"/>\n",
              "  </svg>\n",
              "      </button>\n",
              "      \n",
              "  <style>\n",
              "    .colab-df-container {\n",
              "      display:flex;\n",
              "      flex-wrap:wrap;\n",
              "      gap: 12px;\n",
              "    }\n",
              "\n",
              "    .colab-df-convert {\n",
              "      background-color: #E8F0FE;\n",
              "      border: none;\n",
              "      border-radius: 50%;\n",
              "      cursor: pointer;\n",
              "      display: none;\n",
              "      fill: #1967D2;\n",
              "      height: 32px;\n",
              "      padding: 0 0 0 0;\n",
              "      width: 32px;\n",
              "    }\n",
              "\n",
              "    .colab-df-convert:hover {\n",
              "      background-color: #E2EBFA;\n",
              "      box-shadow: 0px 1px 2px rgba(60, 64, 67, 0.3), 0px 1px 3px 1px rgba(60, 64, 67, 0.15);\n",
              "      fill: #174EA6;\n",
              "    }\n",
              "\n",
              "    [theme=dark] .colab-df-convert {\n",
              "      background-color: #3B4455;\n",
              "      fill: #D2E3FC;\n",
              "    }\n",
              "\n",
              "    [theme=dark] .colab-df-convert:hover {\n",
              "      background-color: #434B5C;\n",
              "      box-shadow: 0px 1px 3px 1px rgba(0, 0, 0, 0.15);\n",
              "      filter: drop-shadow(0px 1px 2px rgba(0, 0, 0, 0.3));\n",
              "      fill: #FFFFFF;\n",
              "    }\n",
              "  </style>\n",
              "\n",
              "      <script>\n",
              "        const buttonEl =\n",
              "          document.querySelector('#df-d0dbe421-191b-4330-9e7a-7bac8c5d5b61 button.colab-df-convert');\n",
              "        buttonEl.style.display =\n",
              "          google.colab.kernel.accessAllowed ? 'block' : 'none';\n",
              "\n",
              "        async function convertToInteractive(key) {\n",
              "          const element = document.querySelector('#df-d0dbe421-191b-4330-9e7a-7bac8c5d5b61');\n",
              "          const dataTable =\n",
              "            await google.colab.kernel.invokeFunction('convertToInteractive',\n",
              "                                                     [key], {});\n",
              "          if (!dataTable) return;\n",
              "\n",
              "          const docLinkHtml = 'Like what you see? Visit the ' +\n",
              "            '<a target=\"_blank\" href=https://colab.research.google.com/notebooks/data_table.ipynb>data table notebook</a>'\n",
              "            + ' to learn more about interactive tables.';\n",
              "          element.innerHTML = '';\n",
              "          dataTable['output_type'] = 'display_data';\n",
              "          await google.colab.output.renderOutput(dataTable, element);\n",
              "          const docLink = document.createElement('div');\n",
              "          docLink.innerHTML = docLinkHtml;\n",
              "          element.appendChild(docLink);\n",
              "        }\n",
              "      </script>\n",
              "    </div>\n",
              "  </div>\n",
              "  "
            ]
          },
          "metadata": {},
          "execution_count": 14
        }
      ]
    },
    {
      "cell_type": "code",
      "source": [
        "(inmueble.Barrio == 'Chico Reservado')"
      ],
      "metadata": {
        "colab": {
          "base_uri": "https://localhost:8080/"
        },
        "id": "2YjLlWICYqjH",
        "outputId": "6fcf39f2-92c5-4b43-9b75-1bae4c45df79"
      },
      "execution_count": null,
      "outputs": [
        {
          "output_type": "execute_result",
          "data": {
            "text/plain": [
              "0       False\n",
              "1       False\n",
              "2        True\n",
              "3       False\n",
              "4       False\n",
              "        ...  \n",
              "9515    False\n",
              "9516    False\n",
              "9517    False\n",
              "9518    False\n",
              "9519    False\n",
              "Name: Barrio, Length: 9520, dtype: bool"
            ]
          },
          "metadata": {},
          "execution_count": 15
        }
      ]
    },
    {
      "cell_type": "code",
      "source": [
        "sum((inmueble.Barrio == 'Chico Reservado'))"
      ],
      "metadata": {
        "colab": {
          "base_uri": "https://localhost:8080/"
        },
        "id": "7-4maIdqY5X7",
        "outputId": "03bb4c67-db3b-4948-f118-da07ad6a348a"
      },
      "execution_count": null,
      "outputs": [
        {
          "output_type": "execute_result",
          "data": {
            "text/plain": [
              "225"
            ]
          },
          "metadata": {},
          "execution_count": 16
        }
      ]
    },
    {
      "cell_type": "code",
      "source": [
        "inmuebles_chico = (inmueble.Barrio == 'Chico Reservado')\n",
        "inmuebles_chico\n",
        "type(inmuebles_chico)"
      ],
      "metadata": {
        "colab": {
          "base_uri": "https://localhost:8080/"
        },
        "id": "OMLlEze4ZI6K",
        "outputId": "18dea3ec-a2f3-491b-f3e2-02428ae22957"
      },
      "execution_count": null,
      "outputs": [
        {
          "output_type": "execute_result",
          "data": {
            "text/plain": [
              "pandas.core.series.Series"
            ]
          },
          "metadata": {},
          "execution_count": 17
        }
      ]
    },
    {
      "cell_type": "code",
      "source": [
        "chico_reservado = inmueble[inmuebles_chico]\n",
        "chico_reservado"
      ],
      "metadata": {
        "colab": {
          "base_uri": "https://localhost:8080/"
        },
        "id": "F8GIqJwXZXZ8",
        "outputId": "ef334d40-73a2-49c5-a92a-a27f6cfaafd3"
      },
      "execution_count": null,
      "outputs": [
        {
          "output_type": "execute_result",
          "data": {
            "text/plain": [
              "             Tipo                              Descripcion  Habitaciones  \\\n",
              "2     Apartamento  Apartamento en venta en Chico Reservado             3   \n",
              "39    Apartamento  Apartamento en venta en Chico Reservado             1   \n",
              "72    Apartamento  Apartamento en venta en Chico Reservado             1   \n",
              "126   Apartamento  Apartamento en venta en Chico Reservado             3   \n",
              "143   Apartamento  Apartamento en venta en Chico Reservado             2   \n",
              "...           ...                                      ...           ...   \n",
              "9299  Apartamento  Apartamento en venta en Chico Reservado             3   \n",
              "9335  Apartamento  Apartamento en venta en Chico Reservado             3   \n",
              "9341  Apartamento  Apartamento en venta en Chico Reservado             2   \n",
              "9472  Apartamento  Apartamento en venta en Chico Reservado             3   \n",
              "9506  Apartamento  Apartamento en venta en Chico Reservado             3   \n",
              "\n",
              "      Banos  Area           Barrio                                 UPZ  \\\n",
              "2         3   144  Chico Reservado  CHAPINERO: Chicó Lago + El Refugio   \n",
              "39        1    64  Chico Reservado  CHAPINERO: Chicó Lago + El Refugio   \n",
              "72        1    64  Chico Reservado  CHAPINERO: Chicó Lago + El Refugio   \n",
              "126       4   150  Chico Reservado  CHAPINERO: Chicó Lago + El Refugio   \n",
              "143       4   104  Chico Reservado  CHAPINERO: Chicó Lago + El Refugio   \n",
              "...     ...   ...              ...                                 ...   \n",
              "9299      3   148  Chico Reservado  CHAPINERO: Chicó Lago + El Refugio   \n",
              "9335      3   176  Chico Reservado  CHAPINERO: Chicó Lago + El Refugio   \n",
              "9341      3   118  Chico Reservado  CHAPINERO: Chicó Lago + El Refugio   \n",
              "9472      1    49  Chico Reservado  CHAPINERO: Chicó Lago + El Refugio   \n",
              "9506      4   390  Chico Reservado  CHAPINERO: Chicó Lago + El Refugio   \n",
              "\n",
              "                Valor  \n",
              "2     $ 1.120.000.000  \n",
              "39      $ 495.000.000  \n",
              "72      $ 495.000.000  \n",
              "126   $ 1.300.000.000  \n",
              "143   $ 1.100.000.000  \n",
              "...               ...  \n",
              "9299    $ 780.000.000  \n",
              "9335    $ 850.000.000  \n",
              "9341    $ 700.000.000  \n",
              "9472    $ 200.000.000  \n",
              "9506  $ 3.200.000.000  \n",
              "\n",
              "[225 rows x 8 columns]"
            ],
            "text/html": [
              "\n",
              "  <div id=\"df-00aaac5f-49af-4589-8d56-d064c213f60a\">\n",
              "    <div class=\"colab-df-container\">\n",
              "      <div>\n",
              "<style scoped>\n",
              "    .dataframe tbody tr th:only-of-type {\n",
              "        vertical-align: middle;\n",
              "    }\n",
              "\n",
              "    .dataframe tbody tr th {\n",
              "        vertical-align: top;\n",
              "    }\n",
              "\n",
              "    .dataframe thead th {\n",
              "        text-align: right;\n",
              "    }\n",
              "</style>\n",
              "<table border=\"1\" class=\"dataframe\">\n",
              "  <thead>\n",
              "    <tr style=\"text-align: right;\">\n",
              "      <th></th>\n",
              "      <th>Tipo</th>\n",
              "      <th>Descripcion</th>\n",
              "      <th>Habitaciones</th>\n",
              "      <th>Banos</th>\n",
              "      <th>Area</th>\n",
              "      <th>Barrio</th>\n",
              "      <th>UPZ</th>\n",
              "      <th>Valor</th>\n",
              "    </tr>\n",
              "  </thead>\n",
              "  <tbody>\n",
              "    <tr>\n",
              "      <th>2</th>\n",
              "      <td>Apartamento</td>\n",
              "      <td>Apartamento en venta en Chico Reservado</td>\n",
              "      <td>3</td>\n",
              "      <td>3</td>\n",
              "      <td>144</td>\n",
              "      <td>Chico Reservado</td>\n",
              "      <td>CHAPINERO: Chicó Lago + El Refugio</td>\n",
              "      <td>$ 1.120.000.000</td>\n",
              "    </tr>\n",
              "    <tr>\n",
              "      <th>39</th>\n",
              "      <td>Apartamento</td>\n",
              "      <td>Apartamento en venta en Chico Reservado</td>\n",
              "      <td>1</td>\n",
              "      <td>1</td>\n",
              "      <td>64</td>\n",
              "      <td>Chico Reservado</td>\n",
              "      <td>CHAPINERO: Chicó Lago + El Refugio</td>\n",
              "      <td>$ 495.000.000</td>\n",
              "    </tr>\n",
              "    <tr>\n",
              "      <th>72</th>\n",
              "      <td>Apartamento</td>\n",
              "      <td>Apartamento en venta en Chico Reservado</td>\n",
              "      <td>1</td>\n",
              "      <td>1</td>\n",
              "      <td>64</td>\n",
              "      <td>Chico Reservado</td>\n",
              "      <td>CHAPINERO: Chicó Lago + El Refugio</td>\n",
              "      <td>$ 495.000.000</td>\n",
              "    </tr>\n",
              "    <tr>\n",
              "      <th>126</th>\n",
              "      <td>Apartamento</td>\n",
              "      <td>Apartamento en venta en Chico Reservado</td>\n",
              "      <td>3</td>\n",
              "      <td>4</td>\n",
              "      <td>150</td>\n",
              "      <td>Chico Reservado</td>\n",
              "      <td>CHAPINERO: Chicó Lago + El Refugio</td>\n",
              "      <td>$ 1.300.000.000</td>\n",
              "    </tr>\n",
              "    <tr>\n",
              "      <th>143</th>\n",
              "      <td>Apartamento</td>\n",
              "      <td>Apartamento en venta en Chico Reservado</td>\n",
              "      <td>2</td>\n",
              "      <td>4</td>\n",
              "      <td>104</td>\n",
              "      <td>Chico Reservado</td>\n",
              "      <td>CHAPINERO: Chicó Lago + El Refugio</td>\n",
              "      <td>$ 1.100.000.000</td>\n",
              "    </tr>\n",
              "    <tr>\n",
              "      <th>...</th>\n",
              "      <td>...</td>\n",
              "      <td>...</td>\n",
              "      <td>...</td>\n",
              "      <td>...</td>\n",
              "      <td>...</td>\n",
              "      <td>...</td>\n",
              "      <td>...</td>\n",
              "      <td>...</td>\n",
              "    </tr>\n",
              "    <tr>\n",
              "      <th>9299</th>\n",
              "      <td>Apartamento</td>\n",
              "      <td>Apartamento en venta en Chico Reservado</td>\n",
              "      <td>3</td>\n",
              "      <td>3</td>\n",
              "      <td>148</td>\n",
              "      <td>Chico Reservado</td>\n",
              "      <td>CHAPINERO: Chicó Lago + El Refugio</td>\n",
              "      <td>$ 780.000.000</td>\n",
              "    </tr>\n",
              "    <tr>\n",
              "      <th>9335</th>\n",
              "      <td>Apartamento</td>\n",
              "      <td>Apartamento en venta en Chico Reservado</td>\n",
              "      <td>3</td>\n",
              "      <td>3</td>\n",
              "      <td>176</td>\n",
              "      <td>Chico Reservado</td>\n",
              "      <td>CHAPINERO: Chicó Lago + El Refugio</td>\n",
              "      <td>$ 850.000.000</td>\n",
              "    </tr>\n",
              "    <tr>\n",
              "      <th>9341</th>\n",
              "      <td>Apartamento</td>\n",
              "      <td>Apartamento en venta en Chico Reservado</td>\n",
              "      <td>2</td>\n",
              "      <td>3</td>\n",
              "      <td>118</td>\n",
              "      <td>Chico Reservado</td>\n",
              "      <td>CHAPINERO: Chicó Lago + El Refugio</td>\n",
              "      <td>$ 700.000.000</td>\n",
              "    </tr>\n",
              "    <tr>\n",
              "      <th>9472</th>\n",
              "      <td>Apartamento</td>\n",
              "      <td>Apartamento en venta en Chico Reservado</td>\n",
              "      <td>3</td>\n",
              "      <td>1</td>\n",
              "      <td>49</td>\n",
              "      <td>Chico Reservado</td>\n",
              "      <td>CHAPINERO: Chicó Lago + El Refugio</td>\n",
              "      <td>$ 200.000.000</td>\n",
              "    </tr>\n",
              "    <tr>\n",
              "      <th>9506</th>\n",
              "      <td>Apartamento</td>\n",
              "      <td>Apartamento en venta en Chico Reservado</td>\n",
              "      <td>3</td>\n",
              "      <td>4</td>\n",
              "      <td>390</td>\n",
              "      <td>Chico Reservado</td>\n",
              "      <td>CHAPINERO: Chicó Lago + El Refugio</td>\n",
              "      <td>$ 3.200.000.000</td>\n",
              "    </tr>\n",
              "  </tbody>\n",
              "</table>\n",
              "<p>225 rows × 8 columns</p>\n",
              "</div>\n",
              "      <button class=\"colab-df-convert\" onclick=\"convertToInteractive('df-00aaac5f-49af-4589-8d56-d064c213f60a')\"\n",
              "              title=\"Convert this dataframe to an interactive table.\"\n",
              "              style=\"display:none;\">\n",
              "        \n",
              "  <svg xmlns=\"http://www.w3.org/2000/svg\" height=\"24px\"viewBox=\"0 0 24 24\"\n",
              "       width=\"24px\">\n",
              "    <path d=\"M0 0h24v24H0V0z\" fill=\"none\"/>\n",
              "    <path d=\"M18.56 5.44l.94 2.06.94-2.06 2.06-.94-2.06-.94-.94-2.06-.94 2.06-2.06.94zm-11 1L8.5 8.5l.94-2.06 2.06-.94-2.06-.94L8.5 2.5l-.94 2.06-2.06.94zm10 10l.94 2.06.94-2.06 2.06-.94-2.06-.94-.94-2.06-.94 2.06-2.06.94z\"/><path d=\"M17.41 7.96l-1.37-1.37c-.4-.4-.92-.59-1.43-.59-.52 0-1.04.2-1.43.59L10.3 9.45l-7.72 7.72c-.78.78-.78 2.05 0 2.83L4 21.41c.39.39.9.59 1.41.59.51 0 1.02-.2 1.41-.59l7.78-7.78 2.81-2.81c.8-.78.8-2.07 0-2.86zM5.41 20L4 18.59l7.72-7.72 1.47 1.35L5.41 20z\"/>\n",
              "  </svg>\n",
              "      </button>\n",
              "      \n",
              "  <style>\n",
              "    .colab-df-container {\n",
              "      display:flex;\n",
              "      flex-wrap:wrap;\n",
              "      gap: 12px;\n",
              "    }\n",
              "\n",
              "    .colab-df-convert {\n",
              "      background-color: #E8F0FE;\n",
              "      border: none;\n",
              "      border-radius: 50%;\n",
              "      cursor: pointer;\n",
              "      display: none;\n",
              "      fill: #1967D2;\n",
              "      height: 32px;\n",
              "      padding: 0 0 0 0;\n",
              "      width: 32px;\n",
              "    }\n",
              "\n",
              "    .colab-df-convert:hover {\n",
              "      background-color: #E2EBFA;\n",
              "      box-shadow: 0px 1px 2px rgba(60, 64, 67, 0.3), 0px 1px 3px 1px rgba(60, 64, 67, 0.15);\n",
              "      fill: #174EA6;\n",
              "    }\n",
              "\n",
              "    [theme=dark] .colab-df-convert {\n",
              "      background-color: #3B4455;\n",
              "      fill: #D2E3FC;\n",
              "    }\n",
              "\n",
              "    [theme=dark] .colab-df-convert:hover {\n",
              "      background-color: #434B5C;\n",
              "      box-shadow: 0px 1px 3px 1px rgba(0, 0, 0, 0.15);\n",
              "      filter: drop-shadow(0px 1px 2px rgba(0, 0, 0, 0.3));\n",
              "      fill: #FFFFFF;\n",
              "    }\n",
              "  </style>\n",
              "\n",
              "      <script>\n",
              "        const buttonEl =\n",
              "          document.querySelector('#df-00aaac5f-49af-4589-8d56-d064c213f60a button.colab-df-convert');\n",
              "        buttonEl.style.display =\n",
              "          google.colab.kernel.accessAllowed ? 'block' : 'none';\n",
              "\n",
              "        async function convertToInteractive(key) {\n",
              "          const element = document.querySelector('#df-00aaac5f-49af-4589-8d56-d064c213f60a');\n",
              "          const dataTable =\n",
              "            await google.colab.kernel.invokeFunction('convertToInteractive',\n",
              "                                                     [key], {});\n",
              "          if (!dataTable) return;\n",
              "\n",
              "          const docLinkHtml = 'Like what you see? Visit the ' +\n",
              "            '<a target=\"_blank\" href=https://colab.research.google.com/notebooks/data_table.ipynb>data table notebook</a>'\n",
              "            + ' to learn more about interactive tables.';\n",
              "          element.innerHTML = '';\n",
              "          dataTable['output_type'] = 'display_data';\n",
              "          await google.colab.output.renderOutput(dataTable, element);\n",
              "          const docLink = document.createElement('div');\n",
              "          docLink.innerHTML = docLinkHtml;\n",
              "          element.appendChild(docLink);\n",
              "        }\n",
              "      </script>\n",
              "    </div>\n",
              "  </div>\n",
              "  "
            ]
          },
          "metadata": {},
          "execution_count": 18
        }
      ]
    },
    {
      "cell_type": "code",
      "source": [
        "chico_reservado.Area.mean()"
      ],
      "metadata": {
        "colab": {
          "base_uri": "https://localhost:8080/"
        },
        "id": "p29KB0iDbAqO",
        "outputId": "d74fd43a-dde3-4169-a22d-ea351b298050"
      },
      "execution_count": null,
      "outputs": [
        {
          "output_type": "execute_result",
          "data": {
            "text/plain": [
              "142.78666666666666"
            ]
          },
          "metadata": {},
          "execution_count": 19
        }
      ]
    },
    {
      "cell_type": "code",
      "source": [
        "inmueble.Area.mean()"
      ],
      "metadata": {
        "colab": {
          "base_uri": "https://localhost:8080/"
        },
        "id": "_HVbNJAZbfGx",
        "outputId": "5f371ce3-c731-44ab-9bd0-20475c9229bb"
      },
      "execution_count": null,
      "outputs": [
        {
          "output_type": "execute_result",
          "data": {
            "text/plain": [
              "146.66470588235293"
            ]
          },
          "metadata": {},
          "execution_count": 20
        }
      ]
    },
    {
      "cell_type": "code",
      "source": [
        "len((inmueble.Barrio.value_counts()))"
      ],
      "metadata": {
        "colab": {
          "base_uri": "https://localhost:8080/"
        },
        "id": "EgNYuhdjbo5B",
        "outputId": "36520b99-750a-47aa-be2a-173bd7760d92"
      },
      "execution_count": null,
      "outputs": [
        {
          "output_type": "execute_result",
          "data": {
            "text/plain": [
              "149"
            ]
          },
          "metadata": {},
          "execution_count": 21
        }
      ]
    },
    {
      "cell_type": "code",
      "source": [
        "inmueble.Barrio.value_counts().head(10)"
      ],
      "metadata": {
        "colab": {
          "base_uri": "https://localhost:8080/"
        },
        "id": "GC_YwgDdbx1b",
        "outputId": "e2ff6856-bb54-454c-80ba-2e67c4659e56"
      },
      "execution_count": null,
      "outputs": [
        {
          "output_type": "execute_result",
          "data": {
            "text/plain": [
              "Usaquén               1105\n",
              "Zona Noroccidental     877\n",
              "Bosa                   589\n",
              "Kennedy                589\n",
              "Cedritos               554\n",
              "Barrios Unidos         473\n",
              "Engativa               462\n",
              "Suba                   443\n",
              "Santa Barbara          438\n",
              "Chapinero              332\n",
              "Name: Barrio, dtype: int64"
            ]
          },
          "metadata": {},
          "execution_count": 22
        }
      ]
    },
    {
      "cell_type": "code",
      "source": [
        "len((inmueble.UPZ.value_counts()))"
      ],
      "metadata": {
        "colab": {
          "base_uri": "https://localhost:8080/"
        },
        "id": "rzZ5uvD6b6ca",
        "outputId": "1887859e-487a-426b-e7e6-c064da4e6e6b"
      },
      "execution_count": null,
      "outputs": [
        {
          "output_type": "execute_result",
          "data": {
            "text/plain": [
              "63"
            ]
          },
          "metadata": {},
          "execution_count": 23
        }
      ]
    },
    {
      "cell_type": "code",
      "source": [
        "inmuebles_barrio = inmueble.Barrio.value_counts()\n",
        "inmuebles_barrio.plot.bar()"
      ],
      "metadata": {
        "colab": {
          "base_uri": "https://localhost:8080/"
        },
        "id": "pBBT3y1dcYvI",
        "outputId": "0f920b04-33fa-4dae-ed9f-37df3ee3a987"
      },
      "execution_count": null,
      "outputs": [
        {
          "output_type": "execute_result",
          "data": {
            "text/plain": [
              "<Axes: >"
            ]
          },
          "metadata": {},
          "execution_count": 24
        },
        {
          "output_type": "display_data",
          "data": {
            "text/plain": [
              "<Figure size 640x480 with 1 Axes>"
            ],
            "image/png": "[encoded data removed]"
          },
          "metadata": {}
        }
      ]
    },
    {
      "cell_type": "code",
      "source": [
        "inmuebles_barrio.head(10).plot.bar()"
      ],
      "metadata": {
        "colab": {
          "base_uri": "https://localhost:8080/"
        },
        "id": "HGa99VNYcvlT",
        "outputId": "4051be97-9dd0-4ef4-ac62-128f50c5a86b"
      },
      "execution_count": null,
      "outputs": [
        {
          "output_type": "execute_result",
          "data": {
            "text/plain": [
              "<Axes: >"
            ]
          },
          "metadata": {},
          "execution_count": 25
        },
        {
          "output_type": "display_data",
          "data": {
            "text/plain": [
              "<Figure size 640x480 with 1 Axes>"
            ],
            "image/png": "[encoded data removed]"
          },
          "metadata": {}
        }
      ]
    },
    {
      "cell_type": "code",
      "source": [
        "barrios_top = (inmueble.Barrio.value_counts().head(10))\n",
        "barrios_top"
      ],
      "metadata": {
        "colab": {
          "base_uri": "https://localhost:8080/"
        },
        "id": "UvpzOihcVxI6",
        "outputId": "1dd58589-65d9-48e3-e464-f7766895293a"
      },
      "execution_count": null,
      "outputs": [
        {
          "output_type": "execute_result",
          "data": {
            "text/plain": [
              "Usaquén               1105\n",
              "Zona Noroccidental     877\n",
              "Bosa                   589\n",
              "Kennedy                589\n",
              "Cedritos               554\n",
              "Barrios Unidos         473\n",
              "Engativa               462\n",
              "Suba                   443\n",
              "Santa Barbara          438\n",
              "Chapinero              332\n",
              "Name: Barrio, dtype: int64"
            ]
          },
          "metadata": {},
          "execution_count": 26
        }
      ]
    },
    {
      "cell_type": "code",
      "source": [
        "barrios_ares = [(inmueble.Barrio=='Usaquén') | (inmueble.Barrio=='Zona Noroccidental')]\n",
        "barrios_ares"
      ],
      "metadata": {
        "colab": {
          "base_uri": "https://localhost:8080/"
        },
        "id": "LOttwHh1WZd-",
        "outputId": "24034eb0-86ce-4589-e826-ef827688d1dd"
      },
      "execution_count": null,
      "outputs": [
        {
          "output_type": "execute_result",
          "data": {
            "text/plain": [
              "[0        True\n",
              " 1       False\n",
              " 2       False\n",
              " 3        True\n",
              " 4       False\n",
              "         ...  \n",
              " 9515    False\n",
              " 9516    False\n",
              " 9517    False\n",
              " 9518    False\n",
              " 9519    False\n",
              " Name: Barrio, Length: 9520, dtype: bool]"
            ]
          },
          "metadata": {},
          "execution_count": 27
        }
      ]
    },
    {
      "cell_type": "code",
      "source": [
        "inmueble.describe()"
      ],
      "metadata": {
        "id": "YwLjfLAdhaSZ",
        "outputId": "9901651c-5c89-406a-ff92-1465b74402b2",
        "colab": {
          "base_uri": "https://localhost:8080/"
        }
      },
      "execution_count": null,
      "outputs": [
        {
          "output_type": "execute_result",
          "data": {
            "text/plain": [
              "       Habitaciones        Banos           Area\n",
              "count   9520.000000  9520.000000    9520.000000\n",
              "mean       3.072479     2.447899     146.664706\n",
              "std        2.049856     1.255314    1731.379622\n",
              "min        1.000000     0.000000       2.000000\n",
              "25%        2.000000     2.000000      57.000000\n",
              "50%        3.000000     2.000000      80.000000\n",
              "75%        3.000000     3.000000     135.000000\n",
              "max      110.000000     9.000000  166243.000000"
            ],
            "text/html": [
              "\n",
              "  <div id=\"df-e511b87c-e5bb-4172-982d-3f807db34ab2\">\n",
              "    <div class=\"colab-df-container\">\n",
              "      <div>\n",
              "<style scoped>\n",
              "    .dataframe tbody tr th:only-of-type {\n",
              "        vertical-align: middle;\n",
              "    }\n",
              "\n",
              "    .dataframe tbody tr th {\n",
              "        vertical-align: top;\n",
              "    }\n",
              "\n",
              "    .dataframe thead th {\n",
              "        text-align: right;\n",
              "    }\n",
              "</style>\n",
              "<table border=\"1\" class=\"dataframe\">\n",
              "  <thead>\n",
              "    <tr style=\"text-align: right;\">\n",
              "      <th></th>\n",
              "      <th>Habitaciones</th>\n",
              "      <th>Banos</th>\n",
              "      <th>Area</th>\n",
              "    </tr>\n",
              "  </thead>\n",
              "  <tbody>\n",
              "    <tr>\n",
              "      <th>count</th>\n",
              "      <td>9520.000000</td>\n",
              "      <td>9520.000000</td>\n",
              "      <td>9520.000000</td>\n",
              "    </tr>\n",
              "    <tr>\n",
              "      <th>mean</th>\n",
              "      <td>3.072479</td>\n",
              "      <td>2.447899</td>\n",
              "      <td>146.664706</td>\n",
              "    </tr>\n",
              "    <tr>\n",
              "      <th>std</th>\n",
              "      <td>2.049856</td>\n",
              "      <td>1.255314</td>\n",
              "      <td>1731.379622</td>\n",
              "    </tr>\n",
              "    <tr>\n",
              "      <th>min</th>\n",
              "      <td>1.000000</td>\n",
              "      <td>0.000000</td>\n",
              "      <td>2.000000</td>\n",
              "    </tr>\n",
              "    <tr>\n",
              "      <th>25%</th>\n",
              "      <td>2.000000</td>\n",
              "      <td>2.000000</td>\n",
              "      <td>57.000000</td>\n",
              "    </tr>\n",
              "    <tr>\n",
              "      <th>50%</th>\n",
              "      <td>3.000000</td>\n",
              "      <td>2.000000</td>\n",
              "      <td>80.000000</td>\n",
              "    </tr>\n",
              "    <tr>\n",
              "      <th>75%</th>\n",
              "      <td>3.000000</td>\n",
              "      <td>3.000000</td>\n",
              "      <td>135.000000</td>\n",
              "    </tr>\n",
              "    <tr>\n",
              "      <th>max</th>\n",
              "      <td>110.000000</td>\n",
              "      <td>9.000000</td>\n",
              "      <td>166243.000000</td>\n",
              "    </tr>\n",
              "  </tbody>\n",
              "</table>\n",
              "</div>\n",
              "      <button class=\"colab-df-convert\" onclick=\"convertToInteractive('df-e511b87c-e5bb-4172-982d-3f807db34ab2')\"\n",
              "              title=\"Convert this dataframe to an interactive table.\"\n",
              "              style=\"display:none;\">\n",
              "        \n",
              "  <svg xmlns=\"http://www.w3.org/2000/svg\" height=\"24px\"viewBox=\"0 0 24 24\"\n",
              "       width=\"24px\">\n",
              "    <path d=\"M0 0h24v24H0V0z\" fill=\"none\"/>\n",
              "    <path d=\"M18.56 5.44l.94 2.06.94-2.06 2.06-.94-2.06-.94-.94-2.06-.94 2.06-2.06.94zm-11 1L8.5 8.5l.94-2.06 2.06-.94-2.06-.94L8.5 2.5l-.94 2.06-2.06.94zm10 10l.94 2.06.94-2.06 2.06-.94-2.06-.94-.94-2.06-.94 2.06-2.06.94z\"/><path d=\"M17.41 7.96l-1.37-1.37c-.4-.4-.92-.59-1.43-.59-.52 0-1.04.2-1.43.59L10.3 9.45l-7.72 7.72c-.78.78-.78 2.05 0 2.83L4 21.41c.39.39.9.59 1.41.59.51 0 1.02-.2 1.41-.59l7.78-7.78 2.81-2.81c.8-.78.8-2.07 0-2.86zM5.41 20L4 18.59l7.72-7.72 1.47 1.35L5.41 20z\"/>\n",
              "  </svg>\n",
              "      </button>\n",
              "      \n",
              "  <style>\n",
              "    .colab-df-container {\n",
              "      display:flex;\n",
              "      flex-wrap:wrap;\n",
              "      gap: 12px;\n",
              "    }\n",
              "\n",
              "    .colab-df-convert {\n",
              "      background-color: #E8F0FE;\n",
              "      border: none;\n",
              "      border-radius: 50%;\n",
              "      cursor: pointer;\n",
              "      display: none;\n",
              "      fill: #1967D2;\n",
              "      height: 32px;\n",
              "      padding: 0 0 0 0;\n",
              "      width: 32px;\n",
              "    }\n",
              "\n",
              "    .colab-df-convert:hover {\n",
              "      background-color: #E2EBFA;\n",
              "      box-shadow: 0px 1px 2px rgba(60, 64, 67, 0.3), 0px 1px 3px 1px rgba(60, 64, 67, 0.15);\n",
              "      fill: #174EA6;\n",
              "    }\n",
              "\n",
              "    [theme=dark] .colab-df-convert {\n",
              "      background-color: #3B4455;\n",
              "      fill: #D2E3FC;\n",
              "    }\n",
              "\n",
              "    [theme=dark] .colab-df-convert:hover {\n",
              "      background-color: #434B5C;\n",
              "      box-shadow: 0px 1px 3px 1px rgba(0, 0, 0, 0.15);\n",
              "      filter: drop-shadow(0px 1px 2px rgba(0, 0, 0, 0.3));\n",
              "      fill: #FFFFFF;\n",
              "    }\n",
              "  </style>\n",
              "\n",
              "      <script>\n",
              "        const buttonEl =\n",
              "          document.querySelector('#df-e511b87c-e5bb-4172-982d-3f807db34ab2 button.colab-df-convert');\n",
              "        buttonEl.style.display =\n",
              "          google.colab.kernel.accessAllowed ? 'block' : 'none';\n",
              "\n",
              "        async function convertToInteractive(key) {\n",
              "          const element = document.querySelector('#df-e511b87c-e5bb-4172-982d-3f807db34ab2');\n",
              "          const dataTable =\n",
              "            await google.colab.kernel.invokeFunction('convertToInteractive',\n",
              "                                                     [key], {});\n",
              "          if (!dataTable) return;\n",
              "\n",
              "          const docLinkHtml = 'Like what you see? Visit the ' +\n",
              "            '<a target=\"_blank\" href=https://colab.research.google.com/notebooks/data_table.ipynb>data table notebook</a>'\n",
              "            + ' to learn more about interactive tables.';\n",
              "          element.innerHTML = '';\n",
              "          dataTable['output_type'] = 'display_data';\n",
              "          await google.colab.output.renderOutput(dataTable, element);\n",
              "          const docLink = document.createElement('div');\n",
              "          docLink.innerHTML = docLinkHtml;\n",
              "          element.appendChild(docLink);\n",
              "        }\n",
              "      </script>\n",
              "    </div>\n",
              "  </div>\n",
              "  "
            ]
          },
          "metadata": {},
          "execution_count": 28
        }
      ]
    },
    {
      "cell_type": "markdown",
      "source": [
        "# **AULA #2**\n",
        "---\n",
        "\n",
        "\n"
      ],
      "metadata": {
        "id": "nxxGjP2MSKXf"
      }
    },
    {
      "cell_type": "code",
      "source": [
        "inmueble.sample(5)"
      ],
      "metadata": {
        "colab": {
          "base_uri": "https://localhost:8080/",
          "height": 320
        },
        "id": "MJSlDqClSkmM",
        "outputId": "736496b5-a482-4093-804b-8deefecb43cf"
      },
      "execution_count": null,
      "outputs": [
        {
          "output_type": "execute_result",
          "data": {
            "text/plain": [
              "             Tipo                               Descripcion  Habitaciones  \\\n",
              "6956  Apartamento              Apartamento en venta en Bosa             2   \n",
              "6421  Apartamento  Apartamento en venta en Colina Campestre             3   \n",
              "8098  Apartamento              Apartamento en venta en Suba             3   \n",
              "5305  Apartamento              Apartamento en venta en Bosa             3   \n",
              "8565         Casa              Casa en venta en Teusaquillo             9   \n",
              "\n",
              "      Banos  Area            Barrio           UPZ            Valor  \n",
              "6956      1    45              Bosa  Bosa Central    $ 116.000.000  \n",
              "6421      3    94  Colina Campestre          Niza    $ 520.000.000  \n",
              "8098      1    56              Suba          Suba    $ 165.000.000  \n",
              "5305      2    57              Bosa  Bosa Central    $ 145.000.000  \n",
              "8565      9   610       Teusaquillo   Teusaquillo  $ 1.800.000.000  "
            ],
            "text/html": [
              "\n",
              "  <div id=\"df-0470ab9f-c225-490f-8d7e-71b0a20c8c88\">\n",
              "    <div class=\"colab-df-container\">\n",
              "      <div>\n",
              "<style scoped>\n",
              "    .dataframe tbody tr th:only-of-type {\n",
              "        vertical-align: middle;\n",
              "    }\n",
              "\n",
              "    .dataframe tbody tr th {\n",
              "        vertical-align: top;\n",
              "    }\n",
              "\n",
              "    .dataframe thead th {\n",
              "        text-align: right;\n",
              "    }\n",
              "</style>\n",
              "<table border=\"1\" class=\"dataframe\">\n",
              "  <thead>\n",
              "    <tr style=\"text-align: right;\">\n",
              "      <th></th>\n",
              "      <th>Tipo</th>\n",
              "      <th>Descripcion</th>\n",
              "      <th>Habitaciones</th>\n",
              "      <th>Banos</th>\n",
              "      <th>Area</th>\n",
              "      <th>Barrio</th>\n",
              "      <th>UPZ</th>\n",
              "      <th>Valor</th>\n",
              "    </tr>\n",
              "  </thead>\n",
              "  <tbody>\n",
              "    <tr>\n",
              "      <th>6956</th>\n",
              "      <td>Apartamento</td>\n",
              "      <td>Apartamento en venta en Bosa</td>\n",
              "      <td>2</td>\n",
              "      <td>1</td>\n",
              "      <td>45</td>\n",
              "      <td>Bosa</td>\n",
              "      <td>Bosa Central</td>\n",
              "      <td>$ 116.000.000</td>\n",
              "    </tr>\n",
              "    <tr>\n",
              "      <th>6421</th>\n",
              "      <td>Apartamento</td>\n",
              "      <td>Apartamento en venta en Colina Campestre</td>\n",
              "      <td>3</td>\n",
              "      <td>3</td>\n",
              "      <td>94</td>\n",
              "      <td>Colina Campestre</td>\n",
              "      <td>Niza</td>\n",
              "      <td>$ 520.000.000</td>\n",
              "    </tr>\n",
              "    <tr>\n",
              "      <th>8098</th>\n",
              "      <td>Apartamento</td>\n",
              "      <td>Apartamento en venta en Suba</td>\n",
              "      <td>3</td>\n",
              "      <td>1</td>\n",
              "      <td>56</td>\n",
              "      <td>Suba</td>\n",
              "      <td>Suba</td>\n",
              "      <td>$ 165.000.000</td>\n",
              "    </tr>\n",
              "    <tr>\n",
              "      <th>5305</th>\n",
              "      <td>Apartamento</td>\n",
              "      <td>Apartamento en venta en Bosa</td>\n",
              "      <td>3</td>\n",
              "      <td>2</td>\n",
              "      <td>57</td>\n",
              "      <td>Bosa</td>\n",
              "      <td>Bosa Central</td>\n",
              "      <td>$ 145.000.000</td>\n",
              "    </tr>\n",
              "    <tr>\n",
              "      <th>8565</th>\n",
              "      <td>Casa</td>\n",
              "      <td>Casa en venta en Teusaquillo</td>\n",
              "      <td>9</td>\n",
              "      <td>9</td>\n",
              "      <td>610</td>\n",
              "      <td>Teusaquillo</td>\n",
              "      <td>Teusaquillo</td>\n",
              "      <td>$ 1.800.000.000</td>\n",
              "    </tr>\n",
              "  </tbody>\n",
              "</table>\n",
              "</div>\n",
              "      <button class=\"colab-df-convert\" onclick=\"convertToInteractive('df-0470ab9f-c225-490f-8d7e-71b0a20c8c88')\"\n",
              "              title=\"Convert this dataframe to an interactive table.\"\n",
              "              style=\"display:none;\">\n",
              "        \n",
              "  <svg xmlns=\"http://www.w3.org/2000/svg\" height=\"24px\"viewBox=\"0 0 24 24\"\n",
              "       width=\"24px\">\n",
              "    <path d=\"M0 0h24v24H0V0z\" fill=\"none\"/>\n",
              "    <path d=\"M18.56 5.44l.94 2.06.94-2.06 2.06-.94-2.06-.94-.94-2.06-.94 2.06-2.06.94zm-11 1L8.5 8.5l.94-2.06 2.06-.94-2.06-.94L8.5 2.5l-.94 2.06-2.06.94zm10 10l.94 2.06.94-2.06 2.06-.94-2.06-.94-.94-2.06-.94 2.06-2.06.94z\"/><path d=\"M17.41 7.96l-1.37-1.37c-.4-.4-.92-.59-1.43-.59-.52 0-1.04.2-1.43.59L10.3 9.45l-7.72 7.72c-.78.78-.78 2.05 0 2.83L4 21.41c.39.39.9.59 1.41.59.51 0 1.02-.2 1.41-.59l7.78-7.78 2.81-2.81c.8-.78.8-2.07 0-2.86zM5.41 20L4 18.59l7.72-7.72 1.47 1.35L5.41 20z\"/>\n",
              "  </svg>\n",
              "      </button>\n",
              "      \n",
              "  <style>\n",
              "    .colab-df-container {\n",
              "      display:flex;\n",
              "      flex-wrap:wrap;\n",
              "      gap: 12px;\n",
              "    }\n",
              "\n",
              "    .colab-df-convert {\n",
              "      background-color: #E8F0FE;\n",
              "      border: none;\n",
              "      border-radius: 50%;\n",
              "      cursor: pointer;\n",
              "      display: none;\n",
              "      fill: #1967D2;\n",
              "      height: 32px;\n",
              "      padding: 0 0 0 0;\n",
              "      width: 32px;\n",
              "    }\n",
              "\n",
              "    .colab-df-convert:hover {\n",
              "      background-color: #E2EBFA;\n",
              "      box-shadow: 0px 1px 2px rgba(60, 64, 67, 0.3), 0px 1px 3px 1px rgba(60, 64, 67, 0.15);\n",
              "      fill: #174EA6;\n",
              "    }\n",
              "\n",
              "    [theme=dark] .colab-df-convert {\n",
              "      background-color: #3B4455;\n",
              "      fill: #D2E3FC;\n",
              "    }\n",
              "\n",
              "    [theme=dark] .colab-df-convert:hover {\n",
              "      background-color: #434B5C;\n",
              "      box-shadow: 0px 1px 3px 1px rgba(0, 0, 0, 0.15);\n",
              "      filter: drop-shadow(0px 1px 2px rgba(0, 0, 0, 0.3));\n",
              "      fill: #FFFFFF;\n",
              "    }\n",
              "  </style>\n",
              "\n",
              "      <script>\n",
              "        const buttonEl =\n",
              "          document.querySelector('#df-0470ab9f-c225-490f-8d7e-71b0a20c8c88 button.colab-df-convert');\n",
              "        buttonEl.style.display =\n",
              "          google.colab.kernel.accessAllowed ? 'block' : 'none';\n",
              "\n",
              "        async function convertToInteractive(key) {\n",
              "          const element = document.querySelector('#df-0470ab9f-c225-490f-8d7e-71b0a20c8c88');\n",
              "          const dataTable =\n",
              "            await google.colab.kernel.invokeFunction('convertToInteractive',\n",
              "                                                     [key], {});\n",
              "          if (!dataTable) return;\n",
              "\n",
              "          const docLinkHtml = 'Like what you see? Visit the ' +\n",
              "            '<a target=\"_blank\" href=https://colab.research.google.com/notebooks/data_table.ipynb>data table notebook</a>'\n",
              "            + ' to learn more about interactive tables.';\n",
              "          element.innerHTML = '';\n",
              "          dataTable['output_type'] = 'display_data';\n",
              "          await google.colab.output.renderOutput(dataTable, element);\n",
              "          const docLink = document.createElement('div');\n",
              "          docLink.innerHTML = docLinkHtml;\n",
              "          element.appendChild(docLink);\n",
              "        }\n",
              "      </script>\n",
              "    </div>\n",
              "  </div>\n",
              "  "
            ]
          },
          "metadata": {},
          "execution_count": 29
        }
      ]
    },
    {
      "cell_type": "code",
      "source": [
        "#Concer las columnas de nuestro data set\n",
        "inmueble.info()"
      ],
      "metadata": {
        "colab": {
          "base_uri": "https://localhost:8080/"
        },
        "id": "x9HlrR9iT5Kv",
        "outputId": "be470d09-bf67-48f5-b242-7414c39ace28"
      },
      "execution_count": null,
      "outputs": [
        {
          "output_type": "stream",
          "name": "stdout",
          "text": [
            "<class 'pandas.core.frame.DataFrame'>\n",
            "RangeIndex: 9520 entries, 0 to 9519\n",
            "Data columns (total 8 columns):\n",
            " #   Column        Non-Null Count  Dtype \n",
            "---  ------        --------------  ----- \n",
            " 0   Tipo          9520 non-null   object\n",
            " 1   Descripcion   9520 non-null   object\n",
            " 2   Habitaciones  9520 non-null   int64 \n",
            " 3   Banos         9520 non-null   int64 \n",
            " 4   Area          9520 non-null   int64 \n",
            " 5   Barrio        9520 non-null   object\n",
            " 6   UPZ           9478 non-null   object\n",
            " 7   Valor         9520 non-null   object\n",
            "dtypes: int64(3), object(5)\n",
            "memory usage: 595.1+ KB\n"
          ]
        }
      ]
    },
    {
      "cell_type": "code",
      "source": [
        "#type nos muestra el tipo de dato de un resultado o un elemento del data set\n",
        "#str(object) representa un valor de tipo cadena de caracteres\n",
        "type(inmueble.Valor[0])"
      ],
      "metadata": {
        "colab": {
          "base_uri": "https://localhost:8080/"
        },
        "id": "HZMxh5d-VZva",
        "outputId": "7ad2a2b0-bb30-455d-bf5f-32a597cd2cbc"
      },
      "execution_count": null,
      "outputs": [
        {
          "output_type": "execute_result",
          "data": {
            "text/plain": [
              "str"
            ]
          },
          "metadata": {},
          "execution_count": 31
        }
      ]
    },
    {
      "cell_type": "code",
      "source": [
        "#Al igual que en otros lenguajes la suma de dos valores de tipo str solo nos concatena ambos arreglos\n",
        "suma1= inmueble.Valor[0]+inmueble.Valor[1]\n",
        "suma1"
      ],
      "metadata": {
        "colab": {
          "base_uri": "https://localhost:8080/",
          "height": 35
        },
        "id": "tUiLU1fYVyU5",
        "outputId": "410f5f90-3f5e-4de7-d50d-da0a7d79f975"
      },
      "execution_count": null,
      "outputs": [
        {
          "output_type": "execute_result",
          "data": {
            "text/plain": [
              "'$ 360.000.000$ 670.000.000'"
            ],
            "application/vnd.google.colaboratory.intrinsic+json": {
              "type": "string"
            }
          },
          "metadata": {},
          "execution_count": 32
        }
      ]
    },
    {
      "cell_type": "code",
      "source": [
        "#Funciones de str\n",
        "#split() separa por espacios los elemtos de una valor, cuando esta vacio por default toma el espacio, esplitar o dividir\n",
        "\n",
        "inmueble.Valor[0].split()"
      ],
      "metadata": {
        "colab": {
          "base_uri": "https://localhost:8080/"
        },
        "id": "VKKHVjB0WTDf",
        "outputId": "f40c300a-dffa-46ac-eca1-90aaa1185c70"
      },
      "execution_count": null,
      "outputs": [
        {
          "output_type": "execute_result",
          "data": {
            "text/plain": [
              "['$', '360.000.000']"
            ]
          },
          "metadata": {},
          "execution_count": 33
        }
      ]
    },
    {
      "cell_type": "code",
      "source": [
        "#inmueble.valor es un panda.series (modelo de datos especial en formato de lista)\n",
        "inmueble.Valor.str.split()"
      ],
      "metadata": {
        "colab": {
          "base_uri": "https://localhost:8080/"
        },
        "id": "Uf4wUhHuXCCc",
        "outputId": "58908571-9fdd-4ab6-a7f6-ccccfb824486"
      },
      "execution_count": null,
      "outputs": [
        {
          "output_type": "execute_result",
          "data": {
            "text/plain": [
              "0         [$, 360.000.000]\n",
              "1         [$, 670.000.000]\n",
              "2       [$, 1.120.000.000]\n",
              "3         [$, 890.000.000]\n",
              "4         [$, 970.000.000]\n",
              "               ...        \n",
              "9515      [$, 290.000.000]\n",
              "9516      [$, 670.000.000]\n",
              "9517      [$, 900.000.000]\n",
              "9518      [$, 335.000.000]\n",
              "9519      [$, 144.990.000]\n",
              "Name: Valor, Length: 9520, dtype: object"
            ]
          },
          "metadata": {},
          "execution_count": 34
        }
      ]
    },
    {
      "cell_type": "code",
      "source": [
        "#La instruccion \"expand=True\" convierte la panda.seria en un data frame\n",
        "inmueble.Valor.str.split(expand=True) "
      ],
      "metadata": {
        "colab": {
          "base_uri": "https://localhost:8080/",
          "height": 424
        },
        "id": "xKaFaYZpquG9",
        "outputId": "db8b0f2a-4c8b-4502-9195-da3f3b016680"
      },
      "execution_count": null,
      "outputs": [
        {
          "output_type": "execute_result",
          "data": {
            "text/plain": [
              "      0              1\n",
              "0     $    360.000.000\n",
              "1     $    670.000.000\n",
              "2     $  1.120.000.000\n",
              "3     $    890.000.000\n",
              "4     $    970.000.000\n",
              "...  ..            ...\n",
              "9515  $    290.000.000\n",
              "9516  $    670.000.000\n",
              "9517  $    900.000.000\n",
              "9518  $    335.000.000\n",
              "9519  $    144.990.000\n",
              "\n",
              "[9520 rows x 2 columns]"
            ],
            "text/html": [
              "\n",
              "  <div id=\"df-d46f189b-a39b-44fe-afb0-53ff13e4b068\">\n",
              "    <div class=\"colab-df-container\">\n",
              "      <div>\n",
              "<style scoped>\n",
              "    .dataframe tbody tr th:only-of-type {\n",
              "        vertical-align: middle;\n",
              "    }\n",
              "\n",
              "    .dataframe tbody tr th {\n",
              "        vertical-align: top;\n",
              "    }\n",
              "\n",
              "    .dataframe thead th {\n",
              "        text-align: right;\n",
              "    }\n",
              "</style>\n",
              "<table border=\"1\" class=\"dataframe\">\n",
              "  <thead>\n",
              "    <tr style=\"text-align: right;\">\n",
              "      <th></th>\n",
              "      <th>0</th>\n",
              "      <th>1</th>\n",
              "    </tr>\n",
              "  </thead>\n",
              "  <tbody>\n",
              "    <tr>\n",
              "      <th>0</th>\n",
              "      <td>$</td>\n",
              "      <td>360.000.000</td>\n",
              "    </tr>\n",
              "    <tr>\n",
              "      <th>1</th>\n",
              "      <td>$</td>\n",
              "      <td>670.000.000</td>\n",
              "    </tr>\n",
              "    <tr>\n",
              "      <th>2</th>\n",
              "      <td>$</td>\n",
              "      <td>1.120.000.000</td>\n",
              "    </tr>\n",
              "    <tr>\n",
              "      <th>3</th>\n",
              "      <td>$</td>\n",
              "      <td>890.000.000</td>\n",
              "    </tr>\n",
              "    <tr>\n",
              "      <th>4</th>\n",
              "      <td>$</td>\n",
              "      <td>970.000.000</td>\n",
              "    </tr>\n",
              "    <tr>\n",
              "      <th>...</th>\n",
              "      <td>...</td>\n",
              "      <td>...</td>\n",
              "    </tr>\n",
              "    <tr>\n",
              "      <th>9515</th>\n",
              "      <td>$</td>\n",
              "      <td>290.000.000</td>\n",
              "    </tr>\n",
              "    <tr>\n",
              "      <th>9516</th>\n",
              "      <td>$</td>\n",
              "      <td>670.000.000</td>\n",
              "    </tr>\n",
              "    <tr>\n",
              "      <th>9517</th>\n",
              "      <td>$</td>\n",
              "      <td>900.000.000</td>\n",
              "    </tr>\n",
              "    <tr>\n",
              "      <th>9518</th>\n",
              "      <td>$</td>\n",
              "      <td>335.000.000</td>\n",
              "    </tr>\n",
              "    <tr>\n",
              "      <th>9519</th>\n",
              "      <td>$</td>\n",
              "      <td>144.990.000</td>\n",
              "    </tr>\n",
              "  </tbody>\n",
              "</table>\n",
              "<p>9520 rows × 2 columns</p>\n",
              "</div>\n",
              "      <button class=\"colab-df-convert\" onclick=\"convertToInteractive('df-d46f189b-a39b-44fe-afb0-53ff13e4b068')\"\n",
              "              title=\"Convert this dataframe to an interactive table.\"\n",
              "              style=\"display:none;\">\n",
              "        \n",
              "  <svg xmlns=\"http://www.w3.org/2000/svg\" height=\"24px\"viewBox=\"0 0 24 24\"\n",
              "       width=\"24px\">\n",
              "    <path d=\"M0 0h24v24H0V0z\" fill=\"none\"/>\n",
              "    <path d=\"M18.56 5.44l.94 2.06.94-2.06 2.06-.94-2.06-.94-.94-2.06-.94 2.06-2.06.94zm-11 1L8.5 8.5l.94-2.06 2.06-.94-2.06-.94L8.5 2.5l-.94 2.06-2.06.94zm10 10l.94 2.06.94-2.06 2.06-.94-2.06-.94-.94-2.06-.94 2.06-2.06.94z\"/><path d=\"M17.41 7.96l-1.37-1.37c-.4-.4-.92-.59-1.43-.59-.52 0-1.04.2-1.43.59L10.3 9.45l-7.72 7.72c-.78.78-.78 2.05 0 2.83L4 21.41c.39.39.9.59 1.41.59.51 0 1.02-.2 1.41-.59l7.78-7.78 2.81-2.81c.8-.78.8-2.07 0-2.86zM5.41 20L4 18.59l7.72-7.72 1.47 1.35L5.41 20z\"/>\n",
              "  </svg>\n",
              "      </button>\n",
              "      \n",
              "  <style>\n",
              "    .colab-df-container {\n",
              "      display:flex;\n",
              "      flex-wrap:wrap;\n",
              "      gap: 12px;\n",
              "    }\n",
              "\n",
              "    .colab-df-convert {\n",
              "      background-color: #E8F0FE;\n",
              "      border: none;\n",
              "      border-radius: 50%;\n",
              "      cursor: pointer;\n",
              "      display: none;\n",
              "      fill: #1967D2;\n",
              "      height: 32px;\n",
              "      padding: 0 0 0 0;\n",
              "      width: 32px;\n",
              "    }\n",
              "\n",
              "    .colab-df-convert:hover {\n",
              "      background-color: #E2EBFA;\n",
              "      box-shadow: 0px 1px 2px rgba(60, 64, 67, 0.3), 0px 1px 3px 1px rgba(60, 64, 67, 0.15);\n",
              "      fill: #174EA6;\n",
              "    }\n",
              "\n",
              "    [theme=dark] .colab-df-convert {\n",
              "      background-color: #3B4455;\n",
              "      fill: #D2E3FC;\n",
              "    }\n",
              "\n",
              "    [theme=dark] .colab-df-convert:hover {\n",
              "      background-color: #434B5C;\n",
              "      box-shadow: 0px 1px 3px 1px rgba(0, 0, 0, 0.15);\n",
              "      filter: drop-shadow(0px 1px 2px rgba(0, 0, 0, 0.3));\n",
              "      fill: #FFFFFF;\n",
              "    }\n",
              "  </style>\n",
              "\n",
              "      <script>\n",
              "        const buttonEl =\n",
              "          document.querySelector('#df-d46f189b-a39b-44fe-afb0-53ff13e4b068 button.colab-df-convert');\n",
              "        buttonEl.style.display =\n",
              "          google.colab.kernel.accessAllowed ? 'block' : 'none';\n",
              "\n",
              "        async function convertToInteractive(key) {\n",
              "          const element = document.querySelector('#df-d46f189b-a39b-44fe-afb0-53ff13e4b068');\n",
              "          const dataTable =\n",
              "            await google.colab.kernel.invokeFunction('convertToInteractive',\n",
              "                                                     [key], {});\n",
              "          if (!dataTable) return;\n",
              "\n",
              "          const docLinkHtml = 'Like what you see? Visit the ' +\n",
              "            '<a target=\"_blank\" href=https://colab.research.google.com/notebooks/data_table.ipynb>data table notebook</a>'\n",
              "            + ' to learn more about interactive tables.';\n",
              "          element.innerHTML = '';\n",
              "          dataTable['output_type'] = 'display_data';\n",
              "          await google.colab.output.renderOutput(dataTable, element);\n",
              "          const docLink = document.createElement('div');\n",
              "          docLink.innerHTML = docLinkHtml;\n",
              "          element.appendChild(docLink);\n",
              "        }\n",
              "      </script>\n",
              "    </div>\n",
              "  </div>\n",
              "  "
            ]
          },
          "metadata": {},
          "execution_count": 35
        }
      ]
    },
    {
      "cell_type": "code",
      "source": [
        "#Para agregar una nueva columna al data frame\n",
        "valor = inmueble.Valor.str.split(expand=True) \n",
        "inmueble['Moneda'] = valor[0]\n",
        "inmueble['Precio'] = valor[1]\n",
        "inmueble.sample(3)\n"
      ],
      "metadata": {
        "id": "iN3Iec_MrcLq",
        "colab": {
          "base_uri": "https://localhost:8080/",
          "height": 274
        },
        "outputId": "c25ba891-a0fe-4464-f1e8-0f70592c704d"
      },
      "execution_count": null,
      "outputs": [
        {
          "output_type": "execute_result",
          "data": {
            "text/plain": [
              "             Tipo                                 Descripcion  Habitaciones  \\\n",
              "9486  Apartamento             Apartamento en venta en Kennedy             3   \n",
              "2463         Casa                Casa en venta en Teusaquillo             8   \n",
              "1422  Apartamento  Apartamento en venta en Zona Noroccidental             3   \n",
              "\n",
              "      Banos  Area              Barrio                                 UPZ  \\\n",
              "9486      1    52             Kennedy                     Kennedy Central   \n",
              "2463      4   550         Teusaquillo                         Teusaquillo   \n",
              "1422      2    99  Zona Noroccidental  CHAPINERO: Pardo Rubio + Chapinero   \n",
              "\n",
              "                Valor Moneda         Precio  \n",
              "9486    $ 200.000.000      $    200.000.000  \n",
              "2463  $ 1.300.000.000      $  1.300.000.000  \n",
              "1422    $ 495.000.007      $    495.000.007  "
            ],
            "text/html": [
              "\n",
              "  <div id=\"df-66092d56-5cc5-4048-81b1-2c5b064641f2\">\n",
              "    <div class=\"colab-df-container\">\n",
              "      <div>\n",
              "<style scoped>\n",
              "    .dataframe tbody tr th:only-of-type {\n",
              "        vertical-align: middle;\n",
              "    }\n",
              "\n",
              "    .dataframe tbody tr th {\n",
              "        vertical-align: top;\n",
              "    }\n",
              "\n",
              "    .dataframe thead th {\n",
              "        text-align: right;\n",
              "    }\n",
              "</style>\n",
              "<table border=\"1\" class=\"dataframe\">\n",
              "  <thead>\n",
              "    <tr style=\"text-align: right;\">\n",
              "      <th></th>\n",
              "      <th>Tipo</th>\n",
              "      <th>Descripcion</th>\n",
              "      <th>Habitaciones</th>\n",
              "      <th>Banos</th>\n",
              "      <th>Area</th>\n",
              "      <th>Barrio</th>\n",
              "      <th>UPZ</th>\n",
              "      <th>Valor</th>\n",
              "      <th>Moneda</th>\n",
              "      <th>Precio</th>\n",
              "    </tr>\n",
              "  </thead>\n",
              "  <tbody>\n",
              "    <tr>\n",
              "      <th>9486</th>\n",
              "      <td>Apartamento</td>\n",
              "      <td>Apartamento en venta en Kennedy</td>\n",
              "      <td>3</td>\n",
              "      <td>1</td>\n",
              "      <td>52</td>\n",
              "      <td>Kennedy</td>\n",
              "      <td>Kennedy Central</td>\n",
              "      <td>$ 200.000.000</td>\n",
              "      <td>$</td>\n",
              "      <td>200.000.000</td>\n",
              "    </tr>\n",
              "    <tr>\n",
              "      <th>2463</th>\n",
              "      <td>Casa</td>\n",
              "      <td>Casa en venta en Teusaquillo</td>\n",
              "      <td>8</td>\n",
              "      <td>4</td>\n",
              "      <td>550</td>\n",
              "      <td>Teusaquillo</td>\n",
              "      <td>Teusaquillo</td>\n",
              "      <td>$ 1.300.000.000</td>\n",
              "      <td>$</td>\n",
              "      <td>1.300.000.000</td>\n",
              "    </tr>\n",
              "    <tr>\n",
              "      <th>1422</th>\n",
              "      <td>Apartamento</td>\n",
              "      <td>Apartamento en venta en Zona Noroccidental</td>\n",
              "      <td>3</td>\n",
              "      <td>2</td>\n",
              "      <td>99</td>\n",
              "      <td>Zona Noroccidental</td>\n",
              "      <td>CHAPINERO: Pardo Rubio + Chapinero</td>\n",
              "      <td>$ 495.000.007</td>\n",
              "      <td>$</td>\n",
              "      <td>495.000.007</td>\n",
              "    </tr>\n",
              "  </tbody>\n",
              "</table>\n",
              "</div>\n",
              "      <button class=\"colab-df-convert\" onclick=\"convertToInteractive('df-66092d56-5cc5-4048-81b1-2c5b064641f2')\"\n",
              "              title=\"Convert this dataframe to an interactive table.\"\n",
              "              style=\"display:none;\">\n",
              "        \n",
              "  <svg xmlns=\"http://www.w3.org/2000/svg\" height=\"24px\"viewBox=\"0 0 24 24\"\n",
              "       width=\"24px\">\n",
              "    <path d=\"M0 0h24v24H0V0z\" fill=\"none\"/>\n",
              "    <path d=\"M18.56 5.44l.94 2.06.94-2.06 2.06-.94-2.06-.94-.94-2.06-.94 2.06-2.06.94zm-11 1L8.5 8.5l.94-2.06 2.06-.94-2.06-.94L8.5 2.5l-.94 2.06-2.06.94zm10 10l.94 2.06.94-2.06 2.06-.94-2.06-.94-.94-2.06-.94 2.06-2.06.94z\"/><path d=\"M17.41 7.96l-1.37-1.37c-.4-.4-.92-.59-1.43-.59-.52 0-1.04.2-1.43.59L10.3 9.45l-7.72 7.72c-.78.78-.78 2.05 0 2.83L4 21.41c.39.39.9.59 1.41.59.51 0 1.02-.2 1.41-.59l7.78-7.78 2.81-2.81c.8-.78.8-2.07 0-2.86zM5.41 20L4 18.59l7.72-7.72 1.47 1.35L5.41 20z\"/>\n",
              "  </svg>\n",
              "      </button>\n",
              "      \n",
              "  <style>\n",
              "    .colab-df-container {\n",
              "      display:flex;\n",
              "      flex-wrap:wrap;\n",
              "      gap: 12px;\n",
              "    }\n",
              "\n",
              "    .colab-df-convert {\n",
              "      background-color: #E8F0FE;\n",
              "      border: none;\n",
              "      border-radius: 50%;\n",
              "      cursor: pointer;\n",
              "      display: none;\n",
              "      fill: #1967D2;\n",
              "      height: 32px;\n",
              "      padding: 0 0 0 0;\n",
              "      width: 32px;\n",
              "    }\n",
              "\n",
              "    .colab-df-convert:hover {\n",
              "      background-color: #E2EBFA;\n",
              "      box-shadow: 0px 1px 2px rgba(60, 64, 67, 0.3), 0px 1px 3px 1px rgba(60, 64, 67, 0.15);\n",
              "      fill: #174EA6;\n",
              "    }\n",
              "\n",
              "    [theme=dark] .colab-df-convert {\n",
              "      background-color: #3B4455;\n",
              "      fill: #D2E3FC;\n",
              "    }\n",
              "\n",
              "    [theme=dark] .colab-df-convert:hover {\n",
              "      background-color: #434B5C;\n",
              "      box-shadow: 0px 1px 3px 1px rgba(0, 0, 0, 0.15);\n",
              "      filter: drop-shadow(0px 1px 2px rgba(0, 0, 0, 0.3));\n",
              "      fill: #FFFFFF;\n",
              "    }\n",
              "  </style>\n",
              "\n",
              "      <script>\n",
              "        const buttonEl =\n",
              "          document.querySelector('#df-66092d56-5cc5-4048-81b1-2c5b064641f2 button.colab-df-convert');\n",
              "        buttonEl.style.display =\n",
              "          google.colab.kernel.accessAllowed ? 'block' : 'none';\n",
              "\n",
              "        async function convertToInteractive(key) {\n",
              "          const element = document.querySelector('#df-66092d56-5cc5-4048-81b1-2c5b064641f2');\n",
              "          const dataTable =\n",
              "            await google.colab.kernel.invokeFunction('convertToInteractive',\n",
              "                                                     [key], {});\n",
              "          if (!dataTable) return;\n",
              "\n",
              "          const docLinkHtml = 'Like what you see? Visit the ' +\n",
              "            '<a target=\"_blank\" href=https://colab.research.google.com/notebooks/data_table.ipynb>data table notebook</a>'\n",
              "            + ' to learn more about interactive tables.';\n",
              "          element.innerHTML = '';\n",
              "          dataTable['output_type'] = 'display_data';\n",
              "          await google.colab.output.renderOutput(dataTable, element);\n",
              "          const docLink = document.createElement('div');\n",
              "          docLink.innerHTML = docLinkHtml;\n",
              "          element.appendChild(docLink);\n",
              "        }\n",
              "      </script>\n",
              "    </div>\n",
              "  </div>\n",
              "  "
            ]
          },
          "metadata": {},
          "execution_count": 36
        }
      ]
    },
    {
      "cell_type": "code",
      "source": [
        "inmueble.info()"
      ],
      "metadata": {
        "id": "dZ8lhMxvWLy4",
        "colab": {
          "base_uri": "https://localhost:8080/"
        },
        "outputId": "1b19ce7d-2ef7-403e-9ed5-6e9ee6086b16"
      },
      "execution_count": null,
      "outputs": [
        {
          "output_type": "stream",
          "name": "stdout",
          "text": [
            "<class 'pandas.core.frame.DataFrame'>\n",
            "RangeIndex: 9520 entries, 0 to 9519\n",
            "Data columns (total 10 columns):\n",
            " #   Column        Non-Null Count  Dtype \n",
            "---  ------        --------------  ----- \n",
            " 0   Tipo          9520 non-null   object\n",
            " 1   Descripcion   9520 non-null   object\n",
            " 2   Habitaciones  9520 non-null   int64 \n",
            " 3   Banos         9520 non-null   int64 \n",
            " 4   Area          9520 non-null   int64 \n",
            " 5   Barrio        9520 non-null   object\n",
            " 6   UPZ           9478 non-null   object\n",
            " 7   Valor         9520 non-null   object\n",
            " 8   Moneda        9520 non-null   object\n",
            " 9   Precio        9520 non-null   object\n",
            "dtypes: int64(3), object(7)\n",
            "memory usage: 743.9+ KB\n"
          ]
        }
      ]
    },
    {
      "cell_type": "code",
      "source": [
        "#Para poder hacer la conversion de texto a número es necesario tratar la base de datos, daremos el formato a precio sin el punto decimal\n",
        "inmueble['Precio'] = inmueble['Precio'].str.replace('.','',regex=True)"
      ],
      "metadata": {
        "id": "61VQc-MBot-e"
      },
      "execution_count": null,
      "outputs": []
    },
    {
      "cell_type": "code",
      "source": [
        "inmueble[['Precio', 'Barrio']]"
      ],
      "metadata": {
        "colab": {
          "base_uri": "https://localhost:8080/",
          "height": 424
        },
        "id": "k4RMg5kTqA-b",
        "outputId": "8f469de6-a081-49f0-fa12-1ae4c57f38f4"
      },
      "execution_count": null,
      "outputs": [
        {
          "output_type": "execute_result",
          "data": {
            "text/plain": [
              "          Precio                  Barrio\n",
              "0      360000000      Zona Noroccidental\n",
              "1      670000000                Castilla\n",
              "2     1120000000         Chico Reservado\n",
              "3      890000000                 Usaquén\n",
              "4      970000000             Bella Suiza\n",
              "...          ...                     ...\n",
              "9515   290000000                 Kennedy\n",
              "9516   670000000  Parque Central Bavaria\n",
              "9517   900000000                Restrepo\n",
              "9518   335000000                Engativa\n",
              "9519   144990000                 Tintala\n",
              "\n",
              "[9520 rows x 2 columns]"
            ],
            "text/html": [
              "\n",
              "  <div id=\"df-dedf7509-3beb-4b6e-82d3-37e7b4220bbb\">\n",
              "    <div class=\"colab-df-container\">\n",
              "      <div>\n",
              "<style scoped>\n",
              "    .dataframe tbody tr th:only-of-type {\n",
              "        vertical-align: middle;\n",
              "    }\n",
              "\n",
              "    .dataframe tbody tr th {\n",
              "        vertical-align: top;\n",
              "    }\n",
              "\n",
              "    .dataframe thead th {\n",
              "        text-align: right;\n",
              "    }\n",
              "</style>\n",
              "<table border=\"1\" class=\"dataframe\">\n",
              "  <thead>\n",
              "    <tr style=\"text-align: right;\">\n",
              "      <th></th>\n",
              "      <th>Precio</th>\n",
              "      <th>Barrio</th>\n",
              "    </tr>\n",
              "  </thead>\n",
              "  <tbody>\n",
              "    <tr>\n",
              "      <th>0</th>\n",
              "      <td>360000000</td>\n",
              "      <td>Zona Noroccidental</td>\n",
              "    </tr>\n",
              "    <tr>\n",
              "      <th>1</th>\n",
              "      <td>670000000</td>\n",
              "      <td>Castilla</td>\n",
              "    </tr>\n",
              "    <tr>\n",
              "      <th>2</th>\n",
              "      <td>1120000000</td>\n",
              "      <td>Chico Reservado</td>\n",
              "    </tr>\n",
              "    <tr>\n",
              "      <th>3</th>\n",
              "      <td>890000000</td>\n",
              "      <td>Usaquén</td>\n",
              "    </tr>\n",
              "    <tr>\n",
              "      <th>4</th>\n",
              "      <td>970000000</td>\n",
              "      <td>Bella Suiza</td>\n",
              "    </tr>\n",
              "    <tr>\n",
              "      <th>...</th>\n",
              "      <td>...</td>\n",
              "      <td>...</td>\n",
              "    </tr>\n",
              "    <tr>\n",
              "      <th>9515</th>\n",
              "      <td>290000000</td>\n",
              "      <td>Kennedy</td>\n",
              "    </tr>\n",
              "    <tr>\n",
              "      <th>9516</th>\n",
              "      <td>670000000</td>\n",
              "      <td>Parque Central Bavaria</td>\n",
              "    </tr>\n",
              "    <tr>\n",
              "      <th>9517</th>\n",
              "      <td>900000000</td>\n",
              "      <td>Restrepo</td>\n",
              "    </tr>\n",
              "    <tr>\n",
              "      <th>9518</th>\n",
              "      <td>335000000</td>\n",
              "      <td>Engativa</td>\n",
              "    </tr>\n",
              "    <tr>\n",
              "      <th>9519</th>\n",
              "      <td>144990000</td>\n",
              "      <td>Tintala</td>\n",
              "    </tr>\n",
              "  </tbody>\n",
              "</table>\n",
              "<p>9520 rows × 2 columns</p>\n",
              "</div>\n",
              "      <button class=\"colab-df-convert\" onclick=\"convertToInteractive('df-dedf7509-3beb-4b6e-82d3-37e7b4220bbb')\"\n",
              "              title=\"Convert this dataframe to an interactive table.\"\n",
              "              style=\"display:none;\">\n",
              "        \n",
              "  <svg xmlns=\"http://www.w3.org/2000/svg\" height=\"24px\"viewBox=\"0 0 24 24\"\n",
              "       width=\"24px\">\n",
              "    <path d=\"M0 0h24v24H0V0z\" fill=\"none\"/>\n",
              "    <path d=\"M18.56 5.44l.94 2.06.94-2.06 2.06-.94-2.06-.94-.94-2.06-.94 2.06-2.06.94zm-11 1L8.5 8.5l.94-2.06 2.06-.94-2.06-.94L8.5 2.5l-.94 2.06-2.06.94zm10 10l.94 2.06.94-2.06 2.06-.94-2.06-.94-.94-2.06-.94 2.06-2.06.94z\"/><path d=\"M17.41 7.96l-1.37-1.37c-.4-.4-.92-.59-1.43-.59-.52 0-1.04.2-1.43.59L10.3 9.45l-7.72 7.72c-.78.78-.78 2.05 0 2.83L4 21.41c.39.39.9.59 1.41.59.51 0 1.02-.2 1.41-.59l7.78-7.78 2.81-2.81c.8-.78.8-2.07 0-2.86zM5.41 20L4 18.59l7.72-7.72 1.47 1.35L5.41 20z\"/>\n",
              "  </svg>\n",
              "      </button>\n",
              "      \n",
              "  <style>\n",
              "    .colab-df-container {\n",
              "      display:flex;\n",
              "      flex-wrap:wrap;\n",
              "      gap: 12px;\n",
              "    }\n",
              "\n",
              "    .colab-df-convert {\n",
              "      background-color: #E8F0FE;\n",
              "      border: none;\n",
              "      border-radius: 50%;\n",
              "      cursor: pointer;\n",
              "      display: none;\n",
              "      fill: #1967D2;\n",
              "      height: 32px;\n",
              "      padding: 0 0 0 0;\n",
              "      width: 32px;\n",
              "    }\n",
              "\n",
              "    .colab-df-convert:hover {\n",
              "      background-color: #E2EBFA;\n",
              "      box-shadow: 0px 1px 2px rgba(60, 64, 67, 0.3), 0px 1px 3px 1px rgba(60, 64, 67, 0.15);\n",
              "      fill: #174EA6;\n",
              "    }\n",
              "\n",
              "    [theme=dark] .colab-df-convert {\n",
              "      background-color: #3B4455;\n",
              "      fill: #D2E3FC;\n",
              "    }\n",
              "\n",
              "    [theme=dark] .colab-df-convert:hover {\n",
              "      background-color: #434B5C;\n",
              "      box-shadow: 0px 1px 3px 1px rgba(0, 0, 0, 0.15);\n",
              "      filter: drop-shadow(0px 1px 2px rgba(0, 0, 0, 0.3));\n",
              "      fill: #FFFFFF;\n",
              "    }\n",
              "  </style>\n",
              "\n",
              "      <script>\n",
              "        const buttonEl =\n",
              "          document.querySelector('#df-dedf7509-3beb-4b6e-82d3-37e7b4220bbb button.colab-df-convert');\n",
              "        buttonEl.style.display =\n",
              "          google.colab.kernel.accessAllowed ? 'block' : 'none';\n",
              "\n",
              "        async function convertToInteractive(key) {\n",
              "          const element = document.querySelector('#df-dedf7509-3beb-4b6e-82d3-37e7b4220bbb');\n",
              "          const dataTable =\n",
              "            await google.colab.kernel.invokeFunction('convertToInteractive',\n",
              "                                                     [key], {});\n",
              "          if (!dataTable) return;\n",
              "\n",
              "          const docLinkHtml = 'Like what you see? Visit the ' +\n",
              "            '<a target=\"_blank\" href=https://colab.research.google.com/notebooks/data_table.ipynb>data table notebook</a>'\n",
              "            + ' to learn more about interactive tables.';\n",
              "          element.innerHTML = '';\n",
              "          dataTable['output_type'] = 'display_data';\n",
              "          await google.colab.output.renderOutput(dataTable, element);\n",
              "          const docLink = document.createElement('div');\n",
              "          docLink.innerHTML = docLinkHtml;\n",
              "          element.appendChild(docLink);\n",
              "        }\n",
              "      </script>\n",
              "    </div>\n",
              "  </div>\n",
              "  "
            ]
          },
          "metadata": {},
          "execution_count": 39
        }
      ]
    },
    {
      "cell_type": "code",
      "source": [
        "inmueble['Precio'].sum()"
      ],
      "metadata": {
        "colab": {
          "base_uri": "https://localhost:8080/",
          "height": 174
        },
        "id": "HuABGg67qe73",
        "outputId": "a2285986-da53-45e8-b05c-8e5555193ebc"
      },
      "execution_count": null,
      "outputs": [
        {
          "output_type": "execute_result",
          "data": {
            "text/plain": [
              "'3600000006700000001120000000890000000970000000510000000500000000235000000085000000064200000065200000016800000020500000030000000068000000025190000004200000006200000002390000001600000000420000000625000000279900000014500000002000000000670000000180000000046900000058000000044500000026150000027800000025800000052000000020000000012900000035000000029050000075000000049500000028500000090000000018000000009900000004180000003490000005650000003700000002590000003100000003540000003720000005000000004200000001050000000185000000349000000515000000287000000265000000500000000261500000300000000278000000258000000520000000350000000290500000129000000200000000750000000418000000495000000349000000310000000565000000370000000259000000354000000285000000420000000372000000500000000185000000105000000034900000018000000009000000009900000002250000001480000003315000003000000001030000000195000000200000000168000000323000000275000000510000000176000000680000000680000000217000000105000000037500000045800000020000000004250000003180000006600000007300000001400000003430000003850000001300000000119500000051900000035000000020200000042900000064000000043500000061000000065000000042100000013000000001550000005300000003300000002250000001430000002455000004330000003150000004500000003500000002050000001200000000169000000375000000460000000308000000110000000040000000086000000016500000005650000002380000005030000003300000004000000001650000000580000000503000000635000000499000000371000000179000000348200000238000000173000000257000000110000000029850000068000000068000000021700000010500000003750000006600000003180000004580000004250000002000000000343000000730000000140000000130000000038500000036900000036600000037800000035500000070000000099000000060000000051600000035000000047500000074900000011950000004980000002690000001530000003350000003990000003730000004150000001550000000460000000225000000200000000234000000199000000450000000140000000020200000035000000051900000031000000035500000054500000072000000065000000034300000012700000037000000016200000015600000001360000002650000001310000004160000001610000009000000003890000001900000001390000003190000003270000004745000003080000007200000003100000001775000001200000000380000000210000000129000000032000000044500000034000000051000000046500000022000000033700000026000000044500000029000000034251400062500000049000000035000000044415000036000000037000000015000000023250000027100000045000000016350000039000000030000000040600000046500000039000000017500000044500000042200000069000000044500000035700000046500000016400000030000000040600000017000000005700000004600000009600000005100000005200000001420000007500000001600000004450000005700000003199815235100000003800000001340000001200000004600000005600000003510000001390000000422000000260000000980000000116100000980000000237000000320000000530000000503000000117000000130000000047700000045000000051500000073000000060000000048000000056000000030800000036500000012000000003710000008500000004280000004210000006500000002950000001440000002800000001620000006200000001200000000360000000350000000650000000560000000295000000413500000120000000037000000060000000039000000044750000013200000018000000028500000062000000040000000013800000003352388008200000005450000002170000004950000003300000005700000002800000002000000000390000000311000000164000000510000000319000000510000000303960000387000000390000000315000000245000000136000000151000000129500000150000000360000000141000000371000000272000000113000000237000000122000000243000000420000000125000000134000000177000000116000000930000000390000000490000000449964000650000000420000000600000000800000000134000000298000000315000000162000000257000000037500000040000000033000000044750000016750000012500000040000000031000000028700000051600000041600000014400000019200000029000000012150000041350000057000000011000000050800000012400000018500000029000000049500000075000000032700000039000000029000000031000000027800000033000000049000000024900000018000000037000000013400000045000000034000000014400000012000000013100000013800000035700000031600000016200000015500000029000000047400000029500000012700000039000000026200000011700000012000000009900000003830450003710000005165000007500000002820000003710000001100000001440000003570000001340000001600000008500000001200000001160000002500000001110000001070000001230000003470000004000000003000000001410000002770000004200000002750000008500000003900000004450000003100000002770000002900000003470000001230000003400000001560000003950000002450000001300000001360000004765000004765000002250000001650000004510000003070000001380000001800000006200000003980000002760000007500000002450000005550000004500000003700000001620000001730000006290000002200000003900000003900000003140000001700000002000000002510000001680000002000000003400000001030000002300000001200000000355000000600000000378300000190000000016000000065000000010200000014800000050000000013100000014200000038900000052250000046500000012500000002350000001640000004160000003180000001800000003900000002585000002050000001920000005225000002350000001250000000240000000320000000116100000224000000192000000250000000500000000345000000256500000323000000150000000245000000850000000127000000210000000354000000281000000200000000500000000300000000400000000330000000163000000430000000330000000320000000281000000850000000210000000127000000260000000525000000760000000387000000360000000246000000319000000190000000500000000140000000049100000097000000014500000042000000066000000051500000052000000077000000049500000016000000013400000048990000031000000027000000060000000026150000044000000037200000027000000088000000050000000059000000061500000013100000013100000013100000014500000012500000082000000031900000013100000014200000015000000012500000026150000024800000031100000062000000049100000046000000041600000021600000050500000049200000040800000024500000055000000017700000057500000027000000015000000027000000075000000088000000021562500017600000040400000025000000023700000034000000046600000029000000001680000001680000005080000001600000002300000004260000005200000003500000000535000000373000000354000000245000000250000000500000000256500000210000000850000000525000000760000000260000000163000000430000000320000000330000000246000000300000000387000000360000000220000000193000000410000000247990000127000000281000000345000000183000000319000000500000000160000000270000000435600000491000000565000000159000000500000000322000000186000000444000000390000000202000000175000000190000000175000000386990000163000000530000000298000000238000000550000000145000000163000000570000000425000000330700000485000000500000000150500000367000000371000000394500000680000000600000000420000000165000000047800000013500000004600000004550000009500000006200000007300000008000000001150000005030000003510000003250000005200000003300000006600000005700000009700000004500000007300000004000000001650000006300000002800000003150000007800000001380000002200000003000000001400000004250000001490000001630000002250000003320000003550000001360000002330000003500000003100000004500000005000000003400000004300000002580000003000000007450000004100000004400000002600000006000000006850000008700000005650000004600000002150000004000000004600000002150000002050000002800000001700000001050000000285000000530000000120000000080000000028000000028000000024000000029000000060000000025000000016000000055000000024000000031500000028000000040000000075000000052000000025000000044000000096000000022000000006300000009700000003500000000265500000394058882220000000380000000509395301389227370300000000252000000233000000350000000175000000275000000330000000160000000510000000510000000495000000272000000312000000255000000317000000365000000510000000473000000272000000326000000245000000130000000250000000700000000444000000296000000565000000335000000498000000495000000342000000505000000295000000150000000450000000300000000534000000390000000500000000560000000490000000480000000190000000580000000118000000110000000420000000195000000491000000111000000035000000031000000049000000013990000004000000008150000001600000003000000002800000002950000001750000003600000005500000009000000005190000004950000008400000002200000000720000000350000000135000000032000000065000000086800000030500000047500000012000000001250000001800000000370000000480000000880000000483000000329000000198000000483000000530000000500000000491000000479000000519000000178000000491000000168000000100000000034050000036600000026500000050000000021000000038800000041350000028200000029800000035000000091500000024000000045000000023700000021250000053500000045100000049980000053500000055000000029600000053000000042100000043580000056100000016700000060000000053000000012950000004745000005000000003470000002570000003150000003750000003110000004900000006000000003500000003300000003300000004900000005500000008500000006200000001200000000325000000460000000125000000155000000016500000075000000028000000022000000085000000015500000029000000021250000019008000039000000013600000012500000001550000001300000000125000000027800000058000000034000000058000000015000000003850000003550000004450000007400000001190000000173000000950000000355000000870000000740000000445000000150000000038500000064000000022500000013700000018490000015400000034000000010400000035600000046000000038210000017000000004850000003700000004380000002300000001810000001130000004180000003110000001620000001760000003900000001360000001250000000155000000130000000012500000002780000005800000003400000005800000001500000000385000000355000000445000000740000000119000000095000000014400000048000000010800000001050000000178000000173000000870000000154000000340000000104000000225000000640000000184900000240000000400000000380000000260000000290000000135000000029000000053000000054000000029000000064800000030000000060000000052000000052000000012000000004700000002500000003500000003220000002300000004350000002890000001680000006650000004200000000435000000580000000950000000350000000749000000110000000072000000036000000014000000001200000000260000000315000000485000000380000000395000000145000000795000000215000000610000000037000000046000000091000000093600000027000000041500000039900000065000000097000000017500000005100000009700000008800000000230000000600000000630000000200000000750000000489000000300000000155500000180000000021000000006900000004990000003300000004950000005200000004700000004250000004800000003480000001300000000980000000950000000850000000650000000130000000026000000047000000049500000066500000098000000068000000049500000043000000080000000010000000008900000001050000000525000000290000000110000000038000000056000000056500000057000000081000000034000000042000000046500000038000000048400000018000000016000000016000000098000000079000000079000000058000000020000000089000000068000000050000000040000000013900000002200000001300000000280000000340000000347000000980000000175000000400000000825000000550000000200000000030000000011000000001680000006000000003900000003900000001200000003900000004000000001405800001340000000360000000160000000012000000002995000008500000003220000006000000001780000001600000001150000000290000000136000000060100000062000000041778000042200000035000000026000000028000000031600000035700000063000000031700000075000000022000000024500000024700000031950000025000000092000000036000000006100000004300000006000000001780000001600000001150000000290000000136000000060100000062000000041778000042200000035000000026000000028000000022500000048500000032500000025700000012900000013500000029600000018500000020950000032000000023600000014400000014900000011000000033500000075000000051000000013500000018500000029600000020950000024400000042500000022000000003710000002450000002750000002450000001350000000280000000215000000047700000067500000072000000012500000003400000002600000005490000004000000004250000002800000003000000002640000005500000006200000003500000002450000004080000001120000000200000000320000000300000000040400000054900000061800000042000000004060000003100000008100000002750000000330000000450000000180000000013500000016500000006900000008550000000180000000249000000347000000390000000061000000016050000025500000033000000003350000001890000003850000001890000002400000002940000005200000004750000009900000002890000004950000006660000005600000005180000001500000000170000000210000000178000000163000000045000000043560000025700000083000000048500000055000000053000000029000000038000000027000000048000000065000000018700000020000000020500000022275000048600000054000000013000000058700000015000000041679000012500000003200000005400000004697550001380000003000000003000000001050000000430000000153000000420750000310000000287000000634000000125000000225000000374500000800000000900000000640000000210000000800000000327000000471990000519800000282000000311000000377350000316000000500000000528000000398000000300000000258000000356000000399000000336000000545000000570000000340000000451000000253500000370990000440000000385000000336000000357400000417990000480650000550000000220000000044000000035740000055000000016300000026000000041799000067000000037999000029000000050000000031950000018000000029000000047200000049999000055994700047700000027000000029200000041999000049500000727600000046200000028800000048000000047903000048000000053400000035000000045800000052240000048000000045000000032200000042000000039599000013000000006850000004910000005200000003800000006339000004850000005300000002130000002500000000466000000160000000680000000432990000292000000170000000310000000570000000535000000125000000051500000027000000001950000003250000002100000003500000001925000003370000003500000003110000001300000000940000000280000000340000000550000000472000000510000000380000000255000000290000000390000000140000000033000000014000000015500000068000000011000000003600000004250000001470000001900000001200000004200000005050000001300000001380000000420000000550000000420000000310000000580000000980000000270000000435000000900000000490000000380000000660000000850000000155000000039000000023000000062000000018000000090000000066000000045500000045000000070000000023000000002800000009300000008500000009800000004800000008400000004100000005200000003900000005350000003740000001170000005200000002746000003620000006010000002000000001830000002600000002300000001300000003000000004950000001700000006500000004852000008400000005200000003300000000420000000699000000115000000048000000028200000045000000036500000080000000048300000051499000050000000085000000035000000028000000033000000003400000006098000003469900003390000001160000002300000001100000000680000000133200000423000000586700000108000000074890000033900000037000000027000000050000000026800000031000000037276000011500000001500000000486990000282000000450000000160000000030500000080000000042000000048000000025000000031500000012000000029000000036500000080000000048300000050000000034699000033900000060980000051499000034000000013320000068000000033900000011000000003300000000445000000190000000210000000510000000477000000290000000406000000267990000423000000296000000268000000165000000500000000255000000142000000365000000167000000375000000287990000498900000740000000270000000305000000580000000327000000214830000150000000035000000053000000031000000011500000003727600001800000000520000000165000000160000000600000000170000000820000000120000000088300000075000000049500000030000000022000000036500000063000000049000000048500000058000000013400000006650000004900000005800000003750000004700000002660000004850000001700000000140000000039800000054000000035000000096000000065000000042000000016500000036000000085000000079500000041000000011000000004980000003450000007800000001950000002950000006000000001900000001930000006100000009500000007000000003950000003200000005600000002750000008000000003600000007500000002020000005650000004900000004650000003000000007800000001700000001200000000450000000770000000345000000130000000038700000085000000020000000017000000006990000008000000002750000002650000006500000003470000005600000002750000008000000003315000002960000002880000004100000002400000003500000002350000001820000006850000008300000001000000000740000000845000000860000000330000000095000000072000000025000000035000000023500000015500000003650000005093953014950000004000000001144253000137900000013935290002600000006424370001226400000155000000175000000169000000150000000360000000125000000500000000365000000330000000530000000485000000500000000515000000518000000409365000515000000447500000504900000500000000360000000480000000178900000074755280014000000001530000004300000004900000001320000000090000000069800000013857336524500000001200000000219000000087500000013000000005000000005049000004475000003600000001650000005950000001344332000186000000055000000059400000071158298668000000023336734988450000006200000003850000001722400000125000000012500000009890000003400000002250000008200000006500000001350000000700000000450000000550000000430000000280000000160000000320000000240000000019500000020000000065000000020000000015000000001600000001500000000420000000450000000490000000180000000049000000023800000087000000028500000063000000099000000022000000048500000023500000024990000049213400014000000005250000008200000006950000006300000001600000000470500000243000000495000000440000000157200000170000000037500000014300000090000000063000000075000000049000000020000000004900000001359000000110000000027000000039880000087820000034000000036300000026000000026000000029000000060000000055500000073000000050000000034000000052000000075000000046300000023000000002880000002312984644500000001100000000250000000380000000425000000750000000350000000120000000024128000033000000023248320089000000024000000048600000023600000093927500875000000075000000064500000039550000042000000017000000039000000028500000048000000026000000059000000027000000063000000076500000051000000038600000025310000036000000037450000041500000043900000014400000046250000044900000045000000087200000037000000014250000014650000014700000016400000032500000039600000039600000043000000048800000075000000040650000041500000057900000066000000015000000009000000006400000003790000005800000001580000000280000000070000000034500000060000000052999997442400000004320000006800000006300000003350000002330000003100000009450000022000000031000000041000000046600000038500000041500000018500000029850000093000000082000000070000000042500000023000000008500000003700000002600000000800000000828400000310000000160000000110000000036500000059900000022000000035000000013500000002500000001650000005200000009500000003650000006900000001580000004100000005800000002370000002200000001300000000380000000594000000190000000016900000002400000000320000000130000000022000000002500000000105000000011800000003600000005900000007406079002500000002950000000118000000028000000063900000023000000001440000008900000005800000001350000000895000000260000000010000000027000000034000000043800000078000000011150000022900000035000000015000000038000000017000000033800000038400000031100000046900000080000000017000000023500000044950000027016432068000000041900000068000000094500000628000000520000000360000000160000000460000000320000000640000000148499993633000000075000000025000000006700000001200000000400000000750000000390000000800000000580000000550000000165000000580000000750000000990000000345000000320000000035000000061000000059900000020500000027928016014000000003149100032314910003228000000025100000012000000005000000005000000005800000000379000000680000000240000000377000000197000000590000000362709990411500000002300000002600000001700000000134135000109700000324100000430000000110000000031000000022000000042500000023000000044000000034000000004150000001200000000590000000280000000255000000160000000010000000003310000007200000001600000002000000004740000003200000005000000004300000002200000000776000000400000000450000000370000000370000000175000000175000000165000000016500000095000000012000000008500000007000000005990000003300000001200000007000000001500000007500000004850000004500000005550000001100000000170000000485000000529999974435000000012000000006700000001100000000245000000620000000690000000800000000950000000160000000019900000046000000027000000073000000065000000054000000053000000038900000065000000061000000017400000030200000062000000028500000033800000038850000040650000011950000005300000005100000002485000004650000001150000000550000000360000000125000000038000000060000000043000000038000000059000000035000000021500000023300000093000000043000000034000000028000000015000000018500000010000000008500000003100000007500000002230000003700000007500000002470000128660000000360000000223000000345000000590000000730000000724460000499000000208000000032000000084000000129800000332500000600000000129800000670000000199900000125000000069992700015000000007755640002063757761450000004700000003325000002805000001572000006500000001100000000235000000330000000470500000497391000395000000157200000206375776350000000155000000322000000795000000157200000384000000249900000249900000950000000650000000250000000024000000005250000001740000000350000000197000000043930000098000000015000000003400000001500000000595000000120000000435000000332000000575000000999200009600000007700000004600000001000000000455000000135000000897000000323100000450000000250000000185000000015200000025910000040734201613000000016800000012460000005000000001450000001200000009000000001200000000250000000140000000385000000160000000550000000580000000315000000355000000400000000650000000620000000400000000550000000160000000731000000670000000105000000025000000007500000001300000002500000001600000001000000000150000000016500000061500000025200000034500000055000000027000000035000000035000000035000000014200000024950000032500000024900000029850000040000000013300000006000000001170000001014570000185000000185000000110000000047000000072000000020950000643600000003200000000420000000230000000233000000199000000350000000320000000311000000380000000100000000400000000145000000474500000290000000343000000620000000143000000330000000197000000150000000049843100055000000065000000032790000080000000085000000069000000015000000009000000001300000000830000000140000000034000000055000000077000000022000000005500000000500000000160000000021000000003500000001600000001450000000450000000384500000101000000016950000027500000046200000039450000036800000038200000029500000015500000040400000012500000003950000002050000004535000002620000002700000004200000001620000003500000003840000001500000000135000000036500000031000000022800000068000000031000000095000000042000000043000000089500000043500000089700000043000000039000000036000000035000000052000000033000000036000000010900000003900000003300000000220000000420000000790000000720000000290000000420000000080000000052000000015500000032000000013600000039500000086000000027000000003900000009950000003900000001500000000700000000470000000140000000170000000025000000007500000002800000001400000008500000001300000000900000003000000000500000000120000000250000000025000000009980000009143000002500000008500000001200000000280000000580000000170000000237000000245000000181000000455000000150000000155000000460000000540000000340000000278000000790000000600000000319000000177000000575000000700000000132000000413500000412000000120000000620000000420000000015050000090000000023000000096000000270000000270000000315000000447500000150000000800000000720000000440000000844000000360000000200000000500000000150000000047450000015000000002400000006800000006600000001400000000450000000064500000098000000042000000039000000024000000025300000005200000000638000000120000000011000000004300000002400000000423800000038000000027800000097999900015900000005000000008500000009600000001620000004000000007400000002250000000800000000155000000580000000250000000035700000059900000019500000008800000004700000001470000002150000001700000000205000000200000000320000000084000000074371000083446000016000000027000000057000000017000000099000000039800000014000000001900000000720000000115000000013500000005350000005000000002400000001200000000310000000350000000320000000145000000022000000002420000003500000004000000001850000004850000004940000002700000001200000000980000000135000000085000000025600000034000000038500000029000000009700000001350000000240000000700000000026500000001100000000270000000025000000001200000000230000000540000000710000000610000000170000000170000000024000000012990000009000000007800000002500000000750000000495000000650000000100000000033000000063000000085000000085000000095000000090000000052500000001750000000380000000960000000460000000275550000017000000001550000000335000000590000000590000000390000000265000000150000000459000000285000000053100000016500000001200000000149999900040500000043000000050000000056000000062000000054000000055000000080000000095000000052500000084600000063500000034500000088000000096000000046000000033000000026000000043000000015800000005400000001900000007000000003900000000120000000038000000023000000014000000004500000009200000005800000004400000009800000007500000003850000004500000004320000008000000004100000008900000007600000002060000002250000001800000000160000000980000000592500000594000000285000000110000000018000000004770000006200000006500000003550000004980000001450000000125000000660000000680000000680000000119339000046000000079500000067900000025500000019000000017000000090000000053000000023000000085000000045000000036000000014300000080600000070000000048000000050000000022000000002800000004800000005000000005080000003430000003750000003100000002800000004800000003500000003400000002500000002600000001150000000300000000650000000482000000129690000145000000136000000150000000393000000183000000136000000134000000124000000129000000124000000650000000155000000150500000128000000128000000128000000196000000196000000230000000069000000011000000005500000005700000001950000003500000007499999993750000005350000002150000003200000001600000006000000001800000001300000001255000003400000001310000001360000001160000001360000001300000001275000001450000001265000001285000001550000001250000001250000001500000001473000001257300001500000001208000001500000001020000001740000006800000007200000002400000004682700001450000007900000003807000000100000000045000000049900000036000000031000000079000000036500000021000000078000000042500000012000000001000000000430000000410000000700000000850000000150000000014000000045000000016500000001250000000285000000880000000125000000015300000085000000015000000003230000002850000005526000004300000001700000000182000000479030000125000000176000000148000000155000000136000000130000000122000000148000000120800000134000000125500000102000000129000000450000000136000000147300000332000000150000000130000000205000000128000000129000000126500000102000000120800000131000000148000000122000000142000000125500000134000000125000000136000000136000000126500000147300000142000000280400000120800000122000000125000000125000000150000000136000000134000000134000000159000000159000000550000000880000000165000000425000000015000000006000000004500000001540000005500000003500000003950000004640000001200000000160000000152000000270000000920000000026200000054300000035000000002750000008129555008800000007450000009800000001500000000800000000157000000150000000310000000136000000153500000125000000130000000128000000153500000125500000134000000130000000128000000150000000124000000147300000131000000148000000128000000128000000120800000155000000134000000131000000147300000124000000153500000124000000129000000120800000129000000129000000150000000385000000188000000277000000232000000285000000442436000508000000350000000027000000041100000027000000031800000029850000028000000086000000011600000012000000011000000004100000008000000005167422605200000002800000001670000000200000000035900000029000000005000000000165000000010700000003850000006000000002990000004600000004500000003540000008600000002985000002800000002700000003180000001280000000190000000033500000098000000045000000010000000002150000000110000000025000000004000000004700000002500000005100000005500000001750000006500000003400000000125000000011000000001330000007500000001800000000330000000188000000170000000128000000540000000270000000365000000382000000280000000750000000170000000013000000011500000004700000003500000002000000002200000000430000000436000000429000000825000000348000000130000000057500000013800000003675000002510000004290000004300000004360000003820000003300000003800000007500000003100000008000000001700000000750000000180000000028000000018800000047000000020000000063500000017000000077800000013000000011500000003500000002700000003650000001280000001600000005400000001330000001990000007500000002200000002490000003650000003280000005400000004600000002650000002794000003779000001635000004600000003000000000440000000345000000650000000125000000095000000028000000006700000003470000007600000004400000004300000008200000001300000000139999999130000000074900000059990000015000000001880000000890000000139999999270000000420000000500000000565000000140000000021500000013000000004950000008650000004900000006500000002350000000160000000010500000007450000001500000000360000000132000000029500000056000000049100000069500000012000000004220000001300000000590000000980000000219000000028000000041960000016050000044243600036000000011500000004000000000730000000650000000033900000048200000040500000037500000042300000050000000052000000001960000000830000000980000000350000000012000000004800000000480000000280000000010800000009500000008500000009800000001100000000670000000183600000076000000044000000034700000027400000029000000027000000013000000004600000002190000000240000000380000000215000000130000000049500000013999999990000000039000000074900000040508400045893000089000000018800000002700000004800000005450000003200000005999000008154020512350000001500000005100000002490000003560000003039600006900000005280000007390000007390000005280000008500000006247500004080000004620000006000000004900000004620000003720000002750000001150000001490000005280000003100000003550000005280000007390000003250000007390000003200000001920000001100000000183680000142000000390000000150000000015048000073900000093000000022000000001330000002125000002700000003050000002700000001900000003200000002100000004040000001490000001900000001490000002170000001110000003900000002500000006500000003500000008900000003200000001960000000520000000025000000004100000006700000006500000002030000000105000000014900000006000000005260000004830000002680000004580000002730000003390000004820000003150000003750000002580000001600000000105000000042200000083000000039000000009900000004000000000980000000508300000054000000001490000002700000000117810000240000000210000000580000000160000000018600000019000000011000000018200000016900000020500000027200000033000000029500000033000000023700000010500000001900000002950000002050000001490000001260000002350000007390000004040000003300000002950000005000000001200000000739000000739000000720000000739000000390000000172000000250000000170000000303960000303960000528000000739000000311000000250000000169000000258360000190000000180000000205000000175000000190000000190000000985000000520000000900000000125000000065000000013800000012500000012300000080000000036500000017000000014700000051000000017000000002050000002125000001900000003200000000320000000073900000014900000047500000001900000003650000002125000007000000003130000008500000003050000001450000007390000001760000001760000001760000002500000001760000001700000001760000002500000001690000006900000001890000000170000000700000000165000000165000000780000000207200000134000000138000000115500000126000000795000000499000000245500000870000000634000000175000000680000000900000000670000000450000000500000000500000000500000000175000000690000000390000000390000000479000000740000000390000000830000000658000000820000000140000000055000000024800000041000000042000000012100000002600000002980000005500000001710000001480000000870000000800000000357000000300000000480000000153000000147000000750000000418000000600000000390000000530000000160000000050800000017930000002095000000136000000550000000870000000350000000430000000550000000245000000162000000680000000330000000142000000119000000348000000116000000119000000323000000130000000130000000160000000022800000084000000031500000032500000014950000003970000001690000001720000001760000004380000002412000005280000004500000007390000007390000001161000002500000001720000001770000004500000003100000001800000002500000001000000000210000000380000000400000000189000000052000000073900000012000000001700000003950000005700000002750000001900000006900000008600000007950000001650000000630000000570000000785000000250000000272250000450000000455000000575000000265000000750000000272250000440000000500000000154000000011900000016000000004750000003270000003400000007100000005000000004500000004400000001250000000590000000290500000290500000171000000360000000245000000245000000290500000159000000079500000055000000035000000040000000051000000069000000070000000025000000016900000017200000017600000011610000039500000057000000027500000020300000084000000046600000020950000005500000008700000005000000000185000000019400000032300000090000000095000000011000000002850000003230000005080000007200000003850000001400000001480000000119000000049000000011500000067000000013100000015000000030000000016800000068000000016000000011050000003540000001800000001770000001700000000996000000121000000353000000134000000115500000207200000126000000498000000165000000165000000780000000670000000450000000500000000500000000500000000149500000040000000001990000003250000008400000004600000004995000004300000006600000001790000000480000000466000000466000000110000000050800000050800000085000000023000000029500000095000000055000000033000000016300000033900000048600000045000000026000000046000000030000000004150000003800000001360000001330000005450000007600000004650000001050000001340000004765000001480000003600000004230000006100000004000000003970000004800000001300000000821700003540000001400000003970000004300000002850000000466000000466000000110000000040500000049000000050800000047000000070000000050800000012870000093000000066000000017900000004800000008500000003530000001950000000144000000144000000144000000435000000585000000488000000550000000153000000483000000175000000245000000500000000385000000285000000173000000390500000550000000354000000870000000449000000550000000895000000160000000098000000036000000048900000050000000062000000061000000015200000065000000023000000039000000033000000029000000008500000009950000008700000006340000001750000001750000002072000001340000001380000001155000001260000004500000005000000005000000001530000005000000003100000002100000004750000001500000000485000000465000000149500000055000000060000000042500000053000000022000000003690000002850000003000000001200000000300000000125000000011700000003710000003000000008900000001300000004995000003850000000460000000498000000300000000480000000155000000320000000217000000199000000400000000032500000018200000020000000037100000018018000072000000075000000090000000065000000087000000027000000021300000019000000002000000000163000000620000000600000000210000000045000000082000000075000000052900000088900000031900000012000000036500000036000000032300000039000000039000000039000000039000000022000000003400000007200000006650000001350000000105000000027000000085000000088000000015000000052800000033000000052500000089000000055000000010000000005000000002500000000120000000055000000085000000040000000073500000012500000002950000004500000005140000005900000004350000006300000004200000003900000003900000003900000004500000001400000003470000002500000001650000003900000003900000001300000003450000001500000000296000000310000000119500000022800000058500000039000000018000000047000000052000000045600000039000000053000000039000000039000000039000000039000000025000000012000000002780000008000000005800000003900000004000000001350000007200000006950000003905000004900000001480000001800000001765000006000000001290000000472000000175000000380000000710000000750000000390000000310000000272250000137000000470000000190000000400000000450000000450000000515000000410000000300000000650000000152000000340000000173500000525000000270000000075000000015900000015900000015900000015900000043700000020382300015900000043700000018000000089500000064500000029500000061000000013400000005450000003315000004300000002870000009900000007950000004196000001960000001250000000360000000550000000482000000335000000398600000476500000515000000465000000230000000042200000039700000041100000053500000072000000010000000003560000001170000000422000000560000000330000000390500000100000000049000000016300000053000000017300000042200000034050000044950000085000000025500000027800000039500000023000000042200000040000000042500000082500000029800000092000000085000000090000000019600000011000000002100000002560000003200000005500000001500000000540000000167000000153000000520000000980000000450000000033000000007000000001615000000280000000125000000024000000011600000026500000036500000037276000035800000042200000039700000072000000010000000003560000003905000001000000000490000000315000000355000000440000000237000000120000000013700000047000000034000000017350000040000000020000000004220000004000000006950000007700000004650000005150000004650000002300000000116000000390000000390000000630000000330000000105000000040800000087000000040900000051000000048200000043000000053500000012500000002550000004750000001770000005600000001130000006750000002850000002850000001428000005870000003880000004300000001000000000372000000345000000390000000700000000458000000380000000027800000068000000073000000019000000014500000022000000040000000027500000031600000048000000015300000017000000003570000004700000004500000003900000003900000003550000009800000001340000003600000005150000002140000002780000004500000002700000001960000001310000002550000001670000001250000000322000000110000000084000000038000000004870000002200000001400000000170000000014280000058700000038800000043000000010000000003720000003450000003900000007000000004580000004040000006300000001036000000700000000295000000330000000105000000040800000083000000013950000002208000005500000001670000000350000000375000000125000000228000000408000000400000000670000000690000000135000000033800000048070000029800000050000000016350000041960000017200000047900000013400000043700000043700000027000000002790000004890000002200000003380000001100000000190000000739000000190000000450000000381000000950000000545000000278000000169000000462000000220000000010500000004790000001200000000739000000790000000370000000440000000298000000489000000880000000167500000371000000595000000490000000277000000168000000680000000510000000158000000310000000440000000165000000399000000510000000282150000520000000370260000373000000285000000100000000027700000032000000038700000021200000065000000013500000005100000002600000001580000002400000001580000001450000001950000001580000004200000003580000003230000003600000000545000000230000000309000000624750000437000000437000000310000000680000000437000000570000000338000000110000000020000000045000000011900000087000000015800000017000000073900000079000000037000000028800000065000000048900000046200000015300000040800000098000000085000000052400000075000000016050000017700000054000000011500000001340000002000000005280000001300000000528000000200000000019500000005225000001300000001190000006980000001750000001310000001670000002490000002550000001960000002070000002560000008800000006247500001960000004450000001150000002760000002980000005500000001960000001168200005500000009500000002380000008200000001200000001590000001600000000880000000445000000196000000115000000256000000624750000257000000149000000027500000060000000066700000023800000048000000037000000028500000019500000068000000020000000002490000002985000002070000002100000003720000002050000002950000001450000000420000000330000000330000000330000000437000000437000000116000000120000000038700000041000000048300000051000000021200000027700000032000000038700000065000000013500000005100000002600000001580000002400000001580000001450000001455000002800000004380000004745000003800000003400000005175000001100000000290000000380000000341000000320000000295000000266000000485000000260000000187000000595000000132000000075000000075000000064500000039550000042000000017000000039000000028500000048000000026000000059000000027000000063000000076500000051000000038600000025310000036000000037450000041500000043900000014400000046250000044900000045000000087200000037000000014250000014650000014700000016400000032500000039600000039600000043000000048800000075000000040650000041500000057900000066000000015000000009000000006650000003950000002300000000390000000260000000425000000690000000600000000250000000800000000109000000054000000081000000033250000021400000067000000017500000085000000332500000176000000235000000249900000492134000140000000052500000082000000069500000063000000016000000004705000008500000003700000002600000000800000000828400000310000000160000000110000000036500000059900000022000000035000000013500000002500000001650000005200000009500000003770000008000000008200000008200000006900000002500000000240000000650000000850000000115000000095000000095000000012000000026000000029000000060000000055500000073000000050000000034000000052000000075000000046300000023000000002880000002312984644500000001100000000250000000380000000425000000750000000350000000120000000024128000033000000023248320089000000024000000048600000023600000093927500822000000014960000062000000048700000032000000066432000026570000011500000004550000001000000000155000000466000000330000000796000000306200000124000000580000000800000000820000000650000000232483200389649984450000000759000000410000000950000000237716992260000000245000000126050000284999987223771699226000000024500000012605000028499998726970000003400000009500000009200000006500000005699999744885000000120000000033000000028300000014000000001350000005950000002150000005200000001955000007800000001280000000338000000580000000125000000035000000069000000051100000065000000063000000047500000042000000050000000012500000020000000012500000007800000002100000002500000001120000004073420165180000005300000003060000002350000002550000001150000000700000000750000000185000000290500000160000000560000000190000000046500000056000000046500000012900000036500000022000000013000000003800000005940000001900000000169000000024000000003200000001300000000220000000025000000001050000000118000000036000000059000000074060790025000000029500000001180000000280000000639000000230000000014400000089000000058000000013500000008950000002600000000100000000270000000670000000110000000024500000062000000069000000080000000095000000016000000001990000004600000002700000007300000006500000005400000005300000003890000006500000001990000002400000005299999744360000000125000000068000000095000000048000000043500000052000000072000000025000000052000000043500000052000000072000000025000000052000000026000000047000000033000000016000000009500000004900000007000000001100000000990000000250000000012000000002450000002200000003350000001400000002800000005990000001850000001000000000850000000310000000750000000223000000370000000750000000590000000730000000724460000499000000208000000032000000084000000129800000332500000600000000129800000670000000199900000125000000069992700015000000007755640003450000002063757761450000004700000003325000002805000001572000006500000001100000000235000000330000000470500000497391000331000000720000000160000000200000000474000000320000000500000000430000000220000000077600000040000000045000000037000000037000000017500000017500000016500000001650000009500000001200000000850000000700000000599000000330000000250000000800000000358000000185000000530000000350000000960000000770000000460000000100000000045500000013500000089700000032310000045000000025000000018500000001520000002591000004073420161300000001680000001246000000500000000670000000247000012885000000027000000066500000045000000010250000009800000032900000040000000052000000003400000001250000000949100032125000000062800000087820000042500000044000000026500000024000000031579001610500000010000000003585000001200000006500000002975000003000000005600000002520000003450000005500000002700000003500000003500000003500000001420000002495000003250000002490000002985000004000000001330000000600000000117000000101457000018500000018500000011000000004700000007200000002095000064360000000320000000042000000023000000023300000019900000035000000032000000031100000038000000010000000040000000014500000047450000029000000034300000062000000014300000033000000043000000040000000011700000001900000000875000000366000000980000000478900000430000000010000000004700000001300000000520000000120000000061600000008700000004200000001550000000150000000040000000003400000007000000001390000000998000000157000000110000000049000000087500000027000000061000000045000000038450000010100000001695000002750000004620000003945000003680000003820000002950000001550000004040000001250000000395000000205000000453500000262000000270000000420000000162000000350000000384000000150000000065000000025000000028000000056000000020000000017000000005000000007430000014400000014000000060000000400000000320000000950000000190000000011200000005500000002600000004500000004400000001350000000480000000568000000145000000300000000015500000032000000013600000039500000086000000027000000003900000009950000003900000001500000000700000000470000000995000000390000000150000000070000000047000000014000000017000000002500000000750000000280000000140000000850000000130000000090000000300000000050000000012000000025000000002500000000998000000914300000250000000850000000120000000028000000058000000017000000023700000024500000018100000052000000022900000013500000080000000015000000059600000087000000032000000016900000007500000007500000001070000000125000000016900000006800000007500000008000000007000000006400000006180000001070000000320000000120000000596000000897000000610000000750000000320000000310000000980000000117000000127000000120000000362709990498000000145000000026000000026471000026200000032000000022900000036000000028550000025200000025200000093927500843500000024000000026000000012500000023000000010200000055000000026570000047400000021500000017600000014400000017000000050000000021500000017600000014400000017000000050000000023200000042050000040950000048000000031500000099000000067000000097500000016000000001450000000633710000190000000074371000063371000024000000001550000000835800000074371000083446000016000000027000000057000000017000000099000000039800000053500000050000000024000000012000000003100000003500000003200000001450000000220000000024200000035000000040000000018500000048500000049400000027000000012000000009800000001350000000850000000256000000340000000385000000290000000097000000013500000002400000007000000000265000000011000000002700000000250000000012000000002300000005400000007100000006100000001700000001700000000240000000129900000090000000078000000025000000007500000004950000006500000003850000001400000000182000000046000000065000000012500000003900000004800000001300000000550000000280000000125000000014000000023000000065000000079000000035000000088000000075000000031800000011000000007500000001100000000850000000790000000120000000021500000009500000003600000005500000005600000006200000005400000005500000008000000009500000005250000008460000006350000003450000008800000009600000004600000002400000000423800000038000000027800000097999900015900000005000000008500000009600000001620000004000000007400000002250000000800000000155000000580000000250000000035700000059900000019500000008800000004700000001470000002150000001700000000205000000200000000320000000084000000056724000057000000083000000012500000005200000008900000003150000009000000003350000001350000000280000000036000000045000000092000000061000000095000000085000000087000000028000000070000000033500000055000000045000000096000000017000000003450000004850000005200000003300000007500000006500000005850000007500000003800000004000000000190000000370000000160000000028500000012400000009750000004100000006700000002300000003450000004500000009600000006720791000370000000314322600018330000001150000000399000000175000000034000000010000000003300000006300000008500000008500000009500000003950000000750000000130000000229000000076000000080000000053000000014000000038000000034000000028500000027500000009300000008200000004800000007500000004000000003500000001160000000150000000046000000042000000022000000028500000031500000056000000022000000089000000098000000013000000008000000006500000004400000002800000004300000002850000006900000002200000002200000003150000002200000005600000002850000004100000001000000000350000000190000000174000000680000000720000000240000000468270000145000000790000000380700000010000000004500000004990000003600000003100000001600000000021000000012000000004300000003200000003750000006200000003590000004000000002750000000425000000950000000950000000600000000135000000587000000135000000055000000063000000076000000024200000061500000034500000074000000010800000001900000002550000002800000004800000003500000001300000001480000001550000004790300001208000001340000001255000001220000001480000001020000001250000001250000001280000001480000001290000001280000001020000001310000001550000001450000001535000001290000001310000001250000001020000001285000001450000004500000001535000001290000001020000001310000001290000001280000001250000001550000001450000001250000001020000001310000001285000001450000001535000001290000001480000001535000001290000004500000001360000006120000001590000001310000001296900001300000001500000001300000001290000001500000001240000001500000001310000001280000001250000001208000001500000001020000001500000001255000001220000001500000001220000001208000001250000001208000001340000001340000001450000001300000001257300001280000001450000001360000001250000001550000001285000001450000001290000001310000001290000001290000001310000001020000001300000001360000001240000001300000001280000001310000001360000001250000001535000001290000001500000001280000001275000001360000001255000001300000001340000001250000001255000001420000001360000001250000001500000001450000001250000001360000001473000001280000002550000005400000002400000001900000004660000004980000006090000003360000007300000002200000001150000000580000000620000000130000000035000000067000000017999999946000000065100000062200000041999999928000000019300000046000000017999900064000000039000000053600000067000000060000000013600000012080000013400000013400000014500000013000000012573000012800000014500000012080000015000000013600000012500000015500000010200000015000000013100000012850000014500000012900000012900000012080000012500000012500000015350000012650000012850000015500000012400000014730000038000000028000000018800000077000000063500000075000000060000000065000000041000000014000000002180000004490000003480000001300000000575000000138000000047700000036750000025100000039340000059200000016500000015050000029800000014000000027000000028500000050000000038000000024000000068500000039500000032000000036000000022000000019500000034500000024000000021400000037000000098000000024900000053400000022000000001390000000170000000059500000045000000018000000032800000016350000046000000030000000004080000001420000004196000001160000003580000001605000004424360002700000003180000002985000002800000008600000001160000001200000001100000000410000000800000000516742260520000000280000000167000000020000000003590000002900000000500000000016500000001070000000602113626882532946130000000056500000099500000014000000002600000000850000000480000000380000000460000000018500000007500000008900000008200000001500000000650000000140000000073000000046000000012600000004160000001680000004160000005100000003880000003200000003190000002800000003500000002615000004850000001800000001450000000250000000408000000230000000477000000280000000255000000330000000120000000034500000022000000004500000003000000000595000000260000000260000000640000000385000000600000000475000000825000000415000000430000000460000000450000000350000000025500000026000000026150000040800000040800000011600000050500000051000000016700000041960000053400000044500000030000000035400000029900000069000000050800000044243600023200000028500000027700000018800000038500000048900000034000000032300000011700000004500000005800000004080000007300000002800000002985000004110000002700000003180000005500000001150000000120000000029000000002800000000900000000290500000474500000110000000039000000087500000037500000034900000013000000002865000000406000000920000000519000000500000000360000000028000000022500000045100000035000000049100000015500000005600000001250000000980000000125000000028000000002200000000550000000016500000026150000040500000042300000050000000055000000010500000001490000000600000000273000000268000000315000000458000000258000000670000000274000000290000000347000000346000000739000000900000000316000000739000000739000000350000000350000000739000000528000000840000000100000000073900000033000000041800000035400000049000000098000000061500000015000000008300000002500000000335000000215000000010000000001100000000450000000980000000250000000180000000015000000002950000001280000000920000000900000000870000000750000000170000000016000000008600000001160000003328080003400000004110000005000000001550000000108000000022000000007500000000390000000245000000270000000010000000003970000007000000000418000000468000000422000000396000000720000000074000000045100000035000000044000000072000000013000000001300000000230000000090000000029050000047450000022000000001200000001160000001680000001150000000168000000068000000074000000018500000007500000008200000008900000001500000000460000000135000000043500000020000000001450000003980000003200000009500000007600000005500000004500000005600000008800000001400000000730000000650000000380000000550000000416000000680000000330000000200000000017000000039000000032000000089000000045000000040400000015000000085000000062475000024900000014200000051000000023500000095000000029000000090000000018000000018000000031000000011000000003039600003039600001040000000350000000115000000330000000220000000012900000020500000076000000031100000073900000052800000073900000016000000001300000000739000000528000000134000000175000000035000000036500000055000000033000000017200000016900000025000000038000000017000000021000000010000000003110000003150000001480000001900000003650000001690000001770000001690000002000000001900000004000000001760000001770000001700000001720000002412000002750000007000000006900000004350000004150000001900000003650000002260000001160000003600000007390000007390000005200000001700000005100000003880000002615000004850000004160000001800000002300000003500000004300000005500000002450000001620000006800000003300000001420000001190000003480000001160000001190000003230000001300000001300000001600000000228000000840000000315000000325000000149500000039700000039700000045500000057500000032700000075000000027225000044000000026500000051000000079500000055000000078500000057000000034000000047500000044000000050000000045000000015400000001710000003000000001250000000300000000155000000117000000089000000013000000037100000032000000021700000036900000028500000038500000004600000005300000002200000000499500000400000000013800000013400000011550000012600000086000000050000000063400000045000000050000000050000000050000000087000000068000000090000000067000000024550000016500000006300000007950000006900000004990000004000000000199000000300000000120000000030000000011700000003710000001250000000840000000337110000130000000148000000011900000001150000002850000003230000001940000003230000001100000000670000000490000000630000000300000000040000000030000000072000000080000000050800000020000000062000000016800000014400000071500000085000000069000000040000000055000000098000000038500000038000000096000000056000000017500000017500000050000000022500000049950000098000000050000000052200000089500000014000000032000000035400000018600000039700000039700000039700000024500000035400000039700000036100000039700000039700000035400000019000000042000000055000000022000000050000000025000000017700000017000000001650000008500000003530000006800000004000000005500000002600000000275000000475000000355000000996000000180000000121000000300000000167000000195000000065000000053000000045000000027500000055000000010900000002100000004750000005000000007350000001000000000290000000165000000169000000176000000195000000014400000043500000017500000039000000025900000036800000031000000058000000036000000027800000032300000017650000027800000014800000025000000029500000098000000023000000095000000039050000046000000054500000030000000004600000001490000001490000007000000002500000005500000004980000002905000001580000003371100001300000004900000008000000001395000000250000000310000000168000000600000000300000000029000000001150000001940000003230000009000000009500000001100000000285000000323000000508000000720000000385000000486000000255000000395000000200000000046000000047000000019000000025500000027800000040000000034000000017350000052500000013700000039050000018000000049000000014800000027800000046800000036000000025500000039050000049000000010000000007200000002650000003150000006800000007300000001690000001770000001770000001480000001900000003800000002100000001040000000550000000111000000217000000237000000220000000322000000115000000310000000134000000900000000311000000149000000475000000032000000003200000000397000000397000000397000000245000000186000000354000000397000000395000000390000000700000000125000000031200000046000000047500000048300000044950000017300000015300000028500000017300000046500000063000000084900000050000000070000000047500000045000000026000000004495000001250000000422000000483000000350000000460000000430000000550000000475000000995000000420000000035600000013000000004000000002520000000426000000390500000145000000049100000055000000010000000005500000009600000003530000004750000002600000005150000001600000000255000000420000000180000000082500000028990000044900000015200000098000000086000000014800000008700000001950000000148000000180000000115819997340400000036000000031500000047300000020300000020382300012000000001430000001650000002350000001800000000360000000275000000190000000400000000145000000220000000515000000468000000360000000411000000535000000700000000520000000515000000410000000220000000144000000995000000980000000820000000196000000535000000125000000025500000047500000033000000029500000047500000011600000037790000031000000049000000020000000001960000005600000001130000004190000003450000001366000003600000005500000001036000000700000000295000000522500000225000000275000000830000000420000000167000000550000000422000000356000000385000000175000000245000000700000000245000000910000000895000000160000000024255000024255000058000000070000000014900000043000000078000000085000000050000000020382300039000000033000000024120000049000000010500000008500000005000000004580000004040000007950000001960000004196000008250000002900000001960000001050000000115000000043000000048200000063000000034500000039000000070000000045800000014280000037200000010500000004080000002200000001700000000365000000515000000357000000500000000155000000700000000330000000170000000180000000180000000180000000120000000018500000001800000004490000002550000004200000005900000001500000000350000000620000000500000000422000000134000000870000000360000000489000000680000000322000000300000000475000000750000000390000000496000000327000000265000000500000000440000000154000000087000000011950000005850000004000000007350000003900000003900000005300000003900000001250000000630000000456000000228000000180000000470000000550000000415000000380000000136000000900000000995000000476500000460000000155000000390000000259000000368000000580000000278000000323000000176500000472000000129000000038000000071000000075000000027225000031000000014400000043500000019500000001750000005200000004560000001680000009500000003905000002500000004600000003530000005850000004880000003970000007200000001000000000115000000046500000039000000053500000070000000048300000044950000012500000004600000004220000004750000004750000004500000002600000000125000000039050000040000000035600000013000000004910000005500000002900000000850000000330000000995000000203823000390000000230000000600000000187000000687000000419600000165000000399000000510000000282150000520000000370260000129000000550000000487000000749000000373000000153000000550000000516000000322000000900000000354000000650000000393000000210000000144000000323000000270000000105000000012500000001000000000230000000190080000150000000640000000372000000460000000550000000449000000354000000310000000083000000031000000045000000049000000038000000015000000004700000004910000003900000004600000003900000002700000001800000000430000000550000000825000000475000000995000000650000000610000000152000000280000000820000000260000000390000000153000000161500000052000000047500000024255000025500000012000000004910000004000000003905000003905000004750000001550000000115000000010500000005225000002450000006300000003300000001050000000408000000870000000409000000510000000482000000430000000535000000372760000138000000045000000044000000016000000002800000003200000003900000001770000008250000001550000000175000000167000000153000000428000000530000000358000000256000000525000000153000000475000000210000000365000000335000000520000000550000000365000000116000000265000000290000000250000000360000000135000000037500000050000000078000000066700000049600000037200000029500000042000000033000000033000000020500000011600000043700000043700000033000000014500000003650000008300000004500000005300000002905000002660000002550000000528000000130000000170000000098000000062900000043000000036000000022080000010500000008500000008300000002208000005000000004580000001960000001960000005600000001130000003450000001036000000377900000475000000310000000475000000490000000200000000025500000055000000012500000007000000002950000003300000006300000001428000003720000001050000000408000000345000000390000000700000000458000000680000000330000000158000000510000000387000000310000000455000000580000000739000000335000000462000000110000000062000000088000000022000000001050000000120000000059500000047900000037100000034700000048900000029800000020700000016700000085000000014000000006010000004830000004220000003500000004040000003984220002850000002200000000125000000013000000013000000047900000027000000010500000003540000009000000001290000005500000001530000005500000005160000006500000007490000003220000004870000002600000004900000003220000001100000000370000000990000000520000000105000000018000000038100000028500000044000000027700000016800000030000000014500000085000000015500000058700000045000000029000000038500000013700000011000000001190000004500000008700000001580000001520000001770000005250000005700000001675000008800000009500000001160000001200000000298000000129000000080000000012700000013000000021800000003800000001100000000153000000160500000112000000524000000750000000255000000038500000040800000087000000015800000085000000011900000045000000017000000057000000092000000062000000011900000027000000005500000009800000004400000001300000004600000003800000001800000005600000008950000003800000001200000000299900000330000000530000000340000000300000000195000000800000000660000000990000000110000000065000000008000000002580000001300000005400000004800000005000000005000000004729592000550000000047000000014000000006200000005800000004000000004000000000105000000065000000092000000092000000029500000026950000035000000095000000042000000049100000065000000049500000042000000023400000018900000095000000068600000011000000001750000000434000000331000008700000000336000000700000000950000000265200000190000000425000000390000000338000000165000000269500000150500000450000000850000000370000000635000000790000000340000000320000000215000000423000000120000000043000000038000000870000000037000000071800000033980000045000000063500000021500000082000000033980000012000000004500000004300000081200000000299900000330000000340000000530000000300000000195000000800000000990000000660000000650000000080000000025800000011000000001400000000500000000480000000540000000470000000472959200055000000001300000005000000004220000001670000001100000000298000000650000000686000000175000000043400000035000000042000000062000000049500000040500000013000000006500000001500000003300000004000000002500000009200000006500000001630000000546000000548000000495000000400000000026950000023400000018900000042000000049500000092000000015000000033000000049500000065000000095000000010500000001890000002950000002695000009200000004200000009500000005000000005800000002400000000189000000818000000950000000350000000165000000530000000550000000880000000182000000700000000980000000650000000398000000385000000340000000580000000140000000380000000470000000545000000337000000580000000500000000498000000820000000116000000131000000175000000460000000170000000470000000130000000023500000028900000042500000053500000059800000014500000005340000008600000005000000008000000003300000008000000003300000005350000005750000001200000003800000001600000001465000002300000001150000007800000004740000001255000005190000001200000000720000000330000000328000000110533500132000000396000000019900000012500000037500000021500000039700000026300000014600000020500000013900000026500000021800000042800000050000000013200000011053350019900000049000000038000000052000000047000000037000000038000000013000000002600000007110000004500000003400000008000000001320000001200000000128000000530000000370000000620000000525000000510000000110000000023000000039500000086000000050000000080000000033000000053500000057500000023000000011500000078000000047400000012000000007200000001255000003970000003300000005190000002150000002630000003750000001250000001465000001600000003800000001200000001105335002050000003280000004500000004280000002180000001460000001390000001320000001990000005000000004900000003960000000250000000380000000850000000265000000260000000130000000038000000052000000045000000047000000037000000071100000034000000080000000013200000012000000001280000005300000002050000004450000003800000008896989272700000003600000004500000002980000002600000009800000018700000013400000011700000020000000028500000021500000024400000026200000050000000046800000029000000033000000011600000029700000024200000032700000025700000046500000033700000039842200016300000025700000047700000029850000013100000016700000038000000011000000035500000016000000022200000018000000040700000015400000035700000015200000018700000010500000015400000012400000014566000015200000024500000082000000396000000132000000170000000250000000340000000490000000328000000199000000120000000121000000110000000558000000150000000330000000191070000230000000180000000365000000133000000136620000171000000118500000186000000116000000500000000925000001880000001460000002000000001720000001680000001295000001590000004180000004230000001260000004480000001620000001450000001330000001520000001350000001670000002300000001275000004080000002900000002660000002780000001435000001455300001590000001860000001090000001770000003400000002050000002000000001420000001800000003970000001530000002750000001180000003200000001890000004807000004450000002920000004500000002406000003800000001330000001520000001515000005000000003270000001380000002049300001168200002450000004424360003480000002770000001260000002050000004400000002510000009900000015400000017200000024900000031000000020200000036900000018450000084150000134000000306000000170000000295000000353000000270000000177000000312000000270000000202000000138000000327000000116820000295000000296000000204930000171000000186000000120000000205000000440000000500000000350000000167000000251000000205000000225000000176000000505000000280000000262000000500000000468000000290000000330000000116000000297000000242000000327000000257000000465000000337000000244000000398422000980000001870000002000000002850000002150000001340000001170000001630000002570000004770000001820000002000000001410000001700000003900000003200000001800000001310000001710000002985000001410000003200000001250000001850000001260000001455000001635000003320000002100000001770000001800000006100000001930000001520000001600000001330000001900000001530000001275000009500000032200000015000000011500000016200000028000000012900000014000000021200000012300000013800000028000000016200000018200000020000000011000000011500000011400000038000000016533000045000000016000000014300000037500000029200000023000000040800000029000000032000000018000000015300000027800000017500000039700000024060000011800000027500000048200000010800000023400000012500000015200000013300000038000000014500000014500000036500000014600000018000000017100000018800000013300000013662000011600000050000000011850000018600000092500000496000000634000000350000000126000000277000000185869000186000000177000000205000000440000000442436000348000000500000000165000000309000000138000000208000000300000000483000000158000000110500000103000000300000000102000000309000000297000000182000000190000000450000000132000000119000000260000000200000000131000000160000000112000000253500000246000000510000000127000000250000000136600000270000000144000000197000000249500000141000000387000000300000000270000000119000000265000000166000000181000000190000000148000000560000000400000000200000000055000000080000000070000000034000000055000000045000000019500000075000000024000000045000000039000000015000000001550000003200000007800000002000000005600000008000000006600000003800000001200000000155000000460000000550000000800000000700000000195000000110000000092000000015000000021000000019500000013300000012000000025500000017000000001300000001800000007500000004200000002650000001400000001400000000320000000170000000420000000630000000290000000750000000140000000012000000013300000025500000013000000018000000014000000042000000026500000016800000029500000025000000016000000030000000014000000005000000003000000001349999982800000004200000002600000001400000002900000001300000000108000000014500000019000000018000000045000000099000000019000000002000000003200000003000000006000000009000000003200000002500000007500000001600000002300000001350000000395000000600000000150000000620000000690000000130000000015900000002200000002300000003400000001500000000105000000085000000017000000001650000000539000000400000000165000000290000000295000000250000000140000000420000000300000000134999998260000000280000000300000000140000000022000000007000000009300000001600000005000000004500000003900000001080000000990000000145000000780000000190000000010000000003200000009900000003000000001600000007500000002300000001050000000135000000056000000018500000003500000006700000003700000002800000004300000004500000005050000004300000004500000001300000000159000000032000000032000000039500000060000000090000000025000000030000000078000000016200000015900000003400000001500000000220000000850000000780000000115000000200000000550000000430000000600000000465000000650000000400000000120000000039800000016000000068000000033000000064900000070000000082000000018000000039000000010800000009900000001450000001900000004500000001250000005800000005350000001350000000190000000150000000110000000075000000018000000019000000007500000008800000001100000001050000000230000000240000000660000000160000000170000000460000000190000000540000000700000000197000000130000000680000000820000000649000000180000000430000000470000000187000000110000000015000000004900000003700000003200000002750000001800000000320000000380000000700000000230000000290000000115000000011500000020000000047000000055000000030000000065000000023000000067000000035500000043000000068000000033000000095000000039800000046500000060000000067000000036000000058000000026000000055000000018500000016300000066500000075000000031200000030000000010500000004600000005600000001970000005800000005350000001350000000180000000190000000060000000028000000014000000016000000017000000066000000023000000024000000011000000054000000035000000001880000008480000001150000000510000000310000000145000000699000000490000000200000000300000000196000000570000000330000000480000000150000000090000000048000000011000000006980000001300000000400000000330000000650000000340000000200000000015500000075000000015500000076000000070000000043000000016000000055000000046500000060000000058000000039800000033000000031200000056000000049000000020000000065000000090000000018500000001300000003200000001500000001900000008000000001900000001550000000400000000650000000135000000550000000700000000160000000015000000002050000006490000001500000002300000007300000002000000002050000004300000006100000002600000001800000000130000000052000000065000000016000000001300000000150000000043000000018500000031000000040000000065000000013500000024000000019000000013000000015500000002500000003900000003200000001850000003100000003900000002500000005000000005500000007000000006490000008200000007000000001500000005300000007800000002865000001150000000650000000115000000850000000140000000016000000052000000027000000070000000020000000015000000073000000023000000039000000013000000003500000001300000003900000001900000001550000000365000000220000000310000000400000000650000000135000000700000000160000000016500000062000000018500000002400000008000000003000000001850000002900000004300000005500000006500000001500000002300000007000000007300000006000000002900000002050000005600000001500000000390000000200000000380000000450000000155000000460000000610000000800000000210000000320000000195000000110000000092000000034000000055000000020000000001550000001500000007800000006600000005500000004000000001700000004200000003550000006500000006000000008050000002000000008500000001700000003350000002500000008500000002150000001200000000950000000510000000480000000480000000235000000600000000649999999650000000130000000030000000029000000021000000012500000044000000060000000017500000090000000012500000012000000001450000001300000005000000002000000005900000004000000003650000001300000001370000005500000001850000001100000000430000000375000000110000000110000000150000000560000000468000000130000000195000000066800000018000000040000000070000000020000000034000000034900000085000000030000000055000000013000000001500000003500000004300000005000000001450000006000000008500000001700000000165000000053900000040000000016500000029000000029500000025000000014000000042000000030000000013499999826000000028000000030000000014000000002200000000700000000930000000160000000500000000450000000390000000108000000047000000060000000032000000070000000018000000085000000015500000016400000049000000041000000075000000013000000055000000017760000056000000078000000038000000016000000017000000001050000000650000000170000000130126500012000000001550000001850000001900000002000000001900000005000000001700000001550000001800000002300000003800000002800000003200000003200000001170000000450000000650000000800000000245000000110000000085000000054000000021000000022500000035000000021000000031000000022500000016000000017000000050000000040000000011000000055000000051000000095000000089000000072000000048000000016900000037800000029000000035500000055000000017000000060000000020000000063000000028500000052000000017000000056000000041000000080000000017500000027000000014000000010000000001200000004789000002600000006500000002600000000170000000420000000700000000380000000170000000385000000530000000130000000016000000058000000082000000018000000023500000009480000002600000003600000003850000002500000001650000003080000003300000001280000008500000001535000004500000005300000005200000004000000006000000003500000000400000000360000000300000000850000000500000000350000000750000000450000000670000000270000000180000000270000000450000000175000000550000000140000000478900000250000000800000000400000000110000000230000000450000000380000000530000000160000000400000000117000000032000000015350000029000000024500000035000000006600000002300000002400000001100000005400000007000000006850000001800000004500000008800000002300000005500000005600000001200000002200000004200000001900000001800000004500000001800000001300000000110000000075000000031000000030000000084800000014500000069900000019600000057000000013000000002000000005150000006800000001550000004000000003200000001400000004500000001300000000820000000350000000530000000600000000710000000168000000280000000520000000140000000025000000010000000006000000001300000001200000004600000006200000001050000000240000000135000000120000000135000000550000000700000000160000000015000000001650000007500000001120000000330000000620000000200000000015500000024500000024000000013000000004000000002200000003650000003400000004800000004800000001100000000698000000785000000700000000155000000100000000012000000003000000005500000007300000001350000002500000008000000006600000003800000006000000004800000004850000003850000005000000001600000000309000000260000000130000000034000000040000000059000000012000000005500000006800000003300000002400000001200000000240000000310000000430000000198000000120000000750000000155000000182000000042000000090000000037000000023000000048000000045000000038000000037000000021000000085000000034000000042000000049700000034000000017499999943000000013000000002400000003000000004300000003000000008500000009000000004200000001200000001000000000850000000690000000250000000174999999125000000025000000019800000085000000034000000049700000042000000099900000024000000012000000001250000003800000003000000002500000004850000001590000001350000003028000003700000003590000002790000002220000003790000004650000007200000005150000006400000002660000007200000006400000002750000001950000001650000004100000003000000006500000006350000005500000001400000002300000004450000002700000001500000001600000004400000002850000002500000006000000003200000002100000007800000003100000002900000004100000004600000003610000003950000004680000002340000002850000002500000006000000003610000004600000003200000002900000004100000003100000002100000007800000005700000002500000000200000000270000000360000000480000000590000000160000000085000000023000000033000000080000000056000000043000000026500000013300000095000000027500000051900000011000000006500000001400000001200000000285000000250000000320000000361000000460000000600000000290000000410000000310000000210000000780000000550000000550000000180000000170000000025200000014500000034000000017500000049000000012800000016500000044000000041000000085000000015800000019500000002750000005600000002250000001450000001850000001161000005500000001170000002600000008900000001800000001500000000500000000300000000380000000485000000360000000640000000195000000565000000650000000560000000596614000373226000389708000456742000596614000389708000373226000495000000850000000900000000389708000214900000347429519365000000422000000580000000560000000103000000045000000034020000015000000017117100035000000042000000027200000016200000025500000025500000034000000040500000021000000010938500039500000021000000018960000019000000042000000034000000050000000034300000017700000028100000026000000016900000002101242000105000000015000000045682099216770000018280000019280000018900000030000000041000000034200000039880000030000000059900000059500000011500001387900000001045150000019950000461573191375406000000320000000267000000450000000135000000950000001600000004050000003200000004050000003200000003400000001093850002600000004250000005150000002565000003250000003400000001800000002390000003450000002020000001270000001750000002515535000650000000439516000100000000036000000037000000013000000006800000004500000003820000001800000002220000002020000004630000004200000003750000008350000004600000005500000003200000003300000001280000001170000002600000004770000001600000000510000000473000000485000000580000000310000000180000000250000000310000000200000000790000000950000000500000000011000000001800000000550000000410000000155000000110000000010000000001850000001800000001380000001800000001930000006500000006010000001310000000185000000163000000355000000205000000177500000370000000435000000395000000195000000140000000210000000810000000138000000070000000047500000018200000035500000045700000035500000012000000034000000028000000045350000021000000060000000021000000023000000019500000020200000019500000019000000047000000035500000024500000045350000037000000033000000015000000025500000028000000032400000016600000026000000045350000065000000075000000019000000020200000020500000020500000087000000010900000020500000021330000002020000001660000003200000001200000004150000004535000004000000005500000002800000000355000000166000000185000000166000000453500000353000000222000000409000000463000000280000000450000000629000000280000000310000000125000000340000000450000000650000000870000000850000000434000000220000000410000000038970800021490000014200000037000000013500000014000000001845000001420000008000000004850000003800000005150000002600000004600000006300000008500000002100000000776000000650000000300000000410000000342000000398800000300000000599000000595000000115000013879000000010451500000199500004615731913754060000003200000002670000004500000001350000009500000016000000040500000032000000040500000032000000034000000010938500026000000042500000051500000025650000032500000011000000007950000001200000001937500000440000000230000000034000000013680000001368000000210000000220000000650000000350000000220000000300000000113000000380000000450000000190000000423000000193000000340000000180000000018000000020500000023900000034500000020200000012700000017500000025155350006500000002020000002220000004630000001800000004395160001000000000360000000130000000068000000045000000037000000011000000003100000003100000002000000001800000005800000001800000001550000001000000000185000000110000000018000000013800000035500000045700000021000000070000000018200000017750000047500000035500000047500000081000000013800000003550000002220000001950000002300000001950000001950000007000000004750000001820000003550000004570000003550000001200000003400000002800000004535000002100000006000000002100000002300000001950000002020000001950000001950000002250000001660000001300000000225000000166000000185000000222000000149000000163000000410000000211000000353000000163000000600000000210000000340000000410000000210000000280000000453500000353000000166000000166000000130000000020200000021000000035500000024500000016600000037000000045350000016600000020500000027000000017000000027600000046300000085000000035500000021000000046300000086000000035300000020200000032000000065000000028000000032400000045350000016600000025500000024500000019500000019500000019500000024900000027500000017000000055000000064000000002330000004200000009900000004350000003550000001200000000291000000695000000260000000150000016990000000599000000260000000150000016990000000958000000276000000195000000700000000245000000175000000420000000300000000800000000380000000340000000520000000230000000980000000630000000341550000502000000160000000399000000445900000419990000281900000200000000013000000002860000001550000000286000000420000000375000000250000000030000000007100000003120000002074000008500000001150000000159000000053000000017500000003850000001200000000108000000056000000033000000073000000076000000049500000054000000054000000069500000039619620002317500000100000000039000000029500000023175000001000000000396196200022000000009500000006000000004950000003400000001300000000756000000140000000085000000022300000046000000043500000039400000045000000072000000089000000051899000019000000007800000004600000005900000004700000005500000008998000007800000007850000002499900000180000000069000000038890000015500000001850000000510000000526000000220000000015000000001750000005499900003540000002500000000520000000750000000130000000053000000063000000079500000017000000005290000008500000002550000000350000000795000000155000000042500000046000000017000000016000000098000000027000000065000000026700000048700000038900000037500000037000000042000000014900000002450000006900000003699900003850000005500000003990000001600000004459000004199900002819000002000000000130000000028600000037500000030000000002500000000155000000042000000028600000036900000005000000003000000000130000000013500000003600000001200000000420000000710000000854000000240000000010800000049440000017400000034000000032400000022000000003550000000400000000179300000016500000003170000004500000001500000000180000000550000000698000000120000000051500000039000000049500000039000000059000000098500000054000000021000000029050000020500000002905000001200000000483000000180000000029000000009500000004950000004000000003150000004050000004300000001949900000150000000045910000025000000003590000005100000002100000000320000000200000000078000000025000000005800000002030000007400000005200000001400000000125000000030000000001690000000456000000250000000054999000038890000022000000003800000000375000000462000000024999000008700000007200000001850000000440000000354000000155000000051000000052600000015000000004350000008790000006900000009200000001250000000300000000087900000011000000009200000004350000006300000007950000007950000002700000001700000001600000004600000001700000000530000000350000000750000000529000000850000000130000000065000000026700000048700000015500000004250000002550000000420000000375000000370000000385000000360000000420000000108000000240000000049440000012000000005600000001740000001499000004200000004700000004570000003660000004800000002800000003500000002530000004570000003450000004020000004830000003500000002780000001994787004100000002600000003320000002600000002580000007900000093000000140000000666000000281000000167000000355000000250000000730000000170000000480000000285000000158000000145000000190000000250000000120000000250000000280000000260000000285000000275000000280000000145000000300000000230000000200000000145000000310000000280000000026500000036000000085000000058000000041000000053000000041580000070000000010500000006600000003050000005200000003600000001700000003310000001500000000140000000079900000092000000045000000078000000036700000045000000057950000058000000018000000041600000040000000018000000052600000014300000002600000005000000002800000000260000000370000000455000000650000000750000000390000000370000000565000000360000000885000000257000000220000000160000000180000000200000000450000000185000000017000000032000000020000000039000000036000000056500000037000000025700000088500000022000000023000000013000000006500000001450000000320000000550000000390000000970000000750000000300000000105000000036500000058000000030500000013500000007500000007300000004300000002560000001650000000159000000028500000028500000093000000019000000095000000085000000089800000068000000037000000014000000009800000003050000001900000000145000000078000000019500000008900000006300000002200000000118000000080000000029000000025000000012900000002200000004800000005500000004100000004431000005897408683450000005897408681400000000450000000645853702135000000013000000004600000000840000000866522476440000000110000000037500000081000000050000000039400000045900000048500000037200000047000000085000000072200000062000000077900000035000000006930000007000000009900000005350000004000000007200000004990000004800000005300000005650000004600000002550000000119000000017000000006240000001550000003300000002500000001550000002000000000380000000650000000160000000145000000650000000300000000130000000020800000055000000052000000036000000059000000016700000016000000065000000014500000065000000010500000005500000002080000001300000000500000000189000000300000000350000000280000000300000000190000000498000000650000000360000000395000000117000000065000000031000000031500000052000000070000000040000000017000000075000000095000000095000000040000000045000000020000000020000000030500000038500000028000000006000000003100000002695000001700000006500000001170000000395000000280000000820000000700000000450000000370000000120000000073000000030000000090000000029500000037400000049000000060000000049000000073000000030000000012000000001500000000600000000900000000750000000240000000590000000820000000135000000029900000002200000001450000000451500000140000000155000000750000000170000000430000000800000000100000000079000000039000000040000000016000000070000000062000000050000000018200000013000000050000000024500000069700000038000000014000000007800000001150000000940000000300000000105000000200000000990000000300000000290000000375000000320000000415000000320000000150000000055000000017500000048000000054190000039000000020000000050000000037000000017500000058000000017800000026000000069000000088000000039500000004000000001400000001600000007800000006050000003721000003300000002870000003800000003400000003200000000330000000140000000125000000016500000013750000006150000001200000000555000000290000000670000000900000000335000000144990000'"
            ],
            "application/vnd.google.colaboratory.intrinsic+json": {
              "type": "string"
            }
          },
          "metadata": {},
          "execution_count": 40
        }
      ]
    },
    {
      "cell_type": "code",
      "source": [
        "inmueble.info()"
      ],
      "metadata": {
        "colab": {
          "base_uri": "https://localhost:8080/"
        },
        "id": "XYeML3DQq4hf",
        "outputId": "b7e8ed02-90a0-42f7-fe66-82ae32c28493"
      },
      "execution_count": null,
      "outputs": [
        {
          "output_type": "stream",
          "name": "stdout",
          "text": [
            "<class 'pandas.core.frame.DataFrame'>\n",
            "RangeIndex: 9520 entries, 0 to 9519\n",
            "Data columns (total 10 columns):\n",
            " #   Column        Non-Null Count  Dtype \n",
            "---  ------        --------------  ----- \n",
            " 0   Tipo          9520 non-null   object\n",
            " 1   Descripcion   9520 non-null   object\n",
            " 2   Habitaciones  9520 non-null   int64 \n",
            " 3   Banos         9520 non-null   int64 \n",
            " 4   Area          9520 non-null   int64 \n",
            " 5   Barrio        9520 non-null   object\n",
            " 6   UPZ           9478 non-null   object\n",
            " 7   Valor         9520 non-null   object\n",
            " 8   Moneda        9520 non-null   object\n",
            " 9   Precio        9520 non-null   object\n",
            "dtypes: int64(3), object(7)\n",
            "memory usage: 743.9+ KB\n"
          ]
        }
      ]
    },
    {
      "cell_type": "code",
      "source": [
        "#Pasamos el valor de str a numero, lo dividimos entre 1000000 para eliminar la cantidad de ceros del peso colombiano\n",
        "inmueble['Precio_Millon'] = inmueble.Precio.astype('float')/1000000\n",
        "inmueble.info()\n",
        "inmueble.Precio_Millon"
      ],
      "metadata": {
        "colab": {
          "base_uri": "https://localhost:8080/"
        },
        "id": "F7A7LCL0qhgU",
        "outputId": "dfd0607d-83a9-4b8f-9149-df41230afbb6"
      },
      "execution_count": null,
      "outputs": [
        {
          "output_type": "stream",
          "name": "stdout",
          "text": [
            "<class 'pandas.core.frame.DataFrame'>\n",
            "RangeIndex: 9520 entries, 0 to 9519\n",
            "Data columns (total 11 columns):\n",
            " #   Column         Non-Null Count  Dtype  \n",
            "---  ------         --------------  -----  \n",
            " 0   Tipo           9520 non-null   object \n",
            " 1   Descripcion    9520 non-null   object \n",
            " 2   Habitaciones   9520 non-null   int64  \n",
            " 3   Banos          9520 non-null   int64  \n",
            " 4   Area           9520 non-null   int64  \n",
            " 5   Barrio         9520 non-null   object \n",
            " 6   UPZ            9478 non-null   object \n",
            " 7   Valor          9520 non-null   object \n",
            " 8   Moneda         9520 non-null   object \n",
            " 9   Precio         9520 non-null   object \n",
            " 10  Precio_Millon  9520 non-null   float64\n",
            "dtypes: float64(1), int64(3), object(7)\n",
            "memory usage: 818.2+ KB\n"
          ]
        },
        {
          "output_type": "execute_result",
          "data": {
            "text/plain": [
              "0        360.00\n",
              "1        670.00\n",
              "2       1120.00\n",
              "3        890.00\n",
              "4        970.00\n",
              "         ...   \n",
              "9515     290.00\n",
              "9516     670.00\n",
              "9517     900.00\n",
              "9518     335.00\n",
              "9519     144.99\n",
              "Name: Precio_Millon, Length: 9520, dtype: float64"
            ]
          },
          "metadata": {},
          "execution_count": 42
        }
      ]
    },
    {
      "cell_type": "code",
      "source": [
        "#count:   suma total\n",
        "#mean:    promedio\n",
        "#std:     desviacion estandar\n",
        "#min:     valor minimo\n",
        "#25%:     primer cuartil\n",
        "#50%:     segundo cuartil\n",
        "#75%:     tercer cauartil\n",
        "#max%:    valor maximo\n",
        "inmueble.describe()"
      ],
      "metadata": {
        "colab": {
          "base_uri": "https://localhost:8080/",
          "height": 300
        },
        "id": "IURh4D6_sQ8O",
        "outputId": "c628671a-2960-44d5-cdf8-9846458e11a2"
      },
      "execution_count": null,
      "outputs": [
        {
          "output_type": "execute_result",
          "data": {
            "text/plain": [
              "       Habitaciones        Banos           Area  Precio_Millon\n",
              "count   9520.000000  9520.000000    9520.000000    9520.000000\n",
              "mean       3.072479     2.447899     146.664706     602.062354\n",
              "std        2.049856     1.255314    1731.379622     704.602062\n",
              "min        1.000000     0.000000       2.000000      60.000000\n",
              "25%        2.000000     2.000000      57.000000     250.000000\n",
              "50%        3.000000     2.000000      80.000000     409.182500\n",
              "75%        3.000000     3.000000     135.000000     680.000000\n",
              "max      110.000000     9.000000  166243.000000   16000.000000"
            ],
            "text/html": [
              "\n",
              "  <div id=\"df-321262ad-1ccd-4c7a-801b-bcb319ab7a56\">\n",
              "    <div class=\"colab-df-container\">\n",
              "      <div>\n",
              "<style scoped>\n",
              "    .dataframe tbody tr th:only-of-type {\n",
              "        vertical-align: middle;\n",
              "    }\n",
              "\n",
              "    .dataframe tbody tr th {\n",
              "        vertical-align: top;\n",
              "    }\n",
              "\n",
              "    .dataframe thead th {\n",
              "        text-align: right;\n",
              "    }\n",
              "</style>\n",
              "<table border=\"1\" class=\"dataframe\">\n",
              "  <thead>\n",
              "    <tr style=\"text-align: right;\">\n",
              "      <th></th>\n",
              "      <th>Habitaciones</th>\n",
              "      <th>Banos</th>\n",
              "      <th>Area</th>\n",
              "      <th>Precio_Millon</th>\n",
              "    </tr>\n",
              "  </thead>\n",
              "  <tbody>\n",
              "    <tr>\n",
              "      <th>count</th>\n",
              "      <td>9520.000000</td>\n",
              "      <td>9520.000000</td>\n",
              "      <td>9520.000000</td>\n",
              "      <td>9520.000000</td>\n",
              "    </tr>\n",
              "    <tr>\n",
              "      <th>mean</th>\n",
              "      <td>3.072479</td>\n",
              "      <td>2.447899</td>\n",
              "      <td>146.664706</td>\n",
              "      <td>602.062354</td>\n",
              "    </tr>\n",
              "    <tr>\n",
              "      <th>std</th>\n",
              "      <td>2.049856</td>\n",
              "      <td>1.255314</td>\n",
              "      <td>1731.379622</td>\n",
              "      <td>704.602062</td>\n",
              "    </tr>\n",
              "    <tr>\n",
              "      <th>min</th>\n",
              "      <td>1.000000</td>\n",
              "      <td>0.000000</td>\n",
              "      <td>2.000000</td>\n",
              "      <td>60.000000</td>\n",
              "    </tr>\n",
              "    <tr>\n",
              "      <th>25%</th>\n",
              "      <td>2.000000</td>\n",
              "      <td>2.000000</td>\n",
              "      <td>57.000000</td>\n",
              "      <td>250.000000</td>\n",
              "    </tr>\n",
              "    <tr>\n",
              "      <th>50%</th>\n",
              "      <td>3.000000</td>\n",
              "      <td>2.000000</td>\n",
              "      <td>80.000000</td>\n",
              "      <td>409.182500</td>\n",
              "    </tr>\n",
              "    <tr>\n",
              "      <th>75%</th>\n",
              "      <td>3.000000</td>\n",
              "      <td>3.000000</td>\n",
              "      <td>135.000000</td>\n",
              "      <td>680.000000</td>\n",
              "    </tr>\n",
              "    <tr>\n",
              "      <th>max</th>\n",
              "      <td>110.000000</td>\n",
              "      <td>9.000000</td>\n",
              "      <td>166243.000000</td>\n",
              "      <td>16000.000000</td>\n",
              "    </tr>\n",
              "  </tbody>\n",
              "</table>\n",
              "</div>\n",
              "      <button class=\"colab-df-convert\" onclick=\"convertToInteractive('df-321262ad-1ccd-4c7a-801b-bcb319ab7a56')\"\n",
              "              title=\"Convert this dataframe to an interactive table.\"\n",
              "              style=\"display:none;\">\n",
              "        \n",
              "  <svg xmlns=\"http://www.w3.org/2000/svg\" height=\"24px\"viewBox=\"0 0 24 24\"\n",
              "       width=\"24px\">\n",
              "    <path d=\"M0 0h24v24H0V0z\" fill=\"none\"/>\n",
              "    <path d=\"M18.56 5.44l.94 2.06.94-2.06 2.06-.94-2.06-.94-.94-2.06-.94 2.06-2.06.94zm-11 1L8.5 8.5l.94-2.06 2.06-.94-2.06-.94L8.5 2.5l-.94 2.06-2.06.94zm10 10l.94 2.06.94-2.06 2.06-.94-2.06-.94-.94-2.06-.94 2.06-2.06.94z\"/><path d=\"M17.41 7.96l-1.37-1.37c-.4-.4-.92-.59-1.43-.59-.52 0-1.04.2-1.43.59L10.3 9.45l-7.72 7.72c-.78.78-.78 2.05 0 2.83L4 21.41c.39.39.9.59 1.41.59.51 0 1.02-.2 1.41-.59l7.78-7.78 2.81-2.81c.8-.78.8-2.07 0-2.86zM5.41 20L4 18.59l7.72-7.72 1.47 1.35L5.41 20z\"/>\n",
              "  </svg>\n",
              "      </button>\n",
              "      \n",
              "  <style>\n",
              "    .colab-df-container {\n",
              "      display:flex;\n",
              "      flex-wrap:wrap;\n",
              "      gap: 12px;\n",
              "    }\n",
              "\n",
              "    .colab-df-convert {\n",
              "      background-color: #E8F0FE;\n",
              "      border: none;\n",
              "      border-radius: 50%;\n",
              "      cursor: pointer;\n",
              "      display: none;\n",
              "      fill: #1967D2;\n",
              "      height: 32px;\n",
              "      padding: 0 0 0 0;\n",
              "      width: 32px;\n",
              "    }\n",
              "\n",
              "    .colab-df-convert:hover {\n",
              "      background-color: #E2EBFA;\n",
              "      box-shadow: 0px 1px 2px rgba(60, 64, 67, 0.3), 0px 1px 3px 1px rgba(60, 64, 67, 0.15);\n",
              "      fill: #174EA6;\n",
              "    }\n",
              "\n",
              "    [theme=dark] .colab-df-convert {\n",
              "      background-color: #3B4455;\n",
              "      fill: #D2E3FC;\n",
              "    }\n",
              "\n",
              "    [theme=dark] .colab-df-convert:hover {\n",
              "      background-color: #434B5C;\n",
              "      box-shadow: 0px 1px 3px 1px rgba(0, 0, 0, 0.15);\n",
              "      filter: drop-shadow(0px 1px 2px rgba(0, 0, 0, 0.3));\n",
              "      fill: #FFFFFF;\n",
              "    }\n",
              "  </style>\n",
              "\n",
              "      <script>\n",
              "        const buttonEl =\n",
              "          document.querySelector('#df-321262ad-1ccd-4c7a-801b-bcb319ab7a56 button.colab-df-convert');\n",
              "        buttonEl.style.display =\n",
              "          google.colab.kernel.accessAllowed ? 'block' : 'none';\n",
              "\n",
              "        async function convertToInteractive(key) {\n",
              "          const element = document.querySelector('#df-321262ad-1ccd-4c7a-801b-bcb319ab7a56');\n",
              "          const dataTable =\n",
              "            await google.colab.kernel.invokeFunction('convertToInteractive',\n",
              "                                                     [key], {});\n",
              "          if (!dataTable) return;\n",
              "\n",
              "          const docLinkHtml = 'Like what you see? Visit the ' +\n",
              "            '<a target=\"_blank\" href=https://colab.research.google.com/notebooks/data_table.ipynb>data table notebook</a>'\n",
              "            + ' to learn more about interactive tables.';\n",
              "          element.innerHTML = '';\n",
              "          dataTable['output_type'] = 'display_data';\n",
              "          await google.colab.output.renderOutput(dataTable, element);\n",
              "          const docLink = document.createElement('div');\n",
              "          docLink.innerHTML = docLinkHtml;\n",
              "          element.appendChild(docLink);\n",
              "        }\n",
              "      </script>\n",
              "    </div>\n",
              "  </div>\n",
              "  "
            ]
          },
          "metadata": {},
          "execution_count": 43
        }
      ]
    },
    {
      "cell_type": "code",
      "source": [
        "#mostrar los valores obetenidos con con formato de 2 puntos decimales\n",
        "#funciones lamda??\n",
        "pd.set_option('display.precision',2)\n",
        "pd.set_option('display.float_format', lambda x: '%.2f' % x)\n",
        "inmueble.describe()"
      ],
      "metadata": {
        "colab": {
          "base_uri": "https://localhost:8080/",
          "height": 300
        },
        "id": "tO60ay-RtBDd",
        "outputId": "74d24e2f-6461-4cdf-adbe-d063fd72a779"
      },
      "execution_count": null,
      "outputs": [
        {
          "output_type": "execute_result",
          "data": {
            "text/plain": [
              "       Habitaciones   Banos      Area  Precio_Millon\n",
              "count       9520.00 9520.00   9520.00        9520.00\n",
              "mean           3.07    2.45    146.66         602.06\n",
              "std            2.05    1.26   1731.38         704.60\n",
              "min            1.00    0.00      2.00          60.00\n",
              "25%            2.00    2.00     57.00         250.00\n",
              "50%            3.00    2.00     80.00         409.18\n",
              "75%            3.00    3.00    135.00         680.00\n",
              "max          110.00    9.00 166243.00       16000.00"
            ],
            "text/html": [
              "\n",
              "  <div id=\"df-2c463319-fd5f-475a-b68d-e4213a762798\">\n",
              "    <div class=\"colab-df-container\">\n",
              "      <div>\n",
              "<style scoped>\n",
              "    .dataframe tbody tr th:only-of-type {\n",
              "        vertical-align: middle;\n",
              "    }\n",
              "\n",
              "    .dataframe tbody tr th {\n",
              "        vertical-align: top;\n",
              "    }\n",
              "\n",
              "    .dataframe thead th {\n",
              "        text-align: right;\n",
              "    }\n",
              "</style>\n",
              "<table border=\"1\" class=\"dataframe\">\n",
              "  <thead>\n",
              "    <tr style=\"text-align: right;\">\n",
              "      <th></th>\n",
              "      <th>Habitaciones</th>\n",
              "      <th>Banos</th>\n",
              "      <th>Area</th>\n",
              "      <th>Precio_Millon</th>\n",
              "    </tr>\n",
              "  </thead>\n",
              "  <tbody>\n",
              "    <tr>\n",
              "      <th>count</th>\n",
              "      <td>9520.00</td>\n",
              "      <td>9520.00</td>\n",
              "      <td>9520.00</td>\n",
              "      <td>9520.00</td>\n",
              "    </tr>\n",
              "    <tr>\n",
              "      <th>mean</th>\n",
              "      <td>3.07</td>\n",
              "      <td>2.45</td>\n",
              "      <td>146.66</td>\n",
              "      <td>602.06</td>\n",
              "    </tr>\n",
              "    <tr>\n",
              "      <th>std</th>\n",
              "      <td>2.05</td>\n",
              "      <td>1.26</td>\n",
              "      <td>1731.38</td>\n",
              "      <td>704.60</td>\n",
              "    </tr>\n",
              "    <tr>\n",
              "      <th>min</th>\n",
              "      <td>1.00</td>\n",
              "      <td>0.00</td>\n",
              "      <td>2.00</td>\n",
              "      <td>60.00</td>\n",
              "    </tr>\n",
              "    <tr>\n",
              "      <th>25%</th>\n",
              "      <td>2.00</td>\n",
              "      <td>2.00</td>\n",
              "      <td>57.00</td>\n",
              "      <td>250.00</td>\n",
              "    </tr>\n",
              "    <tr>\n",
              "      <th>50%</th>\n",
              "      <td>3.00</td>\n",
              "      <td>2.00</td>\n",
              "      <td>80.00</td>\n",
              "      <td>409.18</td>\n",
              "    </tr>\n",
              "    <tr>\n",
              "      <th>75%</th>\n",
              "      <td>3.00</td>\n",
              "      <td>3.00</td>\n",
              "      <td>135.00</td>\n",
              "      <td>680.00</td>\n",
              "    </tr>\n",
              "    <tr>\n",
              "      <th>max</th>\n",
              "      <td>110.00</td>\n",
              "      <td>9.00</td>\n",
              "      <td>166243.00</td>\n",
              "      <td>16000.00</td>\n",
              "    </tr>\n",
              "  </tbody>\n",
              "</table>\n",
              "</div>\n",
              "      <button class=\"colab-df-convert\" onclick=\"convertToInteractive('df-2c463319-fd5f-475a-b68d-e4213a762798')\"\n",
              "              title=\"Convert this dataframe to an interactive table.\"\n",
              "              style=\"display:none;\">\n",
              "        \n",
              "  <svg xmlns=\"http://www.w3.org/2000/svg\" height=\"24px\"viewBox=\"0 0 24 24\"\n",
              "       width=\"24px\">\n",
              "    <path d=\"M0 0h24v24H0V0z\" fill=\"none\"/>\n",
              "    <path d=\"M18.56 5.44l.94 2.06.94-2.06 2.06-.94-2.06-.94-.94-2.06-.94 2.06-2.06.94zm-11 1L8.5 8.5l.94-2.06 2.06-.94-2.06-.94L8.5 2.5l-.94 2.06-2.06.94zm10 10l.94 2.06.94-2.06 2.06-.94-2.06-.94-.94-2.06-.94 2.06-2.06.94z\"/><path d=\"M17.41 7.96l-1.37-1.37c-.4-.4-.92-.59-1.43-.59-.52 0-1.04.2-1.43.59L10.3 9.45l-7.72 7.72c-.78.78-.78 2.05 0 2.83L4 21.41c.39.39.9.59 1.41.59.51 0 1.02-.2 1.41-.59l7.78-7.78 2.81-2.81c.8-.78.8-2.07 0-2.86zM5.41 20L4 18.59l7.72-7.72 1.47 1.35L5.41 20z\"/>\n",
              "  </svg>\n",
              "      </button>\n",
              "      \n",
              "  <style>\n",
              "    .colab-df-container {\n",
              "      display:flex;\n",
              "      flex-wrap:wrap;\n",
              "      gap: 12px;\n",
              "    }\n",
              "\n",
              "    .colab-df-convert {\n",
              "      background-color: #E8F0FE;\n",
              "      border: none;\n",
              "      border-radius: 50%;\n",
              "      cursor: pointer;\n",
              "      display: none;\n",
              "      fill: #1967D2;\n",
              "      height: 32px;\n",
              "      padding: 0 0 0 0;\n",
              "      width: 32px;\n",
              "    }\n",
              "\n",
              "    .colab-df-convert:hover {\n",
              "      background-color: #E2EBFA;\n",
              "      box-shadow: 0px 1px 2px rgba(60, 64, 67, 0.3), 0px 1px 3px 1px rgba(60, 64, 67, 0.15);\n",
              "      fill: #174EA6;\n",
              "    }\n",
              "\n",
              "    [theme=dark] .colab-df-convert {\n",
              "      background-color: #3B4455;\n",
              "      fill: #D2E3FC;\n",
              "    }\n",
              "\n",
              "    [theme=dark] .colab-df-convert:hover {\n",
              "      background-color: #434B5C;\n",
              "      box-shadow: 0px 1px 3px 1px rgba(0, 0, 0, 0.15);\n",
              "      filter: drop-shadow(0px 1px 2px rgba(0, 0, 0, 0.3));\n",
              "      fill: #FFFFFF;\n",
              "    }\n",
              "  </style>\n",
              "\n",
              "      <script>\n",
              "        const buttonEl =\n",
              "          document.querySelector('#df-2c463319-fd5f-475a-b68d-e4213a762798 button.colab-df-convert');\n",
              "        buttonEl.style.display =\n",
              "          google.colab.kernel.accessAllowed ? 'block' : 'none';\n",
              "\n",
              "        async function convertToInteractive(key) {\n",
              "          const element = document.querySelector('#df-2c463319-fd5f-475a-b68d-e4213a762798');\n",
              "          const dataTable =\n",
              "            await google.colab.kernel.invokeFunction('convertToInteractive',\n",
              "                                                     [key], {});\n",
              "          if (!dataTable) return;\n",
              "\n",
              "          const docLinkHtml = 'Like what you see? Visit the ' +\n",
              "            '<a target=\"_blank\" href=https://colab.research.google.com/notebooks/data_table.ipynb>data table notebook</a>'\n",
              "            + ' to learn more about interactive tables.';\n",
              "          element.innerHTML = '';\n",
              "          dataTable['output_type'] = 'display_data';\n",
              "          await google.colab.output.renderOutput(dataTable, element);\n",
              "          const docLink = document.createElement('div');\n",
              "          docLink.innerHTML = docLinkHtml;\n",
              "          element.appendChild(docLink);\n",
              "        }\n",
              "      </script>\n",
              "    </div>\n",
              "  </div>\n",
              "  "
            ]
          },
          "metadata": {},
          "execution_count": 44
        }
      ]
    },
    {
      "cell_type": "code",
      "source": [
        "#localizar valores especificos\n",
        "inmueble.loc[inmueble.Habitaciones == 110]"
      ],
      "metadata": {
        "colab": {
          "base_uri": "https://localhost:8080/",
          "height": 142
        },
        "id": "ACzTZioRt8Dw",
        "outputId": "9694f904-250b-4400-9bcc-6fdac2c09874"
      },
      "execution_count": null,
      "outputs": [
        {
          "output_type": "execute_result",
          "data": {
            "text/plain": [
              "     Tipo                Descripcion  Habitaciones  Banos  Area    Barrio  \\\n",
              "897  Casa  Casa en venta en La Uribe           110      2   110  La Uribe   \n",
              "\n",
              "         UPZ          Valor Moneda     Precio  Precio_Millon  \n",
              "897  Usaquén  $ 480.000.000      $  480000000         480.00  "
            ],
            "text/html": [
              "\n",
              "  <div id=\"df-9ee1b121-8efd-4e57-b195-afb3c8f33af2\">\n",
              "    <div class=\"colab-df-container\">\n",
              "      <div>\n",
              "<style scoped>\n",
              "    .dataframe tbody tr th:only-of-type {\n",
              "        vertical-align: middle;\n",
              "    }\n",
              "\n",
              "    .dataframe tbody tr th {\n",
              "        vertical-align: top;\n",
              "    }\n",
              "\n",
              "    .dataframe thead th {\n",
              "        text-align: right;\n",
              "    }\n",
              "</style>\n",
              "<table border=\"1\" class=\"dataframe\">\n",
              "  <thead>\n",
              "    <tr style=\"text-align: right;\">\n",
              "      <th></th>\n",
              "      <th>Tipo</th>\n",
              "      <th>Descripcion</th>\n",
              "      <th>Habitaciones</th>\n",
              "      <th>Banos</th>\n",
              "      <th>Area</th>\n",
              "      <th>Barrio</th>\n",
              "      <th>UPZ</th>\n",
              "      <th>Valor</th>\n",
              "      <th>Moneda</th>\n",
              "      <th>Precio</th>\n",
              "      <th>Precio_Millon</th>\n",
              "    </tr>\n",
              "  </thead>\n",
              "  <tbody>\n",
              "    <tr>\n",
              "      <th>897</th>\n",
              "      <td>Casa</td>\n",
              "      <td>Casa en venta en La Uribe</td>\n",
              "      <td>110</td>\n",
              "      <td>2</td>\n",
              "      <td>110</td>\n",
              "      <td>La Uribe</td>\n",
              "      <td>Usaquén</td>\n",
              "      <td>$ 480.000.000</td>\n",
              "      <td>$</td>\n",
              "      <td>480000000</td>\n",
              "      <td>480.00</td>\n",
              "    </tr>\n",
              "  </tbody>\n",
              "</table>\n",
              "</div>\n",
              "      <button class=\"colab-df-convert\" onclick=\"convertToInteractive('df-9ee1b121-8efd-4e57-b195-afb3c8f33af2')\"\n",
              "              title=\"Convert this dataframe to an interactive table.\"\n",
              "              style=\"display:none;\">\n",
              "        \n",
              "  <svg xmlns=\"http://www.w3.org/2000/svg\" height=\"24px\"viewBox=\"0 0 24 24\"\n",
              "       width=\"24px\">\n",
              "    <path d=\"M0 0h24v24H0V0z\" fill=\"none\"/>\n",
              "    <path d=\"M18.56 5.44l.94 2.06.94-2.06 2.06-.94-2.06-.94-.94-2.06-.94 2.06-2.06.94zm-11 1L8.5 8.5l.94-2.06 2.06-.94-2.06-.94L8.5 2.5l-.94 2.06-2.06.94zm10 10l.94 2.06.94-2.06 2.06-.94-2.06-.94-.94-2.06-.94 2.06-2.06.94z\"/><path d=\"M17.41 7.96l-1.37-1.37c-.4-.4-.92-.59-1.43-.59-.52 0-1.04.2-1.43.59L10.3 9.45l-7.72 7.72c-.78.78-.78 2.05 0 2.83L4 21.41c.39.39.9.59 1.41.59.51 0 1.02-.2 1.41-.59l7.78-7.78 2.81-2.81c.8-.78.8-2.07 0-2.86zM5.41 20L4 18.59l7.72-7.72 1.47 1.35L5.41 20z\"/>\n",
              "  </svg>\n",
              "      </button>\n",
              "      \n",
              "  <style>\n",
              "    .colab-df-container {\n",
              "      display:flex;\n",
              "      flex-wrap:wrap;\n",
              "      gap: 12px;\n",
              "    }\n",
              "\n",
              "    .colab-df-convert {\n",
              "      background-color: #E8F0FE;\n",
              "      border: none;\n",
              "      border-radius: 50%;\n",
              "      cursor: pointer;\n",
              "      display: none;\n",
              "      fill: #1967D2;\n",
              "      height: 32px;\n",
              "      padding: 0 0 0 0;\n",
              "      width: 32px;\n",
              "    }\n",
              "\n",
              "    .colab-df-convert:hover {\n",
              "      background-color: #E2EBFA;\n",
              "      box-shadow: 0px 1px 2px rgba(60, 64, 67, 0.3), 0px 1px 3px 1px rgba(60, 64, 67, 0.15);\n",
              "      fill: #174EA6;\n",
              "    }\n",
              "\n",
              "    [theme=dark] .colab-df-convert {\n",
              "      background-color: #3B4455;\n",
              "      fill: #D2E3FC;\n",
              "    }\n",
              "\n",
              "    [theme=dark] .colab-df-convert:hover {\n",
              "      background-color: #434B5C;\n",
              "      box-shadow: 0px 1px 3px 1px rgba(0, 0, 0, 0.15);\n",
              "      filter: drop-shadow(0px 1px 2px rgba(0, 0, 0, 0.3));\n",
              "      fill: #FFFFFF;\n",
              "    }\n",
              "  </style>\n",
              "\n",
              "      <script>\n",
              "        const buttonEl =\n",
              "          document.querySelector('#df-9ee1b121-8efd-4e57-b195-afb3c8f33af2 button.colab-df-convert');\n",
              "        buttonEl.style.display =\n",
              "          google.colab.kernel.accessAllowed ? 'block' : 'none';\n",
              "\n",
              "        async function convertToInteractive(key) {\n",
              "          const element = document.querySelector('#df-9ee1b121-8efd-4e57-b195-afb3c8f33af2');\n",
              "          const dataTable =\n",
              "            await google.colab.kernel.invokeFunction('convertToInteractive',\n",
              "                                                     [key], {});\n",
              "          if (!dataTable) return;\n",
              "\n",
              "          const docLinkHtml = 'Like what you see? Visit the ' +\n",
              "            '<a target=\"_blank\" href=https://colab.research.google.com/notebooks/data_table.ipynb>data table notebook</a>'\n",
              "            + ' to learn more about interactive tables.';\n",
              "          element.innerHTML = '';\n",
              "          dataTable['output_type'] = 'display_data';\n",
              "          await google.colab.output.renderOutput(dataTable, element);\n",
              "          const docLink = document.createElement('div');\n",
              "          docLink.innerHTML = docLinkHtml;\n",
              "          element.appendChild(docLink);\n",
              "        }\n",
              "      </script>\n",
              "    </div>\n",
              "  </div>\n",
              "  "
            ]
          },
          "metadata": {},
          "execution_count": 45
        }
      ]
    },
    {
      "cell_type": "code",
      "source": [
        "inmueble.loc[inmueble.Area == 2]"
      ],
      "metadata": {
        "colab": {
          "base_uri": "https://localhost:8080/",
          "height": 159
        },
        "id": "1LKhG1ctwOsR",
        "outputId": "1790b2ec-d7b5-43fc-9083-539766b30471"
      },
      "execution_count": null,
      "outputs": [
        {
          "output_type": "execute_result",
          "data": {
            "text/plain": [
              "             Tipo                            Descripcion  Habitaciones  Banos  \\\n",
              "8401  Apartamento  Apartamento en venta en San Cristobal             3      1   \n",
              "\n",
              "      Area         Barrio      UPZ          Valor Moneda     Precio  \\\n",
              "8401     2  San Cristobal  Sosiego  $ 180.000.000      $  180000000   \n",
              "\n",
              "      Precio_Millon  \n",
              "8401         180.00  "
            ],
            "text/html": [
              "\n",
              "  <div id=\"df-64e1f2de-7eda-4d5b-827b-718b56c82669\">\n",
              "    <div class=\"colab-df-container\">\n",
              "      <div>\n",
              "<style scoped>\n",
              "    .dataframe tbody tr th:only-of-type {\n",
              "        vertical-align: middle;\n",
              "    }\n",
              "\n",
              "    .dataframe tbody tr th {\n",
              "        vertical-align: top;\n",
              "    }\n",
              "\n",
              "    .dataframe thead th {\n",
              "        text-align: right;\n",
              "    }\n",
              "</style>\n",
              "<table border=\"1\" class=\"dataframe\">\n",
              "  <thead>\n",
              "    <tr style=\"text-align: right;\">\n",
              "      <th></th>\n",
              "      <th>Tipo</th>\n",
              "      <th>Descripcion</th>\n",
              "      <th>Habitaciones</th>\n",
              "      <th>Banos</th>\n",
              "      <th>Area</th>\n",
              "      <th>Barrio</th>\n",
              "      <th>UPZ</th>\n",
              "      <th>Valor</th>\n",
              "      <th>Moneda</th>\n",
              "      <th>Precio</th>\n",
              "      <th>Precio_Millon</th>\n",
              "    </tr>\n",
              "  </thead>\n",
              "  <tbody>\n",
              "    <tr>\n",
              "      <th>8401</th>\n",
              "      <td>Apartamento</td>\n",
              "      <td>Apartamento en venta en San Cristobal</td>\n",
              "      <td>3</td>\n",
              "      <td>1</td>\n",
              "      <td>2</td>\n",
              "      <td>San Cristobal</td>\n",
              "      <td>Sosiego</td>\n",
              "      <td>$ 180.000.000</td>\n",
              "      <td>$</td>\n",
              "      <td>180000000</td>\n",
              "      <td>180.00</td>\n",
              "    </tr>\n",
              "  </tbody>\n",
              "</table>\n",
              "</div>\n",
              "      <button class=\"colab-df-convert\" onclick=\"convertToInteractive('df-64e1f2de-7eda-4d5b-827b-718b56c82669')\"\n",
              "              title=\"Convert this dataframe to an interactive table.\"\n",
              "              style=\"display:none;\">\n",
              "        \n",
              "  <svg xmlns=\"http://www.w3.org/2000/svg\" height=\"24px\"viewBox=\"0 0 24 24\"\n",
              "       width=\"24px\">\n",
              "    <path d=\"M0 0h24v24H0V0z\" fill=\"none\"/>\n",
              "    <path d=\"M18.56 5.44l.94 2.06.94-2.06 2.06-.94-2.06-.94-.94-2.06-.94 2.06-2.06.94zm-11 1L8.5 8.5l.94-2.06 2.06-.94-2.06-.94L8.5 2.5l-.94 2.06-2.06.94zm10 10l.94 2.06.94-2.06 2.06-.94-2.06-.94-.94-2.06-.94 2.06-2.06.94z\"/><path d=\"M17.41 7.96l-1.37-1.37c-.4-.4-.92-.59-1.43-.59-.52 0-1.04.2-1.43.59L10.3 9.45l-7.72 7.72c-.78.78-.78 2.05 0 2.83L4 21.41c.39.39.9.59 1.41.59.51 0 1.02-.2 1.41-.59l7.78-7.78 2.81-2.81c.8-.78.8-2.07 0-2.86zM5.41 20L4 18.59l7.72-7.72 1.47 1.35L5.41 20z\"/>\n",
              "  </svg>\n",
              "      </button>\n",
              "      \n",
              "  <style>\n",
              "    .colab-df-container {\n",
              "      display:flex;\n",
              "      flex-wrap:wrap;\n",
              "      gap: 12px;\n",
              "    }\n",
              "\n",
              "    .colab-df-convert {\n",
              "      background-color: #E8F0FE;\n",
              "      border: none;\n",
              "      border-radius: 50%;\n",
              "      cursor: pointer;\n",
              "      display: none;\n",
              "      fill: #1967D2;\n",
              "      height: 32px;\n",
              "      padding: 0 0 0 0;\n",
              "      width: 32px;\n",
              "    }\n",
              "\n",
              "    .colab-df-convert:hover {\n",
              "      background-color: #E2EBFA;\n",
              "      box-shadow: 0px 1px 2px rgba(60, 64, 67, 0.3), 0px 1px 3px 1px rgba(60, 64, 67, 0.15);\n",
              "      fill: #174EA6;\n",
              "    }\n",
              "\n",
              "    [theme=dark] .colab-df-convert {\n",
              "      background-color: #3B4455;\n",
              "      fill: #D2E3FC;\n",
              "    }\n",
              "\n",
              "    [theme=dark] .colab-df-convert:hover {\n",
              "      background-color: #434B5C;\n",
              "      box-shadow: 0px 1px 3px 1px rgba(0, 0, 0, 0.15);\n",
              "      filter: drop-shadow(0px 1px 2px rgba(0, 0, 0, 0.3));\n",
              "      fill: #FFFFFF;\n",
              "    }\n",
              "  </style>\n",
              "\n",
              "      <script>\n",
              "        const buttonEl =\n",
              "          document.querySelector('#df-64e1f2de-7eda-4d5b-827b-718b56c82669 button.colab-df-convert');\n",
              "        buttonEl.style.display =\n",
              "          google.colab.kernel.accessAllowed ? 'block' : 'none';\n",
              "\n",
              "        async function convertToInteractive(key) {\n",
              "          const element = document.querySelector('#df-64e1f2de-7eda-4d5b-827b-718b56c82669');\n",
              "          const dataTable =\n",
              "            await google.colab.kernel.invokeFunction('convertToInteractive',\n",
              "                                                     [key], {});\n",
              "          if (!dataTable) return;\n",
              "\n",
              "          const docLinkHtml = 'Like what you see? Visit the ' +\n",
              "            '<a target=\"_blank\" href=https://colab.research.google.com/notebooks/data_table.ipynb>data table notebook</a>'\n",
              "            + ' to learn more about interactive tables.';\n",
              "          element.innerHTML = '';\n",
              "          dataTable['output_type'] = 'display_data';\n",
              "          await google.colab.output.renderOutput(dataTable, element);\n",
              "          const docLink = document.createElement('div');\n",
              "          docLink.innerHTML = docLinkHtml;\n",
              "          element.appendChild(docLink);\n",
              "        }\n",
              "      </script>\n",
              "    </div>\n",
              "  </div>\n",
              "  "
            ]
          },
          "metadata": {},
          "execution_count": 46
        }
      ]
    },
    {
      "cell_type": "code",
      "source": [
        "#hist, para saber cual es la frecuencia de una variable\n",
        "inmueble['Precio_Millon'].plot.hist(bins=10)"
      ],
      "metadata": {
        "colab": {
          "base_uri": "https://localhost:8080/",
          "height": 447
        },
        "id": "3kIJqb2jw2N7",
        "outputId": "2692a571-2d8f-4933-f38f-a75007fda970"
      },
      "execution_count": null,
      "outputs": [
        {
          "output_type": "execute_result",
          "data": {
            "text/plain": [
              "<Axes: ylabel='Frequency'>"
            ]
          },
          "metadata": {},
          "execution_count": 47
        },
        {
          "output_type": "display_data",
          "data": {
            "text/plain": [
              "<Figure size 640x480 with 1 Axes>"
            ],
            "image/png": "[encoded data removed]"
          },
          "metadata": {}
        }
      ]
    },
    {
      "cell_type": "code",
      "source": [
        "import matplotlib.pyplot as plt\n",
        "import seaborn as sns\n",
        "#Para instalar los paquete es necesario preparar un lienzo\n",
        "\n",
        "#10 : ancho\n",
        "#8  : altura\n",
        "\n",
        "#hue, hiperparametros\n",
        "plt.figure(figsize=(10,6))\n",
        "grafica=sns.histplot(data=inmueble, x='Precio_Millon', kde=True, hue='Tipo') #kde o curva de densidad\n",
        "grafica.set_title('Distribucion de los valor de los inmuebles en Bogota') \n",
        "plt.xlim((50,1000))\n",
        "#plt.ylim((0,20))\n",
        "plt.savefig('/content/drive/MyDrive/Alura/Inmersiones/Analisis de Datos/valor_inm.pdf',format='pdf')\n",
        "plt.show()"
      ],
      "metadata": {
        "colab": {
          "base_uri": "https://localhost:8080/",
          "height": 564
        },
        "id": "ug2VNVjDzS8E",
        "outputId": "16750a9a-0e0e-4458-d71e-ad6c932c85dc"
      },
      "execution_count": null,
      "outputs": [
        {
          "output_type": "display_data",
          "data": {
            "text/plain": [
              "<Figure size 1000x600 with 1 Axes>"
            ],
            "image/png": "[encoded data removed]"
          },
          "metadata": {}
        }
      ]
    }
  ]
}